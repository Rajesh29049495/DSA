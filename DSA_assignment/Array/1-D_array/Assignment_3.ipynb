{
 "cells": [
  {
   "cell_type": "markdown",
   "id": "6a5a6b1c",
   "metadata": {},
   "source": [
    "**Question 1**\n",
    "Given an integer array nums of length n and an integer target, find three integers\n",
    "in nums such that the sum is closest to the target.\n",
    "Return the sum of the three integers.\n",
    "\n",
    "You may assume that each input would have exactly one solution.\n",
    "\n",
    "Example 1:\n",
    "Input: nums = [-1,2,1,-4], target = 1\n",
    "Output: 2\n",
    "\n",
    "Explanation: The sum that is closest to the target is 2. (-1 + 2 + 1 = 2)."
   ]
  },
  {
   "cell_type": "code",
   "execution_count": 19,
   "id": "10c6c48f",
   "metadata": {},
   "outputs": [
    {
     "data": {
      "text/plain": [
       "2"
      ]
     },
     "execution_count": 19,
     "metadata": {},
     "output_type": "execute_result"
    }
   ],
   "source": [
    "def solution(array, target):\n",
    "    n = len(array)\n",
    "    closest_sum = float('inf')   #keep track of the sum closest to the target. \n",
    "    \n",
    "    for i in range(n):\n",
    "        for j in range(i+1,n):\n",
    "            for k in range(j+1, n):\n",
    "                current_sum = array[i] + array[j] + array[k]\n",
    "                if abs(current_sum-target)<abs(closest_sum-target):\n",
    "                    closest_sum= current_sum\n",
    "    return closest_sum\n",
    "\n",
    "nums = [-1,2,1,-4]\n",
    "solution(nums, 1)\n",
    "        "
   ]
  },
  {
   "cell_type": "markdown",
   "id": "1467c90c",
   "metadata": {},
   "source": [
    "tc = O(n^3), because there are three nested loops iterating over the array, resulting in cubic time complexity.\n",
    "\n",
    "sc = O(1)"
   ]
  },
  {
   "cell_type": "markdown",
   "id": "4b3458e6",
   "metadata": {},
   "source": [
    "**Question 2**\n",
    "Given an array nums of n integers, return an array of all the unique quadruplets\n",
    "[nums[a], nums[b], nums[c], nums[d]] such that:\n",
    "           ● 0 <= a, b, c, d < n\n",
    "           ● a, b, c, and d are distinct.\n",
    "           ● nums[a] + nums[b] + nums[c] + nums[d] == target\n",
    "\n",
    "You may return the answer in any order.\n",
    "\n",
    "Example 1:\n",
    "Input: nums = [1,0,-1,0,-2,2], target = 0\n",
    "Output: [[-2,-1,1,2],[-2,0,0,2],[-1,0,0,1]]"
   ]
  },
  {
   "cell_type": "code",
   "execution_count": 21,
   "id": "11a29f92",
   "metadata": {},
   "outputs": [
    {
     "data": {
      "text/plain": [
       "[[-2, -1, 1, 2], [-2, 0, 0, 2], [-1, 0, 0, 1]]"
      ]
     },
     "execution_count": 21,
     "metadata": {},
     "output_type": "execute_result"
    }
   ],
   "source": [
    "def solution(array, target):\n",
    "    array.sort()\n",
    "    n = len(array)\n",
    "    result = []\n",
    "    \n",
    "    for i in range(n-3):\n",
    "        if i>0 and array[i]==array[i-1]:\n",
    "            continue\n",
    "            \n",
    "        for j in range(i+1, n-2):\n",
    "            if j>i+1 and array[j]==array[j-1]:\n",
    "                continue\n",
    "            \n",
    "            left = j+1\n",
    "            right = n-1\n",
    "            \n",
    "            while left<right:\n",
    "                \n",
    "                sum = array[i]+array[j]+ array[left]+array[right]\n",
    "                \n",
    "                if sum==target:\n",
    "                    result.append([array[i], array[j], array[left], array[right]])\n",
    "                    \n",
    "                    while left<right and array[left]==array[left+1]:\n",
    "                        left =left+1\n",
    "                    while left<right and array[right]==array[right-1]:\n",
    "                        right = right-1\n",
    "                    \n",
    "                    left = left+1\n",
    "                    right= right-1\n",
    "                    \n",
    "                elif sum<target:\n",
    "                    left = left +1\n",
    "                \n",
    "                else:\n",
    "                    right = right-1\n",
    "                    \n",
    "    return result\n",
    "\n",
    "nums = [1,0,-1,0,-2,2]\n",
    "solution(nums, 0)"
   ]
  },
  {
   "cell_type": "markdown",
   "id": "1bf66339",
   "metadata": {},
   "source": [
    "tc = O(n^3) + O(n log n),,,However, in terms of dominant terms, O(n^3) dominates over O(n log n) for large values of n. Hence, we can simplify the time complexity to **O(n^3)**\n",
    "\n",
    "sc = O(n)"
   ]
  },
  {
   "cell_type": "markdown",
   "id": "1c21f970",
   "metadata": {},
   "source": [
    "**Question 4**\n",
    "Given a sorted array of distinct integers and a target value, return the index if the\n",
    "target is found. If not, return the index where it would be if it were inserted in\n",
    "order.\n",
    "\n",
    "You must write an algorithm with O(log n) runtime complexity.\n",
    "\n",
    "Example 1:\n",
    "Input: nums = [1,3,5,6], target = 5\n",
    "Output: 2"
   ]
  },
  {
   "cell_type": "code",
   "execution_count": 33,
   "id": "b5a01ae0",
   "metadata": {},
   "outputs": [
    {
     "data": {
      "text/plain": [
       "3"
      ]
     },
     "execution_count": 33,
     "metadata": {},
     "output_type": "execute_result"
    }
   ],
   "source": [
    "##Using binary search algorithm\n",
    "def search(array, target):\n",
    "    n = len(array)\n",
    "    left =0\n",
    "    right = n-1\n",
    "    \n",
    "    while left<=right:\n",
    "        mid = (left+right)//2\n",
    "        \n",
    "        if array[mid]==target:\n",
    "            return mid\n",
    "        if array[mid]<target:\n",
    "            left = mid +1\n",
    "        elif array[mid]>target:\n",
    "            right = mid-1\n",
    "        \n",
    "    return left                  ###as when the target value not be found an dloop has ended as left became greater than right then th eplace where the target value should hav been is the place where left pointer is or `right+1`\n",
    "\n",
    "nums = [1,3,5,8,9,10]\n",
    "search(nums, 7)"
   ]
  },
  {
   "cell_type": "markdown",
   "id": "de96d05d",
   "metadata": {},
   "source": [
    "tc = O(logn)\n",
    "\n",
    "sc = O(1)"
   ]
  },
  {
   "cell_type": "markdown",
   "id": "d41e4aab",
   "metadata": {},
   "source": [
    "**Question 5**\n",
    "You are given a large integer represented as an integer array digits, where each\n",
    "digits[i] is the ith digit of the integer. The digits are ordered from most significant\n",
    "to least significant in left-to-right order. The large integer does not contain any\n",
    "leading 0's.\n",
    "\n",
    "Increment the large integer by one and return the resulting array of digits.\n",
    "\n",
    "**Example 1:**\n",
    "Input: digits = [1,2,3]\n",
    "Output: [1,2,4]\n",
    "\n",
    "**Explanation:** The array represents the integer 123.\n",
    "Incrementing by one gives 123 + 1 = 124.\n",
    "Thus, the result should be [1,2,4].\n",
    "\n",
    "</aside>"
   ]
  },
  {
   "cell_type": "code",
   "execution_count": 39,
   "id": "a9f107aa",
   "metadata": {},
   "outputs": [
    {
     "data": {
      "text/plain": [
       "[1, 0, 0, 0]"
      ]
     },
     "execution_count": 39,
     "metadata": {},
     "output_type": "execute_result"
    }
   ],
   "source": [
    "def increment_digits(digits):\n",
    "    n = len(digits)\n",
    "    carry = 1  # Set the initial carry to 1\n",
    "    \n",
    "    for i in range(n - 1, -1, -1):\n",
    "        sum = digits[i] + carry\n",
    "        digits[i] = sum % 10  # Update the digit\n",
    "        carry = sum // 10      #update the carry to carry it forward\n",
    "        \n",
    "        # if carry becomes 0, we can stop the loop\n",
    "        if carry == 0:\n",
    "            break\n",
    "    \n",
    "    # if carry still non-zero, we need to insert it as a new digit\n",
    "    if carry != 0:\n",
    "        digits.insert(0, carry)\n",
    "    \n",
    "    return digits\n",
    "\n",
    "array = [9,9,9]\n",
    "increment_digits(array)"
   ]
  },
  {
   "cell_type": "markdown",
   "id": "307e26df",
   "metadata": {},
   "source": [
    "T.C = O(n)\n",
    "\n",
    "S.C. = O(1)"
   ]
  },
  {
   "cell_type": "markdown",
   "id": "d183e270",
   "metadata": {},
   "source": [
    "**Question 6**\n",
    "Given a non-empty array of integers nums, every element appears twice except\n",
    "for one. Find that single one.\n",
    "\n",
    "You must implement a solution with a **linear runtime complexity** and use only\n",
    "**constant extra space**.\n",
    "\n",
    "Example 1:\n",
    "Input: nums = [2,2,1]\n",
    "Output: 1"
   ]
  },
  {
   "cell_type": "markdown",
   "id": "e1a19de9",
   "metadata": {},
   "source": [
    "There are many ways:\n",
    "1. Two pointer approach\n",
    "2. using hashset\n",
    "3. sorting and then iterating\n",
    "but to fullfill the codition of the question tc = O(n) and SC =O(1)\n",
    "we wil use **XOR operation** {using the XOR assignment operator (^=) to perform the XOR operation }"
   ]
  },
  {
   "cell_type": "code",
   "execution_count": 40,
   "id": "35933833",
   "metadata": {},
   "outputs": [
    {
     "data": {
      "text/plain": [
       "1"
      ]
     },
     "execution_count": 40,
     "metadata": {},
     "output_type": "execute_result"
    }
   ],
   "source": [
    "def findSingle(nums):\n",
    "    result = 0\n",
    "    for num in nums:\n",
    "        result ^= num    ##XOR assignment operator (^=) to perform the XOR operation between result and num and store the result back in result.\n",
    "    return result\n",
    "\n",
    "##when we XOR a number with 0, the result is the number itself. when we XOR a number with itself, the result is 0. By XORing all the numbers in the array together, the duplicate elements will cancel each other out, and the result will be the single element that appears only once.\n",
    "\n",
    "nums = [2, 2, 1]\n",
    "findSingle(nums)"
   ]
  },
  {
   "cell_type": "markdown",
   "id": "f0f80929",
   "metadata": {},
   "source": [
    "**Question 7**\n",
    "You are given an inclusive range [lower, upper] and a sorted unique integer array\n",
    "nums, where all elements are within the inclusive range.\n",
    "\n",
    "A number x is considered missing if x is in the range [lower, upper] and x is not in\n",
    "nums.\n",
    "\n",
    "Return the shortest sorted list of ranges that exactly covers all the missing\n",
    "numbers. That is, no element of nums is included in any of the ranges, and each\n",
    "missing number is covered by one of the ranges.\n",
    "\n",
    "Example 1:\n",
    "Input: nums = [0,1,3,50,75], lower = 0, upper = 99\n",
    "Output: [[2,2],[4,49],[51,74],[76,99]]\n",
    "\n",
    "Explanation: The ranges are:\n",
    "[2,2]\n",
    "[4,49]\n",
    "[51,74]\n",
    "[76,99]\n"
   ]
  },
  {
   "cell_type": "code",
   "execution_count": 41,
   "id": "e5ba115d",
   "metadata": {},
   "outputs": [
    {
     "data": {
      "text/plain": [
       "[[2, 2], [4, 49], [51, 74], [76, 99]]"
      ]
     },
     "execution_count": 41,
     "metadata": {},
     "output_type": "execute_result"
    }
   ],
   "source": [
    "def findMissingRanges(nums, lower, upper):\n",
    "    result = []\n",
    "    \n",
    "    # Helper function to add range to the result\n",
    "    def addRange(start, end):\n",
    "        if start == end:\n",
    "            result.append([start, start])\n",
    "        else:\n",
    "            result.append([start, end])\n",
    "    \n",
    "    # Check for missing numbers before the first element\n",
    "    if nums[0] > lower:\n",
    "        addRange(lower, nums[0] - 1)\n",
    "    \n",
    "    # Check for missing numbers between consecutive elements\n",
    "    for i in range(1, len(nums)):\n",
    "        if nums[i] - nums[i-1] > 1:\n",
    "            addRange(nums[i-1] + 1, nums[i] - 1)\n",
    "    \n",
    "    # Check for missing numbers after the last element\n",
    "    if nums[-1] < upper:\n",
    "        addRange(nums[-1] + 1, upper)\n",
    "    \n",
    "    return result\n",
    "\n",
    "nums = [0,1,3,50,75]\n",
    "lower = 0\n",
    "upper = 99\n",
    "findMissingRanges(nums, lower, upper)       "
   ]
  },
  {
   "cell_type": "markdown",
   "id": "a5fb09cd",
   "metadata": {},
   "source": [
    "tc = O(n)\n",
    "\n",
    "SC =O(1)"
   ]
  },
  {
   "cell_type": "markdown",
   "id": "53bffbdc",
   "metadata": {},
   "source": [
    "**Question 8**\n",
    "Given an array of meeting time intervals where intervals[i] = [starti, endi],\n",
    "determine if a person could attend all meetings.\n",
    "\n",
    "Example 1:\n",
    "Input: intervals = [[0,30],[5,10],[15,20]]\n",
    "Output: false"
   ]
  },
  {
   "cell_type": "code",
   "execution_count": 46,
   "id": "02811141",
   "metadata": {},
   "outputs": [
    {
     "data": {
      "text/plain": [
       "False"
      ]
     },
     "execution_count": 46,
     "metadata": {},
     "output_type": "execute_result"
    }
   ],
   "source": [
    "def solution(array):\n",
    "    array.sort(key = lambda x: x[0])  ##sort intervals based on start time\n",
    "    n = len(array)\n",
    "    \n",
    "    #check for overlapping meetings\n",
    "    for i in range(1, n):\n",
    "        if intervals[i][0]< intervals[i-1][1]:\n",
    "            return False\n",
    "    return True\n",
    "\n",
    "intervals = [[0,30],[5,10],[15,20]]\n",
    "solution(intervals)"
   ]
  },
  {
   "cell_type": "markdown",
   "id": "91f292a0",
   "metadata": {},
   "source": [
    "tc = O(nlogn)\n",
    "\n",
    "sc = O(1)"
   ]
  },
  {
   "cell_type": "code",
   "execution_count": null,
   "id": "2fafe2a1",
   "metadata": {},
   "outputs": [],
   "source": []
  }
 ],
 "metadata": {
  "kernelspec": {
   "display_name": "Python 3 (ipykernel)",
   "language": "python",
   "name": "python3"
  },
  "language_info": {
   "codemirror_mode": {
    "name": "ipython",
    "version": 3
   },
   "file_extension": ".py",
   "mimetype": "text/x-python",
   "name": "python",
   "nbconvert_exporter": "python",
   "pygments_lexer": "ipython3",
   "version": "3.9.12"
  }
 },
 "nbformat": 4,
 "nbformat_minor": 5
}
