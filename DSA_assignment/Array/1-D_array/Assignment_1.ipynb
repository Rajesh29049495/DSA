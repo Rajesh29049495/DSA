{
 "cells": [
  {
   "cell_type": "markdown",
   "id": "3052dca5",
   "metadata": {},
   "source": [
    "<aside>\n",
    "💡 **Q1.** Given an array of integers nums and an integer target, return indices of the two numbers such that they add up to target.\n",
    "\n",
    "You may assume that each input would have exactly one solution, and you may not use the same element twice.\n",
    "\n",
    "You can return the answer in any order.\n",
    "\n",
    "**Example:**\n",
    "Input: nums = [2,7,11,15], target = 9\n",
    "Output0 [0,1]\n",
    "\n",
    "**Explanation:** Because nums[0] + nums[1] == 9, we return [0, 1][\n",
    "\n",
    "</aside>"
   ]
  },
  {
   "cell_type": "code",
   "execution_count": 10,
   "id": "808e50b7",
   "metadata": {},
   "outputs": [
    {
     "data": {
      "text/plain": [
       "[[0, 1]]"
      ]
     },
     "execution_count": 10,
     "metadata": {},
     "output_type": "execute_result"
    }
   ],
   "source": [
    "def target_sum(array, target):\n",
    "    sorted_array = sorted(array)\n",
    "    n = len(sorted_array)\n",
    "    left = 0\n",
    "    right= n-1\n",
    "    result = []\n",
    "    while left<=right:\n",
    "        if sorted_array[left]+ sorted_array[right]== target:\n",
    "            if [left, right] not in result:\n",
    "                result.append([left, right])\n",
    "                left = left +1\n",
    "                right = right-1\n",
    "            else:\n",
    "                left = left +1\n",
    "                right = right-1\n",
    "        elif sorted_array[left]+ sorted_array[right]< target:\n",
    "            left = left +1\n",
    "        else:\n",
    "            right = right-1\n",
    "    return result\n",
    "\n",
    "array = [2,7,11,15]\n",
    "target_sum(array, 9)\n",
    "        "
   ]
  },
  {
   "cell_type": "markdown",
   "id": "b5e03c20",
   "metadata": {},
   "source": [
    "T.C= O(nlogn)+O(n)= O(nlogn)\n",
    "\n",
    "S.C = O(n)  {as formed sorted array which also has n elements}"
   ]
  },
  {
   "cell_type": "code",
   "execution_count": 12,
   "id": "f4e76c2f",
   "metadata": {},
   "outputs": [
    {
     "data": {
      "text/plain": [
       "[[1, 0]]"
      ]
     },
     "execution_count": 12,
     "metadata": {},
     "output_type": "execute_result"
    }
   ],
   "source": [
    "def target_sum(array, target):\n",
    "    n = len(array)\n",
    "    hashset = set()\n",
    "    result = []\n",
    "    for i in range(n):\n",
    "        compliment = target - array[i]\n",
    "        if compliment in hashset:\n",
    "            result.append([i, array.index(compliment)])\n",
    "        hashset.add(array[i])\n",
    "    return result\n",
    "\n",
    "array = [2,7,11,15]\n",
    "target_sum(array, 9)"
   ]
  },
  {
   "cell_type": "markdown",
   "id": "9cb32640",
   "metadata": {},
   "source": [
    "T.C. = O(n)\n",
    "\n",
    "S.C. = O(n)"
   ]
  },
  {
   "cell_type": "markdown",
   "id": "c16cefb7",
   "metadata": {},
   "source": [
    "<aside>\n",
    "💡 **Q2.** Given an integer array nums and an integer val, remove all occurrences of val in nums in-place. The order of the elements may be changed. Then return the number of elements in nums which are not equal to val.\n",
    "\n",
    "Consider the number of elements in nums which are not equal to val be k, to get accepted, you need to do the following things:\n",
    "\n",
    "- Change the array nums such that the first k elements of nums contain the elements which are not equal to val. The remaining elements of nums are not important as well as the size of nums.\n",
    "- Return k.\n",
    "\n",
    "**Example :**\n",
    "Input: nums = [3,2,2,3], val = 3\n",
    "Output: 2, nums = [2,2,_*,_*]\n",
    "\n",
    "**Explanation:** Your function should return k = 2, with the first two elements of nums being 2. It does not matter what you leave beyond the returned k (hence they are underscores)[\n",
    "\n",
    "</aside>"
   ]
  },
  {
   "cell_type": "code",
   "execution_count": 14,
   "id": "3f6cf8a7",
   "metadata": {},
   "outputs": [
    {
     "data": {
      "text/plain": [
       "'number of elements not equal to 2 is 3'"
      ]
     },
     "execution_count": 14,
     "metadata": {},
     "output_type": "execute_result"
    }
   ],
   "source": [
    "def remove_val(nums, val):\n",
    "    i =0\n",
    "    for num in nums:\n",
    "        if num!= val:\n",
    "            nums[i]= num\n",
    "            i = i+1\n",
    "    return f\"number of elements not equal to {val} is {i}\"\n",
    "\n",
    "array=[1,2,2,2,3,4]\n",
    "remove_val(array, 2)\n",
    "            "
   ]
  },
  {
   "cell_type": "markdown",
   "id": "c7283663",
   "metadata": {},
   "source": [
    "T.c = O(n)\n",
    "\n",
    "S.C = O(1)"
   ]
  },
  {
   "cell_type": "markdown",
   "id": "be036833",
   "metadata": {},
   "source": [
    "<aside>\n",
    "💡 **Q3.** Given a sorted array of distinct integers and a target value, return the index if the target is found. If not, return the index where it would be if it were inserted in order.\n",
    "\n",
    "You must write an algorithm with O(log n) runtime complexity.\n",
    "\n",
    "**Example 1:**\n",
    "Input: nums = [1,3,5,6], target = 5\n",
    "\n",
    "Output: 2\n",
    "\n",
    "</aside>"
   ]
  },
  {
   "cell_type": "code",
   "execution_count": 21,
   "id": "38882874",
   "metadata": {},
   "outputs": [
    {
     "data": {
      "text/plain": [
       "6"
      ]
     },
     "execution_count": 21,
     "metadata": {},
     "output_type": "execute_result"
    }
   ],
   "source": [
    "def find_val(nums, target):\n",
    "    n = len(nums)\n",
    "    left = 0\n",
    "    right = n-1\n",
    "    while left<=right:\n",
    "        if nums[left]==target:\n",
    "            return left\n",
    "        elif nums[right]==target:\n",
    "            return right\n",
    "            \n",
    "        mid = (left+right)//2\n",
    "        if nums[mid]==target:\n",
    "            return mid\n",
    "        elif nums[mid]<target:\n",
    "            left = mid+1\n",
    "        else:\n",
    "            right =mid-1\n",
    "    \n",
    "    return left+1    ##or right+1,,,,because if the loop exhausted and target still not found then in sorted array it will founf at index value `1` greater than where it is\n",
    "\n",
    "array= [1,4,7,8,10,15]\n",
    "find_val(array, 13)"
   ]
  },
  {
   "cell_type": "markdown",
   "id": "5d4bdf4f",
   "metadata": {},
   "source": [
    "T.C. = O(log n)   {code uses binary search to find the target value in the sorted array, hence timec compleity is O(log n)}\n",
    "\n",
    "S.C. = O(1)\n"
   ]
  },
  {
   "cell_type": "markdown",
   "id": "4c81fa33",
   "metadata": {},
   "source": [
    "<aside>\n",
    "💡 **Q4.** You are given a large integer represented as an integer array digits, where each digits[i] is the ith digit of the integer. The digits are ordered from most significant to least significant in left-to-right order. The large integer does not contain any leading 0's.\n",
    "\n",
    "Increment the large integer by one and return the resulting array of digits.\n",
    "\n",
    "**Example 1:**\n",
    "Input: digits = [1,2,3]\n",
    "Output: [1,2,4]\n",
    "\n",
    "**Explanation:** The array represents the integer 123.\n",
    "\n",
    "Incrementing by one gives 123 + 1 = 124.\n",
    "Thus, the result should be [1,2,4].\n",
    "\n",
    "</aside>"
   ]
  },
  {
   "cell_type": "code",
   "execution_count": 45,
   "id": "5a5f3924",
   "metadata": {},
   "outputs": [
    {
     "data": {
      "text/plain": [
       "[1, 0, 0, 0]"
      ]
     },
     "execution_count": 45,
     "metadata": {},
     "output_type": "execute_result"
    }
   ],
   "source": [
    "def increment_digits(digits):\n",
    "    n = len(digits)\n",
    "    carry = 1  # Set the initial carry to 1\n",
    "    \n",
    "    for i in range(n - 1, -1, -1):\n",
    "        sum = digits[i] + carry\n",
    "        digits[i] = sum % 10  # Update the digit\n",
    "        carry = sum // 10      #update the carry to carry it forward\n",
    "        \n",
    "        # if carry becomes 0, we can stop the loop\n",
    "        if carry == 0:\n",
    "            break\n",
    "    \n",
    "    # if carry still non-zero, we need to insert it as a new digit\n",
    "    if carry != 0:\n",
    "        digits.insert(0, carry)\n",
    "    \n",
    "    return digits\n",
    "\n",
    "array = [9,9,9]\n",
    "increment_digits(array)"
   ]
  },
  {
   "cell_type": "markdown",
   "id": "e7baf5f4",
   "metadata": {},
   "source": [
    "T.C = O(n)\n",
    "\n",
    "S.C. = O(1)"
   ]
  },
  {
   "cell_type": "markdown",
   "id": "b6d0699a",
   "metadata": {},
   "source": [
    "<aside>\n",
    "💡 **Q5.** You are given two integer arrays nums1 and nums2, sorted in non-decreasing order, and two integers m and n, representing the number of elements in nums1 and nums2 respectively.\n",
    "\n",
    "Merge nums1 and nums2 into a single array sorted in non-decreasing order.\n",
    "\n",
    "The final sorted array should not be returned by the function, but instead be stored inside the array nums1. To accommodate this, nums1 has a length of m + n, where the first m elements denote the elements that should be merged, and the last n elements are set to 0 and should be ignored. nums2 has a length of n.\n",
    "\n",
    "**Example 1:**\n",
    "Input: nums1 = [1,2,3,0,0,0], m = 3, nums2 = [2,5,6], n = 3\n",
    "Output: [1,2,2,3,5,6]\n",
    "\n",
    "**Explanation:** The arrays we are merging are [1,2,3] and [2,5,6].\n",
    "The result of the merge is [1,2,2,3,5,6] with the underlined elements coming from nums1.\n",
    "\n",
    "</aside>"
   ]
  },
  {
   "cell_type": "code",
   "execution_count": 46,
   "id": "ff0f94cc",
   "metadata": {},
   "outputs": [
    {
     "data": {
      "text/plain": [
       "[1, 2, 2, 3, 5, 6]"
      ]
     },
     "execution_count": 46,
     "metadata": {},
     "output_type": "execute_result"
    }
   ],
   "source": [
    "def merge(nums1, m, nums2, n):\n",
    "    nums1Copy = nums1[:m]\n",
    "    p1, p2 = 0, 0\n",
    "    p = 0\n",
    "\n",
    "    while p1 < m and p2 < n:\n",
    "        if nums1Copy[p1] <= nums2[p2]:\n",
    "            nums1[p] = nums1Copy[p1]\n",
    "            p1 += 1\n",
    "        else:\n",
    "            nums1[p] = nums2[p2]\n",
    "            p2 += 1\n",
    "        p += 1\n",
    "\n",
    "    # Copy any remaining elements from nums1Copy\n",
    "    while p1 < m:\n",
    "        nums1[p] = nums1Copy[p1]\n",
    "        p1 += 1\n",
    "        p += 1\n",
    "\n",
    "    # Copy any remaining elements from nums2\n",
    "    while p2 < n:\n",
    "        nums1[p] = nums2[p2]\n",
    "        p2 += 1\n",
    "        p += 1\n",
    "    return nums1\n",
    "\n",
    "\n",
    "nums1= [1,2,3,0,0,0]\n",
    "nums2 = [2,5,6]\n",
    "merge(nums1, 3, nums2, 3)"
   ]
  },
  {
   "cell_type": "markdown",
   "id": "051155b5",
   "metadata": {},
   "source": [
    "<aside>\n",
    "💡 **Q6.** Given an integer array nums, return true if any value appears at least twice in the array, and return false if every element is distinct.\n",
    "\n",
    "**Example 1:**\n",
    "Input: nums = [1,2,3,1]\n",
    "\n",
    "Output: true\n",
    "\n",
    "</aside>"
   ]
  },
  {
   "cell_type": "code",
   "execution_count": 51,
   "id": "4e38f887",
   "metadata": {},
   "outputs": [
    {
     "data": {
      "text/plain": [
       "True"
      ]
     },
     "execution_count": 51,
     "metadata": {},
     "output_type": "execute_result"
    }
   ],
   "source": [
    "def atleast_twice(nums):\n",
    "    n = len(nums)\n",
    "    d = {}\n",
    "    for i in range(n):\n",
    "        if nums[i] in d.keys():\n",
    "            d[nums[i]]= d[nums[i]]+1\n",
    "        else:\n",
    "            d[nums[i]]= 1\n",
    "    for i in d.values():\n",
    "         if i ==2:\n",
    "                return True\n",
    "    return False\n",
    "\n",
    "array =[1,2,4,4]\n",
    "atleast_twice(array)"
   ]
  },
  {
   "cell_type": "markdown",
   "id": "7f192056",
   "metadata": {},
   "source": [
    "T.C. = O(n)\n",
    "\n",
    "S.C. = O(n)  ##as we created a dictionary"
   ]
  },
  {
   "cell_type": "markdown",
   "id": "ecc9d009",
   "metadata": {},
   "source": [
    "<aside>\n",
    "💡 **Q7.** Given an integer array nums, move all 0's to the end of it while maintaining the relative order of the nonzero elements.\n",
    "\n",
    "Note that you must do this in-place without making a copy of the array.\n",
    "\n",
    "**Example 1:**\n",
    "Input: nums = [0,1,0,3,12]\n",
    "Output: [1,3,12,0,0]\n",
    "\n",
    "</aside>"
   ]
  },
  {
   "cell_type": "code",
   "execution_count": 59,
   "id": "54959d2f",
   "metadata": {},
   "outputs": [
    {
     "data": {
      "text/plain": [
       "[1, 3, 1, 2, 0, 0]"
      ]
     },
     "execution_count": 59,
     "metadata": {},
     "output_type": "execute_result"
    }
   ],
   "source": [
    "def move_zeros(nums):\n",
    "    n = len(nums)\n",
    "    i = 0  # Index to track the position to place nonzero elements\n",
    "    \n",
    "    # Iterate through the array and move nonzero elements to the front\n",
    "    for j in range(n):\n",
    "        if nums[j] != 0:\n",
    "            nums[i] = nums[j]\n",
    "            i += 1\n",
    "    \n",
    "    # Fill the remaining elements with zeros,\n",
    "    for k in range(i, n):\n",
    "        nums[k] = 0\n",
    "    \n",
    "    return nums\n",
    "\n",
    "nums= [0,1,0,3,1,2]\n",
    "move_zeros(nums)\n",
    "        "
   ]
  },
  {
   "cell_type": "markdown",
   "id": "cb81aac3",
   "metadata": {},
   "source": [
    "T.C. = O(n)\n",
    "\n",
    "S.C. = O(1)"
   ]
  },
  {
   "cell_type": "markdown",
   "id": "224c64aa",
   "metadata": {},
   "source": [
    "<aside>\n",
    "💡 **Q8.** You have a set of integers s, which originally contains all the numbers from 1 to n. Unfortunately, due to some error, one of the numbers in s got duplicated to another number in the set, which results in repetition of one number and loss of another number.\n",
    "\n",
    "You are given an integer array nums representing the data status of this set after the error.\n",
    "\n",
    "Find the number that occurs twice and the number that is missing and return them in the form of an array.\n",
    "\n",
    "**Example 1:**\n",
    "Input: nums = [1,2,2,4]\n",
    "Output: [2,3]\n",
    "\n",
    "</aside>"
   ]
  },
  {
   "cell_type": "code",
   "execution_count": 67,
   "id": "149ab8be",
   "metadata": {},
   "outputs": [
    {
     "data": {
      "text/plain": [
       "[[2, 3], [4, 5], [10, 11]]"
      ]
     },
     "execution_count": 67,
     "metadata": {},
     "output_type": "execute_result"
    }
   ],
   "source": [
    "def solution(array):\n",
    "    array = sorted(array)\n",
    "    n = len(array)\n",
    "    d =set()\n",
    "    l = []\n",
    "    for i in range(n):\n",
    "        if array[i] in d:\n",
    "            l.append([array[i], (array[i-1]+1)])\n",
    "        else:\n",
    "            d.add(array[i])\n",
    "            \n",
    "    return l\n",
    "\n",
    "nums =  [1,2,4,2, 4, 7, 10, 6, 8, 10]\n",
    "solution(nums)"
   ]
  },
  {
   "cell_type": "markdown",
   "id": "65fe044e",
   "metadata": {},
   "source": [
    "T.C. = O(n log n)+ O(n)= O(nlogn)\n",
    "\n",
    "S.C. = O(n)+ O(n)= O(n)  {asymptotically}"
   ]
  },
  {
   "cell_type": "code",
   "execution_count": null,
   "id": "bd374e6a",
   "metadata": {},
   "outputs": [],
   "source": []
  }
 ],
 "metadata": {
  "kernelspec": {
   "display_name": "Python 3 (ipykernel)",
   "language": "python",
   "name": "python3"
  },
  "language_info": {
   "codemirror_mode": {
    "name": "ipython",
    "version": 3
   },
   "file_extension": ".py",
   "mimetype": "text/x-python",
   "name": "python",
   "nbconvert_exporter": "python",
   "pygments_lexer": "ipython3",
   "version": "3.9.12"
  }
 },
 "nbformat": 4,
 "nbformat_minor": 5
}
