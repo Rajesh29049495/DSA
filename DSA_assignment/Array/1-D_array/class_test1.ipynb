{
 "cells": [
  {
   "cell_type": "markdown",
   "id": "84e0c167",
   "metadata": {},
   "source": [
    "Move Zeroes\n",
    "Given an integer array nums, move all 0's to the end of it while maintaining the relative order of the non-zero elements.\n",
    "\n",
    "Note that you must do this in-place without making a copy of the array.\n",
    "\n",
    "Example 1:\n",
    "Input: nums = [0,1,0,3,12]\n",
    "Output: [1,3,12,0,0]\n",
    "\n",
    "Example 2:\n",
    "Input: nums = [0]\n",
    "Output: [0]\n",
    "\n",
    "Constraints:\n",
    "a. 1 <= nums.length <= 10^4\n",
    "b. -2^31 <= nums[i] <= 2^31 - 1\n",
    "\n",
    "Note: Create a GitHub file for the solution and add the file link the the answer section below."
   ]
  },
  {
   "cell_type": "code",
   "execution_count": 5,
   "id": "503f3d67",
   "metadata": {},
   "outputs": [
    {
     "data": {
      "text/plain": [
       "[1, 3, 1, 2, 0, 0]"
      ]
     },
     "execution_count": 5,
     "metadata": {},
     "output_type": "execute_result"
    }
   ],
   "source": [
    "def move_zeros(nums):\n",
    "    n = len(nums)\n",
    "    i = 0  \n",
    "    \n",
    "    for j in range(n):\n",
    "        if nums[j] != 0:\n",
    "            nums[i] = nums[j]\n",
    "            i += 1\n",
    "    \n",
    "    for k in range(i, n):\n",
    "        nums[k] = 0\n",
    "    \n",
    "    return nums\n",
    "\n",
    "nums= [0,1,0,3,1,2]\n",
    "move_zeros(nums)\n",
    "        "
   ]
  },
  {
   "cell_type": "code",
   "execution_count": null,
   "id": "25f3e319",
   "metadata": {},
   "outputs": [],
   "source": []
  }
 ],
 "metadata": {
  "kernelspec": {
   "display_name": "Python 3 (ipykernel)",
   "language": "python",
   "name": "python3"
  },
  "language_info": {
   "codemirror_mode": {
    "name": "ipython",
    "version": 3
   },
   "file_extension": ".py",
   "mimetype": "text/x-python",
   "name": "python",
   "nbconvert_exporter": "python",
   "pygments_lexer": "ipython3",
   "version": "3.9.12"
  }
 },
 "nbformat": 4,
 "nbformat_minor": 5
}
