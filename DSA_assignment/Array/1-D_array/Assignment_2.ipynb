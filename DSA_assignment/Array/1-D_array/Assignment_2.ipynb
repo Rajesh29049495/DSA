{
 "cells": [
  {
   "cell_type": "markdown",
   "id": "8f6aeda9",
   "metadata": {},
   "source": [
    "<aside>\n",
    "💡 **Question 1**\n",
    "Given an integer array nums of 2n integers, group these integers into n pairs (a1, b1), (a2, b2),..., (an, bn) such that the sum of min(ai, bi) for all i is maximized. Return the maximized sum.\n",
    "\n",
    "**Example 1:**\n",
    "Input: nums = [1,4,3,2]\n",
    "Output: 4\n",
    "\n",
    "**Explanation:** All possible pairings (ignoring the ordering of elements) are:\n",
    "\n",
    "1. (1, 4), (2, 3) -> min(1, 4) + min(2, 3) = 1 + 2 = 3\n",
    "2. (1, 3), (2, 4) -> min(1, 3) + min(2, 4) = 1 + 2 = 3\n",
    "3. (1, 2), (3, 4) -> min(1, 2) + min(3, 4) = 1 + 3 = 4\n",
    "So the maximum possible sum is 4\n",
    "</aside>"
   ]
  },
  {
   "cell_type": "code",
   "execution_count": 2,
   "id": "f697f381",
   "metadata": {},
   "outputs": [
    {
     "name": "stdout",
     "output_type": "stream",
     "text": [
      "16\n"
     ]
    }
   ],
   "source": [
    "def array_pair_sum(nums):\n",
    "    nums.sort()  # first sort in ascending order\n",
    "    pair_sum = 0\n",
    "    \n",
    "    # Sum the alternate numbers starting from index 0, basically paiting of consecutive numbers done, then out of those pairs, the sum of all the minimum will be maximum \n",
    "    for i in range(0, len(nums), 2):\n",
    "        pair_sum += nums[i]\n",
    "    \n",
    "    return pair_sum\n",
    "\n",
    "nums = [1, 4, 3, 2, 5, 6, 7, 8]\n",
    "result = array_pair_sum(nums)\n",
    "print(result)"
   ]
  },
  {
   "cell_type": "markdown",
   "id": "46b5686d",
   "metadata": {},
   "source": [
    "T.C. = O(n logn)\n",
    "\n",
    "S.C. = O(1)"
   ]
  },
  {
   "cell_type": "markdown",
   "id": "4d4bfa04",
   "metadata": {},
   "source": [
    "Question 2\n",
    "Alice has n candies, where the ith candy is of type candyType[i]. Alice noticed that she started to gain weight, so she visited a doctor. \n",
    "\n",
    "The doctor advised Alice to only eat n / 2 of the candies she has (n is always even). Alice likes her candies very much, and she wants to eat the maximum number of different types of candies while still following the doctor's advice. \n",
    "\n",
    "Given the integer array candyType of length n, return the maximum number of different types of candies she can eat if she only eats n / 2 of them.\n",
    "\n",
    "Example 1:\n",
    "Input: candyType = [1,1,2,2,3,3]\n",
    "Output: 3\n",
    "\n",
    "Explanation: Alice can only eat 6 / 2 = 3 candies. Since there are only 3 types, she can eat one of each type."
   ]
  },
  {
   "cell_type": "code",
   "execution_count": 3,
   "id": "daa8d145",
   "metadata": {},
   "outputs": [
    {
     "data": {
      "text/plain": [
       "3"
      ]
     },
     "execution_count": 3,
     "metadata": {},
     "output_type": "execute_result"
    }
   ],
   "source": [
    "def candytype(array):\n",
    "    n = len(array)\n",
    "    hashset= set()\n",
    "    count =0\n",
    "    \n",
    "    for i in range(n):\n",
    "        if array[i] in hashset:\n",
    "            pass\n",
    "        else:\n",
    "            hashset.add(array[i])\n",
    "            count = count +1\n",
    "    \n",
    "    return count\n",
    "\n",
    "\n",
    "candyType = [1,1,2,2,3,3]\n",
    "candytype(candyType)\n",
    "            \n",
    "    "
   ]
  },
  {
   "cell_type": "markdown",
   "id": "35bde508",
   "metadata": {},
   "source": [
    "tc = O(n)\n",
    "\n",
    "sc = O(n)"
   ]
  },
  {
   "cell_type": "markdown",
   "id": "2cbc0ec3",
   "metadata": {},
   "source": [
    "Question 3\n",
    "We define a harmonious array as an array where the difference between its maximum value\n",
    "and its minimum value is exactly 1.\n",
    "\n",
    "Given an integer array nums, return the length of its longest harmonious subsequence\n",
    "among all its possible subsequences.\n",
    "\n",
    "A subsequence of an array is a sequence that can be derived from the array by deleting some or no elements without changing the order of the remaining elements.\n",
    "\n",
    "Example 1:\n",
    "Input: nums = [1,3,2,2,5,2,3,7]\n",
    "Output: 5\n",
    "\n",
    "Explanation: The longest harmonious subsequence is [3,2,2,2,3]."
   ]
  },
  {
   "cell_type": "code",
   "execution_count": 10,
   "id": "4f5a2663",
   "metadata": {},
   "outputs": [
    {
     "data": {
      "text/plain": [
       "[3, 2, 2, 2, 3]"
      ]
     },
     "execution_count": 10,
     "metadata": {},
     "output_type": "execute_result"
    }
   ],
   "source": [
    "def harmonious(array):\n",
    "    n= len(array)\n",
    "    d={}\n",
    "    for i in range(n):\n",
    "        li = [array[i]]\n",
    "        for j in range(i+1, n):\n",
    "            if abs(array[i]-array[j])<=1:\n",
    "                    li.append(array[j])\n",
    "        d[len(li)]=li\n",
    "      \n",
    "    return d[max(d.keys())]\n",
    "\n",
    "\n",
    "nums = [1,3,2,2,5,2,3,7]                    \n",
    "harmonious(nums)"
   ]
  },
  {
   "cell_type": "markdown",
   "id": "d2cb199a",
   "metadata": {},
   "source": [
    "tc = O(n)\n",
    "\n",
    "sc = O(n)   {worst case senarion if each number form a unique harmoniuos pair, ie., every number unique with no differenc of 1, so in that case it would be of O(n)}"
   ]
  },
  {
   "cell_type": "markdown",
   "id": "efd3167a",
   "metadata": {},
   "source": [
    "Question 4\n",
    "You have a long flowerbed in which some of the plots are planted, and some are not.\n",
    "However, flowers cannot be planted in adjacent plots.\n",
    "Given an integer array flowerbed containing 0's and 1's, where 0 means empty and 1 means not empty, and an integer n, return true if n new flowers can be planted in the flowerbed without violating the no-adjacent-flowers rule and false otherwise.\n",
    "\n",
    "Example 1:\n",
    "Input: flowerbed = [1,0,0,0,1], n = 1\n",
    "Output: true"
   ]
  },
  {
   "cell_type": "code",
   "execution_count": 39,
   "id": "658d77ba",
   "metadata": {},
   "outputs": [
    {
     "data": {
      "text/plain": [
       "True"
      ]
     },
     "execution_count": 39,
     "metadata": {},
     "output_type": "execute_result"
    }
   ],
   "source": [
    "def can_place_flowers(flowerbed, n):\n",
    "    count = 0\n",
    "    size = len(flowerbed)\n",
    "    i = 0\n",
    "    \n",
    "    while i < size:\n",
    "        if flowerbed[i] == 0 and (i == 0 or flowerbed[i-1] == 0) and (i == size-1 or flowerbed[i+1] == 0):    ##if the current element is 0 and to its left there is nothing {when the current index =0 or if not 0 then to its left `i-1` there is nothing} and when the current index i steh last one or if not then to its right there is nothing\n",
    "            flowerbed[i] = 1\n",
    "            count += 1\n",
    "        if count >= n:\n",
    "            return True\n",
    "        i += 1\n",
    "    \n",
    "    return False\n",
    "\n",
    "flowerbed = [1,0,0,0,1, 0, 0, 0, 0]\n",
    "can_place_flowers(flowerbed, 3)\n"
   ]
  },
  {
   "cell_type": "markdown",
   "id": "2dad5c51",
   "metadata": {},
   "source": [
    "tc = O(n)\n",
    "\n",
    "sc = O(1) "
   ]
  },
  {
   "cell_type": "markdown",
   "id": "53df6838",
   "metadata": {},
   "source": [
    "Question 5\n",
    "Given an integer array nums, find three numbers whose product is maximum and return the maximum product.\n",
    "\n",
    "Example 1:\n",
    "Input: nums = [1,2,3]\n",
    "Output: 6"
   ]
  },
  {
   "cell_type": "code",
   "execution_count": 19,
   "id": "5d7e60ea",
   "metadata": {},
   "outputs": [
    {
     "data": {
      "text/plain": [
       "6"
      ]
     },
     "execution_count": 19,
     "metadata": {},
     "output_type": "execute_result"
    }
   ],
   "source": [
    "def max_prod(array):\n",
    "    array.sort()\n",
    "    product1= array[-1]*array[-2]*array[-3]   ##after sorting obviously maximum would be at last\n",
    "    product2= array[0]*array[1]*array[-1]     ##in some cases if there are negative integers then,  the case when starting two integres are negative then multiplying them and the last maximum one could give maximum product\n",
    "    \n",
    "    return max(product1, product2)\n",
    "\n",
    "\n",
    "    \n",
    "nums = [1,2,3] \n",
    "max_prod(nums)"
   ]
  },
  {
   "cell_type": "markdown",
   "id": "5224bca6",
   "metadata": {},
   "source": [
    "tc = O(nlogn)\n",
    "\n",
    "Sc = O(1)"
   ]
  },
  {
   "cell_type": "markdown",
   "id": "b79660fc",
   "metadata": {},
   "source": [
    "Question 6\n",
    "Given an array of integers nums which is sorted in ascending order, and an integer target,\n",
    "write a function to search target in nums. If target exists, then return its index. Otherwise,\n",
    "return -1.\n",
    "\n",
    "You must write an algorithm with O(log n) runtime complexity.\n",
    "\n",
    "Input: nums = [-1,0,3,5,9,12], target = 9\n",
    "Output: 4\n",
    "\n",
    "Explanation: 9 exists in nums and its index is 4"
   ]
  },
  {
   "cell_type": "markdown",
   "id": "eebb9bb7",
   "metadata": {},
   "source": [
    "**Binary Search**"
   ]
  },
  {
   "cell_type": "code",
   "execution_count": 23,
   "id": "fee1d7f3",
   "metadata": {},
   "outputs": [
    {
     "data": {
      "text/plain": [
       "4"
      ]
     },
     "execution_count": 23,
     "metadata": {},
     "output_type": "execute_result"
    }
   ],
   "source": [
    "##to solve this problem with O(log n) runtime complexity, we can use the binary search algorithm since the input array is sorted.\n",
    "def target(array, target):\n",
    "    n = len(array)\n",
    "    left = 0\n",
    "    right = n-1\n",
    "    \n",
    "    while left <=right:\n",
    "        mid = (left+right)//2\n",
    "        if array[mid]==target:\n",
    "            return mid\n",
    "        elif array[mid]<target:\n",
    "            left = mid+1\n",
    "        else:\n",
    "            right = mid-1\n",
    "        \n",
    "    return -1\n",
    "\n",
    "nums= [-1,0,3,5,9,12]\n",
    "target(nums, 9)\n",
    "    "
   ]
  },
  {
   "cell_type": "markdown",
   "id": "ec8b82f3",
   "metadata": {},
   "source": [
    "Question 7\n",
    "An array is monotonic if it is either monotone increasing or monotone decreasing.\n",
    "\n",
    "An array nums is monotone increasing if for all i <= j, nums[i] <= nums[j]. An array nums is\n",
    "monotone decreasing if for all i <= j, nums[i] >= nums[j].\n",
    "\n",
    "Given an integer array nums, return true if the given array is monotonic, or false otherwise.\n",
    "\n",
    "Example 1:\n",
    "Input: nums = [1,2,2,3]\n",
    "Output: true"
   ]
  },
  {
   "cell_type": "code",
   "execution_count": 31,
   "id": "4709b5b6",
   "metadata": {},
   "outputs": [
    {
     "data": {
      "text/plain": [
       "False"
      ]
     },
     "execution_count": 31,
     "metadata": {},
     "output_type": "execute_result"
    }
   ],
   "source": [
    "def monotonic(array):\n",
    "    n = len(array)\n",
    "    result = True\n",
    "    if array[0]<=array[1] and array[1]<=array[2]:\n",
    "        for i in range(2, n):\n",
    "            j = i+1\n",
    "            if j ==n:\n",
    "                break\n",
    "            else:\n",
    "                if array[i]>array[j]:\n",
    "                    result = False\n",
    "                    return result\n",
    "                elif array[i]<=array[j]:\n",
    "                    return result\n",
    "    elif array[0]>=array[1] and array[1]>=array[2]:\n",
    "        for i in range(2, n):\n",
    "            j = i+1\n",
    "            if j ==n:\n",
    "                break\n",
    "            else:\n",
    "                if array[i]<array[j]:\n",
    "                    result = False\n",
    "                    return result\n",
    "                elif array[i]>=array[j]:\n",
    "                    return result\n",
    "    else:\n",
    "        result = False\n",
    "        return result\n",
    "                \n",
    "    \n",
    "nums = [2,1,2,3,4,5,6]\n",
    "monotonic(nums)\n",
    "        "
   ]
  },
  {
   "cell_type": "code",
   "execution_count": 33,
   "id": "fc9b6289",
   "metadata": {},
   "outputs": [
    {
     "data": {
      "text/plain": [
       "True"
      ]
     },
     "execution_count": 33,
     "metadata": {},
     "output_type": "execute_result"
    }
   ],
   "source": [
    "def monotonic(array):\n",
    "    n = len(array)\n",
    "    increasing = decreasing = True     ##initially set both `increasing` and `decreasing` variableto be True\n",
    "\n",
    "    for i in range(1, n):              ##then iterate over all, and if any of the below `if` condition fullfills then the indicators- `increasing` and `decreasing` value changes\n",
    "        if array[i] < array[i - 1]:\n",
    "            increasing = False\n",
    "        if array[i] > array[i - 1]:\n",
    "            decreasing = False\n",
    "\n",
    "    return increasing or decreasing     ##after loop ends we return the or function of `increasing` and `decreasing` variable,,,i.e., it will return false only when both of them false otherwise true\n",
    "\n",
    "nums = [1, 1, 2, 3, 4, 5, 6]\n",
    "monotonic(nums)"
   ]
  },
  {
   "cell_type": "markdown",
   "id": "7af44c89",
   "metadata": {},
   "source": [
    "Question 8\n",
    "You are given an integer array nums and an integer k.\n",
    "\n",
    "In one operation, you can choose any index i where 0 <= i < nums.length and change nums[i] to nums[i] + x where x is an integer from the range [-k, k]. You can apply this operation at most once for each index i.\n",
    "\n",
    "The score of nums is the difference between the maximum and minimum elements in nums.\n",
    "\n",
    "Return the minimum score of nums after applying the mentioned operation at most once for each index in it.\n",
    "\n",
    "Example 1:\n",
    "Input: nums = [1], k = 0\n",
    "Output: 0\n",
    "\n",
    "Explanation: The score is max(nums) - min(nums) = 1 - 1 = 0."
   ]
  },
  {
   "cell_type": "code",
   "execution_count": null,
   "id": "1d972457",
   "metadata": {},
   "outputs": [],
   "source": []
  }
 ],
 "metadata": {
  "kernelspec": {
   "display_name": "Python 3 (ipykernel)",
   "language": "python",
   "name": "python3"
  },
  "language_info": {
   "codemirror_mode": {
    "name": "ipython",
    "version": 3
   },
   "file_extension": ".py",
   "mimetype": "text/x-python",
   "name": "python",
   "nbconvert_exporter": "python",
   "pygments_lexer": "ipython3",
   "version": "3.9.12"
  }
 },
 "nbformat": 4,
 "nbformat_minor": 5
}
