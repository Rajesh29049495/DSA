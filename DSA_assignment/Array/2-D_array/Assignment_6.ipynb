{
 "cells": [
  {
   "cell_type": "markdown",
   "id": "678e14c7",
   "metadata": {},
   "source": [
    "<aside>\n",
    "💡 **Question 1**\n",
    "\n",
    "A permutation perm of n + 1 integers of all the integers in the range [0, n] can be represented as a string s of length n where:\n",
    "\n",
    "- s[i] == 'I' if perm[i] < perm[i + 1], and\n",
    "- s[i] == 'D' if perm[i] > perm[i + 1].\n",
    "\n",
    "Given a string s, reconstruct the permutation perm and return it. If there are multiple valid permutations perm, return **any of them**.\n",
    "\n",
    "**Example 1:**\n",
    "\n",
    "**Input:** s = \"IDID\"\n",
    "\n",
    "**Output:**\n",
    "\n",
    "[0,4,1,3,2]\n",
    "\n",
    "</aside>"
   ]
  },
  {
   "cell_type": "code",
   "execution_count": 6,
   "id": "2e048375",
   "metadata": {},
   "outputs": [
    {
     "data": {
      "text/plain": [
       "[0, 5, 1, 4, 2, 3]"
      ]
     },
     "execution_count": 6,
     "metadata": {},
     "output_type": "execute_result"
    }
   ],
   "source": [
    "def reconstructPermutation(s):\n",
    "    n = len(s)\n",
    "    low =0\n",
    "    high = n\n",
    "    perm =[]\n",
    "    \n",
    "    for ch in s:\n",
    "        if ch == 'I':\n",
    "            perm.append(low)\n",
    "            low += 1\n",
    "        elif ch == 'D':\n",
    "            perm.append(high)\n",
    "            high -= 1\n",
    "    \n",
    "    # Append the remaining value\n",
    "    perm.append(high)                #or perm.append(low)\n",
    "    \n",
    "    return perm\n",
    "\n",
    "s =\"IDIDI\"\n",
    "reconstructPermutation(s)\n",
    "        "
   ]
  },
  {
   "cell_type": "markdown",
   "id": "5556dc6d",
   "metadata": {},
   "source": [
    "TC = O(n), where n is length of the string\n",
    "\n",
    "SC = O(n), however the variable `perm` is taking \"n+1\" space, we consider space compelxity of O(n), because we generaly consider the dominant term that grwos with the input size and ignore constant factors"
   ]
  },
  {
   "cell_type": "markdown",
   "id": "e5d1b9ce",
   "metadata": {},
   "source": [
    "<aside>\n",
    "💡 **Question 2**\n",
    "\n",
    "You are given an m x n integer matrix matrix with the following two properties:\n",
    "\n",
    "- Each row is sorted in non-decreasing order.\n",
    "- The first integer of each row is greater than the last integer of the previous row.\n",
    "\n",
    "Given an integer target, return true *if* target *is in* matrix *or* false *otherwise*.\n",
    "\n",
    "You must write a solution in O(log(m * n)) time complexity.\n",
    "\n",
    "**Example 1:**\n",
    "\n",
    "\n",
    "**Input:** matrix = [[1,3,5,7],[10,11,16,20],[23,30,34,60]], target = 3\n",
    "\n",
    "**Output:** true\n",
    "\n",
    "</aside>"
   ]
  },
  {
   "cell_type": "code",
   "execution_count": 9,
   "id": "1e82e731",
   "metadata": {},
   "outputs": [
    {
     "data": {
      "text/plain": [
       "True"
      ]
     },
     "execution_count": 9,
     "metadata": {},
     "output_type": "execute_result"
    }
   ],
   "source": [
    "def searchMatrix(matrix, target):\n",
    "    m = len(matrix)\n",
    "    n = len(matrix[0])\n",
    "    low = 0\n",
    "    high = m * n - 1\n",
    "    \n",
    "    while low <= high:\n",
    "        mid = (low + high) // 2\n",
    "        row = mid // n\n",
    "        col = mid % n\n",
    "        \n",
    "        if matrix[row][col] == target:\n",
    "            return True\n",
    "        elif matrix[row][col] < target:\n",
    "            low = mid + 1\n",
    "        else:\n",
    "            high = mid - 1\n",
    "    \n",
    "    return False\n",
    "\n",
    "matrix = [[1,3,5,7],[10,11,16,20],[23,30,34,60]]\n",
    "target = 3\n",
    "searchMatrix(matrix, target)"
   ]
  },
  {
   "cell_type": "markdown",
   "id": "431966c2",
   "metadata": {},
   "source": [
    "TC = O(log(m*n))\n",
    "\n",
    "SC = O(1)"
   ]
  },
  {
   "cell_type": "markdown",
   "id": "fc8ae1f9",
   "metadata": {},
   "source": [
    "<aside>\n",
    "💡 **Question 3**\n",
    "\n",
    "Given an array of integers arr, return *true if and only if it is a valid mountain array*.\n",
    "\n",
    "Recall that arr is a mountain array if and only if:\n",
    "\n",
    "- arr.length >= 3\n",
    "- There exists some i with 0 < i < arr.length - 1 such that:\n",
    "    - arr[0] < arr[1] < ... < arr[i - 1] < arr[i]\n",
    "    - arr[i] > arr[i + 1] > ... > arr[arr.length - 1]\n",
    "\n",
    "\n",
    "\n",
    "**Example 1:**\n",
    "\n",
    "**Input:** arr = [2,1]\n",
    "\n",
    "**Output:**\n",
    "\n",
    "false\n",
    "\n",
    "</aside>"
   ]
  },
  {
   "cell_type": "code",
   "execution_count": 20,
   "id": "4bed4a66",
   "metadata": {},
   "outputs": [
    {
     "data": {
      "text/plain": [
       "True"
      ]
     },
     "execution_count": 20,
     "metadata": {},
     "output_type": "execute_result"
    }
   ],
   "source": [
    "def solution(array):\n",
    "    n = len(array)\n",
    "    \n",
    "    for i in range(0, n//2):\n",
    "        if array[i]>=array[i+1]:\n",
    "            return False\n",
    "        \n",
    "    for j in range((n//2), n-1):\n",
    "        if array[j]<=array[j+1]:\n",
    "            return False\n",
    "    return True\n",
    "\n",
    "array=[0,2,3,4,5,2,1,0]\n",
    "solution(array)\n",
    "        "
   ]
  },
  {
   "cell_type": "markdown",
   "id": "a450d9f8",
   "metadata": {},
   "source": [
    "TC =O(n)\n",
    "\n",
    "SC =O(1)"
   ]
  },
  {
   "cell_type": "markdown",
   "id": "0bd52f9b",
   "metadata": {},
   "source": [
    "<aside>\n",
    "💡 **Question 4**\n",
    "\n",
    "Given a binary array nums, return *the maximum length of a contiguous subarray with an equal number of* 0 *and* 1.\n",
    "\n",
    "**Example 1:**\n",
    "\n",
    "**Input:** nums = [0,1]\n",
    "\n",
    "**Output:** 2\n",
    "\n",
    "**Explanation:**\n",
    "\n",
    "[0, 1] is the longest contiguous subarray with an equal number of 0 and 1.\n",
    "\n",
    "</aside>"
   ]
  },
  {
   "cell_type": "code",
   "execution_count": 42,
   "id": "581d8e3a",
   "metadata": {},
   "outputs": [
    {
     "data": {
      "text/plain": [
       "6"
      ]
     },
     "execution_count": 42,
     "metadata": {},
     "output_type": "execute_result"
    }
   ],
   "source": [
    "def solution(array):\n",
    "    d ={}\n",
    "    n = len(array)\n",
    "    l =[]\n",
    "    \n",
    "    for i in range(n):\n",
    "        if array[i]==0:\n",
    "            d[0]=d.get(0, 0)+1\n",
    "            if 1 in d.keys():\n",
    "                if d[0]==d[1]:\n",
    "                    l.append(2*d[0])   #or l.append(2*d[1])\n",
    "        elif array[i]==1:\n",
    "            d[1]= d.get(1, 0)+1\n",
    "            if 0 in d.keys():\n",
    "                if d[0]==d[1]:\n",
    "                    l.append(2*d[0])\n",
    "                \n",
    "    return max(l)\n",
    "\n",
    "\n",
    "array=[1, 0, 1, 0, 0, 1]            \n",
    "solution(array)"
   ]
  },
  {
   "cell_type": "markdown",
   "id": "6205117d",
   "metadata": {},
   "source": [
    "TC = O(n)\n",
    "\n",
    "SC = O(1), as we using a dictionary but value sin it are eithr 0 or 1 , i.e., not dependent on teh input at all"
   ]
  },
  {
   "cell_type": "markdown",
   "id": "2559866d",
   "metadata": {},
   "source": [
    "<aside>\n",
    "💡 **Question 5**\n",
    "\n",
    "The **product sum** of two equal-length arrays a and b is equal to the sum of a[i] * b[i] for all 0 <= i < a.length (**0-indexed**).\n",
    "\n",
    "- For example, if a = [1,2,3,4] and b = [5,2,3,1], the **product sum** would be 1*5 + 2*2 + 3*3 + 4*1 = 22.\n",
    "\n",
    "Given two arrays nums1 and nums2 of length n, return *the **minimum product sum** if you are allowed to **rearrange** the **order** of the elements in* nums1.\n",
    "\n",
    "**Example 1:**\n",
    "\n",
    "**Input:** nums1 = [5,3,4,2], nums2 = [4,2,2,5]\n",
    "\n",
    "**Output:** 40\n",
    "\n",
    "**Explanation:**\n",
    "\n",
    "We can rearrange nums1 to become [3,5,4,2]. The product sum of [3,5,4,2] and [4,2,2,5] is 3*4 + 5*2 + 4*2 + 2*5 = 40.\n",
    "\n",
    "</aside>"
   ]
  },
  {
   "cell_type": "code",
   "execution_count": null,
   "id": "a918ee08",
   "metadata": {},
   "outputs": [],
   "source": [
    "def solution(array1, array2):\n",
    "    m = len(array1)\n",
    "    n = len(array2)\n",
    "    l =[]\n",
    "    \n",
    "    for i in range(m):\n",
    "        "
   ]
  },
  {
   "cell_type": "code",
   "execution_count": 53,
   "id": "4a4e1280",
   "metadata": {},
   "outputs": [
    {
     "data": {
      "text/plain": [
       "40"
      ]
     },
     "execution_count": 53,
     "metadata": {},
     "output_type": "execute_result"
    }
   ],
   "source": [
    "def minProductSum(nums1, nums2):\n",
    "    nums1.sort()\n",
    "    nums2.sort(reverse=True)\n",
    "    n = len(nums1)\n",
    "    min_product_sum = 0\n",
    "\n",
    "    for i in range(n):\n",
    "        min_product_sum += nums1[i] * nums2[i]\n",
    "\n",
    "    return min_product_sum\n",
    "\n",
    "nums1 = [5,3,4,2]\n",
    "nums2 = [4,2,2,5]\n",
    "minProductSum(nums1, nums2)"
   ]
  },
  {
   "cell_type": "markdown",
   "id": "8ac86ac3",
   "metadata": {},
   "source": [
    "TC =O(nlogn)\n",
    "\n",
    "SC =O(1)"
   ]
  },
  {
   "cell_type": "code",
   "execution_count": 54,
   "id": "972a0f46",
   "metadata": {},
   "outputs": [
    {
     "data": {
      "text/plain": [
       "40"
      ]
     },
     "execution_count": 54,
     "metadata": {},
     "output_type": "execute_result"
    }
   ],
   "source": [
    "import itertools\n",
    "\n",
    "def minProductSum(nums1, nums2):\n",
    "    min_product_sum = float('inf')\n",
    "\n",
    "    # Generate all possible permutations of nums1\n",
    "    for perm in itertools.permutations(nums1):\n",
    "\n",
    "        # Calculate the product sum for the current permutation\n",
    "        product_sum = sum(a * b for a, b in zip(perm, nums2))\n",
    "\n",
    "        # Update the minimum product sum if necessary\n",
    "        min_product_sum = min(min_product_sum, product_sum)\n",
    "\n",
    "    return min_product_sum\n",
    "\n",
    "nums1 = [5,3,4,2]\n",
    "nums2 = [4,2,2,5]\n",
    "minProductSum(nums1, nums2)"
   ]
  },
  {
   "cell_type": "markdown",
   "id": "35298ad0",
   "metadata": {},
   "source": [
    "TC = O(n!), as we generated all possible permitations of `nums1`\n",
    "\n",
    "SC =O(n), for storing the permuations"
   ]
  },
  {
   "cell_type": "markdown",
   "id": "7be20430",
   "metadata": {},
   "source": [
    "<aside>\n",
    "💡 **Question 6**\n",
    "\n",
    "An integer array original is transformed into a **doubled** array changed by appending **twice the value** of every element in original, and then randomly **shuffling** the resulting array.\n",
    "\n",
    "Given an array changed, return original *if* changed *is a **doubled** array. If* changed *is not a **doubled** array, return an empty array. The elements in* original *may be returned in **any** order*.\n",
    "\n",
    "**Example 1:**\n",
    "\n",
    "**Input:** changed = [1,3,4,2,6,8]\n",
    "\n",
    "**Output:** [1,3,4]\n",
    "\n",
    "**Explanation:** One possible original array could be [1,3,4]:\n",
    "\n",
    "- Twice the value of 1 is 1 * 2 = 2.\n",
    "- Twice the value of 3 is 3 * 2 = 6.\n",
    "- Twice the value of 4 is 4 * 2 = 8.\n",
    "\n",
    "Other original arrays could be [4,3,1] or [3,1,4].\n",
    "\n",
    "</aside>"
   ]
  },
  {
   "cell_type": "code",
   "execution_count": 63,
   "id": "4030b097",
   "metadata": {},
   "outputs": [
    {
     "data": {
      "text/plain": [
       "[1, 3, 4, 5]"
      ]
     },
     "execution_count": 63,
     "metadata": {},
     "output_type": "execute_result"
    }
   ],
   "source": [
    "def solution(array):\n",
    "    n = len(array)\n",
    "    p=n//2\n",
    "    \n",
    "    for i in range(n//2):\n",
    "        if array[p]==2*array[i]:\n",
    "            p= p+1\n",
    "        else:\n",
    "            return []\n",
    "        \n",
    "    \n",
    "    return array[0:n//2]\n",
    "\n",
    "changed = [1,3,4,5, 2,6,8, 10]\n",
    "solution(changed)"
   ]
  },
  {
   "cell_type": "markdown",
   "id": "ec9265dd",
   "metadata": {},
   "source": [
    "TC =O(n)\n",
    "\n",
    "SC =O(1)"
   ]
  },
  {
   "cell_type": "markdown",
   "id": "f5225c2d",
   "metadata": {},
   "source": [
    "<aside>\n",
    "💡 **Question 7**\n",
    "\n",
    "Given a positive integer n, generate an n x n matrix filled with elements from 1 to n2 in spiral order.\n",
    "\n",
    "**Example 1:**\n",
    "\n",
    "**Input:** n = 3\n",
    "\n",
    "**Output:** [[1,2,3],[8,9,4],[7,6,5]]\n",
    "\n",
    "</aside>"
   ]
  },
  {
   "cell_type": "code",
   "execution_count": 65,
   "id": "12289ae9",
   "metadata": {},
   "outputs": [
    {
     "data": {
      "text/plain": [
       "[[1, 2, 3], [8, 9, 4], [7, 6, 5]]"
      ]
     },
     "execution_count": 65,
     "metadata": {},
     "output_type": "execute_result"
    }
   ],
   "source": [
    "def spiral_order(n):\n",
    "    matrix = [[0]*n for _ in range(n)]\n",
    "    num =1\n",
    "    top, bottom , left, right = 0, n-1, 0, n-1\n",
    "    \n",
    "    while num<=n*n:\n",
    "        #traverse from left to right\n",
    "        for i in range(left, right+1):\n",
    "            matrix[top][i]=num\n",
    "            num= num+1\n",
    "        top= top+1\n",
    "        \n",
    "        # traverse from top to bottom\n",
    "        for i in range(top, bottom+1):\n",
    "            matrix[i][right]= num\n",
    "            num =num+1\n",
    "        right = right-1\n",
    "        \n",
    "        # traverse from right to left\n",
    "        for i in range(right, left-1, -1):\n",
    "            matrix[bottom][i]= num\n",
    "            num= num+1\n",
    "        bottom = bottom -1\n",
    "        \n",
    "        # traverse from bottom to top\n",
    "        for i in range(bottom, top-1, -1):\n",
    "            matrix[i][left]= num\n",
    "            num = num+1\n",
    "        left= left+1\n",
    "    return matrix\n",
    "\n",
    "n =3\n",
    "spiral_order(n)"
   ]
  },
  {
   "cell_type": "markdown",
   "id": "c25ac5a8",
   "metadata": {},
   "source": [
    "TC =O(n^2)\n",
    "\n",
    "SC= O(n^2)"
   ]
  },
  {
   "cell_type": "markdown",
   "id": "eef91a78",
   "metadata": {},
   "source": [
    "<aside>\n",
    "💡 **Question 8**\n",
    "\n",
    "Given two [sparse matrices](https://en.wikipedia.org/wiki/Sparse_matrix) mat1 of size m x k and mat2 of size k x n, return the result of mat1 x mat2. You may assume that multiplication is always possible.\n",
    "\n",
    "**Example 1:**\n",
    "\n",
    "**Input:** mat1 = [[1,0,0],[-1,0,3]], mat2 = [[7,0,0],[0,0,0],[0,0,1]]\n",
    "\n",
    "**Output:**\n",
    "\n",
    "[[7,0,0],[-7,0,3]]\n",
    "\n",
    "</aside>"
   ]
  },
  {
   "cell_type": "code",
   "execution_count": 68,
   "id": "3f821aad",
   "metadata": {},
   "outputs": [
    {
     "data": {
      "text/plain": [
       "[[7, 0, 0], [-7, 0, 3]]"
      ]
     },
     "execution_count": 68,
     "metadata": {},
     "output_type": "execute_result"
    }
   ],
   "source": [
    "def multiply_matrices(matrix1, matrix2):\n",
    "    m = len(matrix1)\n",
    "    n = len(matrix2)\n",
    "    p = len(matrix2[0])\n",
    "    \n",
    "    #create an empty matrix\n",
    "    result=[[0]*p for _ in range(m)]\n",
    "    \n",
    "    #perform matrix multiplication\n",
    "    for i in range(m):\n",
    "        for j in range(p):\n",
    "            for k in range(n):\n",
    "                result[i][j]= result[i][j]+ (matrix1[i][k]* matrix2[k][j])\n",
    "    return result\n",
    "\n",
    "# Example matrices\n",
    "mat1 = [[1,0,0],[-1,0,3]]\n",
    "mat2 = [[7,0,0],[0,0,0],[0,0,1]]\n",
    "\n",
    "# Multiply matrices\n",
    "multiply_matrices(mat1, mat2)"
   ]
  },
  {
   "cell_type": "markdown",
   "id": "91bed78e",
   "metadata": {},
   "source": [
    "TC =O(m*p*n)\n",
    "\n",
    "SC =O(m*p)"
   ]
  },
  {
   "cell_type": "code",
   "execution_count": null,
   "id": "40f36a76",
   "metadata": {},
   "outputs": [],
   "source": []
  }
 ],
 "metadata": {
  "kernelspec": {
   "display_name": "Python 3 (ipykernel)",
   "language": "python",
   "name": "python3"
  },
  "language_info": {
   "codemirror_mode": {
    "name": "ipython",
    "version": 3
   },
   "file_extension": ".py",
   "mimetype": "text/x-python",
   "name": "python",
   "nbconvert_exporter": "python",
   "pygments_lexer": "ipython3",
   "version": "3.9.12"
  }
 },
 "nbformat": 4,
 "nbformat_minor": 5
}
