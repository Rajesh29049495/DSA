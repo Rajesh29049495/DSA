{
 "cells": [
  {
   "cell_type": "markdown",
   "id": "2745af7d",
   "metadata": {},
   "source": [
    "<aside>\n",
    "💡 **Question 1**\n",
    "\n",
    "Convert 1D Array Into 2D Array\n",
    "\n",
    "You are given a **0-indexed** 1-dimensional (1D) integer array original, and two integers, m and n. You are tasked with creating a 2-dimensional (2D) array with  m rows and n columns using **all** the elements from original.\n",
    "\n",
    "The elements from indices 0 to n - 1 (**inclusive**) of original should form the first row of the constructed 2D array, the elements from indices n to 2 * n - 1 (**inclusive**) should form the second row of the constructed 2D array, and so on.\n",
    "\n",
    "Return *an* m x n *2D array constructed according to the above procedure, or an empty 2D array if it is impossible*.\n",
    "\n",
    "**Example 1:**\n",
    "\n",
    "**Input:** original = [1,2,3,4], m = 2, n = 2\n",
    "\n",
    "**Output:** [[1,2],[3,4]]\n",
    "\n",
    "**Explanation:** The constructed 2D array should contain 2 rows and 2 columns.\n",
    "\n",
    "The first group of n=2 elements in original, [1,2], becomes the first row in the constructed 2D array.\n",
    "\n",
    "The second group of n=2 elements in original, [3,4], becomes the second row in the constructed 2D array.\n",
    "\n",
    "</aside>"
   ]
  },
  {
   "cell_type": "code",
   "execution_count": 7,
   "id": "47b6a212",
   "metadata": {},
   "outputs": [
    {
     "data": {
      "text/plain": [
       "[[1, 2], [3, 4]]"
      ]
     },
     "execution_count": 7,
     "metadata": {},
     "output_type": "execute_result"
    }
   ],
   "source": [
    "def solution(array, r, c):\n",
    "    l = len(array)\n",
    "    matrix = [[0]*c for _ in range(r)]\n",
    "    index =0\n",
    "    \n",
    "    if r*c!=l:\n",
    "        return array\n",
    "    \n",
    "    for i in range(r):\n",
    "        for j in range(c):\n",
    "            matrix[i][j]=array[index]\n",
    "            index= index +1\n",
    "    return matrix\n",
    "\n",
    "nums = [1,2,3,4]\n",
    "r=2\n",
    "c=2\n",
    "solution(nums, r, c)"
   ]
  },
  {
   "cell_type": "markdown",
   "id": "7feb213c",
   "metadata": {},
   "source": [
    "TC = O(n),   where n is length of the array\n",
    "\n",
    "SC = O(r*c)=O(n)"
   ]
  },
  {
   "cell_type": "markdown",
   "id": "58bff2dc",
   "metadata": {},
   "source": [
    "<aside>\n",
    "💡 **Question 2**\n",
    "\n",
    "You have n coins and you want to build a staircase with these coins. The staircase consists of k rows where the ith row has exactly i coins. The last row of the staircase **may be** incomplete.\n",
    "\n",
    "Given the integer n, return *the number of **complete rows** of the staircase you will build*.\n",
    "\n",
    "**Example 1:**\n",
    "\n",
    "**Input:** n = 5\n",
    "\n",
    "**Output:** 2\n",
    "\n",
    "**Explanation:** Because the 3rd row is incomplete, we return 2.\n",
    "\n",
    "</aside>"
   ]
  },
  {
   "cell_type": "code",
   "execution_count": 10,
   "id": "7e0ef72a",
   "metadata": {},
   "outputs": [
    {
     "data": {
      "text/plain": [
       "2"
      ]
     },
     "execution_count": 10,
     "metadata": {},
     "output_type": "execute_result"
    }
   ],
   "source": [
    "def solution(n):\n",
    "    coins= n\n",
    "    \n",
    "    i=1\n",
    "    while i <coins:\n",
    "        coins= coins-i\n",
    "        i=i+1\n",
    "    \n",
    "    return i-1\n",
    "\n",
    "l =5\n",
    "solution(l)"
   ]
  },
  {
   "cell_type": "markdown",
   "id": "57442859",
   "metadata": {},
   "source": [
    "TC =O(sqrt(n)). The code iterates until `i` becomes greater than coins. which happens when i reaches the square root of n. The time complexity is determined by the number of iterations, which is proportional to the square root of n. Therefore, the time complexity is O(sqrt(n)).\n",
    "\n",
    "SC =O(1)"
   ]
  },
  {
   "cell_type": "markdown",
   "id": "58adfd03",
   "metadata": {},
   "source": [
    "<aside>\n",
    "💡 **Question 3**\n",
    "\n",
    "Given an integer array nums sorted in **non-decreasing** order, return *an array of **the squares of each number** sorted in non-decreasing order*.\n",
    "\n",
    "**Example 1:**\n",
    "\n",
    "**Input:** nums = [-4,-1,0,3,10]\n",
    "\n",
    "**Output:** [0,1,9,16,100]\n",
    "\n",
    "**Explanation:** After squaring, the array becomes [16,1,0,9,100].\n",
    "\n",
    "After sorting, it becomes [0,1,9,16,100].\n",
    "\n",
    "</aside>"
   ]
  },
  {
   "cell_type": "code",
   "execution_count": 11,
   "id": "a6e511e0",
   "metadata": {},
   "outputs": [
    {
     "data": {
      "text/plain": [
       "[0, 1, 9, 16, 100]"
      ]
     },
     "execution_count": 11,
     "metadata": {},
     "output_type": "execute_result"
    }
   ],
   "source": [
    "def solution(array):\n",
    "    n = len(array)\n",
    "    \n",
    "    for i in range(n):\n",
    "        array[i]= array[i]*array[i]\n",
    "        \n",
    "    array.sort()\n",
    "    return array\n",
    "\n",
    "nums = [-4,-1,0,3,10]\n",
    "solution(nums)"
   ]
  },
  {
   "cell_type": "markdown",
   "id": "9e51441d",
   "metadata": {},
   "source": [
    "TC = O(nlogn)\n",
    "\n",
    "SC =O(1)"
   ]
  },
  {
   "cell_type": "markdown",
   "id": "14893988",
   "metadata": {},
   "source": [
    "<aside>\n",
    "💡 **Question 4**\n",
    "\n",
    "Given two **0-indexed** integer arrays nums1 and nums2, return *a list* answer *of size* 2 *where:*\n",
    "\n",
    "- answer[0] *is a list of all **distinct** integers in* nums1 *which are **not** present in* nums2*.*\n",
    "- answer[1] *is a list of all **distinct** integers in* nums2 *which are **not** present in* nums1.\n",
    "\n",
    "**Note** that the integers in the lists may be returned in **any** order.\n",
    "\n",
    "**Example 1:**\n",
    "\n",
    "**Input:** nums1 = [1,2,3], nums2 = [2,4,6]\n",
    "\n",
    "**Output:** [[1,3],[4,6]]\n",
    "\n",
    "**Explanation:**\n",
    "\n",
    "For nums1, nums1[1] = 2 is present at index 0 of nums2, whereas nums1[0] = 1 and nums1[2] = 3 are not present in nums2. Therefore, answer[0] = [1,3].\n",
    "\n",
    "For nums2, nums2[0] = 2 is present at index 1 of nums1, whereas nums2[1] = 4 and nums2[2] = 6 are not present in nums2. Therefore, answer[1] = [4,6].\n",
    "\n",
    "</aside>"
   ]
  },
  {
   "cell_type": "code",
   "execution_count": 19,
   "id": "32bb02cc",
   "metadata": {},
   "outputs": [
    {
     "data": {
      "text/plain": [
       "[[1, 3], [4, 6]]"
      ]
     },
     "execution_count": 19,
     "metadata": {},
     "output_type": "execute_result"
    }
   ],
   "source": [
    "def solution(nums1, nums2):\n",
    "    m =len(nums1)\n",
    "    n = len(nums2)\n",
    "    l = [[], []]  # Initialize l as a list of two empty lists    \n",
    "    \n",
    "    for i in range(m):\n",
    "        if nums1[i] not in nums2:\n",
    "            l[0].append(nums1[i])\n",
    "        \n",
    "    \n",
    "    for j in range(n):\n",
    "        if nums2[j] not in nums1:\n",
    "            l[1].append(nums2[j])\n",
    "        \n",
    "            \n",
    "    return l\n",
    "\n",
    "nums1 = [1,2,3]\n",
    "nums2 = [2,4,6]\n",
    "solution(nums1, nums2)"
   ]
  },
  {
   "cell_type": "markdown",
   "id": "c6d3f954",
   "metadata": {},
   "source": [
    "tc = O(m+n)\n",
    "\n",
    "sc = O(m+n)"
   ]
  },
  {
   "cell_type": "markdown",
   "id": "a724af28",
   "metadata": {},
   "source": [
    "<aside>\n",
    "💡 **Question 5**\n",
    "\n",
    "Given two integer arrays arr1 and arr2, and the integer d, *return the distance value between the two arrays*.\n",
    "\n",
    "The distance value is defined as the number of elements arr1[i] such that there is not any element arr2[j] where |arr1[i]-arr2[j]| <= d.\n",
    "\n",
    "**Example 1:**\n",
    "\n",
    "**Input:** arr1 = [4,5,8], arr2 = [10,9,1,8], d = 2\n",
    "\n",
    "**Output:** 2\n",
    "\n",
    "**Explanation:**\n",
    "\n",
    "For arr1[0]=4 we have:\n",
    "\n",
    "|4-10|=6 > d=2\n",
    "\n",
    "|4-9|=5 > d=2\n",
    "\n",
    "|4-1|=3 > d=2\n",
    "\n",
    "|4-8|=4 > d=2\n",
    "\n",
    "For arr1[1]=5 we have:\n",
    "\n",
    "|5-10|=5 > d=2\n",
    "\n",
    "|5-9|=4 > d=2\n",
    "\n",
    "|5-1|=4 > d=2\n",
    "\n",
    "|5-8|=3 > d=2\n",
    "\n",
    "For arr1[2]=8 we have:\n",
    "\n",
    "**|8-10|=2 <= d=2**\n",
    "\n",
    "**|8-9|=1 <= d=2**\n",
    "\n",
    "|8-1|=7 > d=2\n",
    "\n",
    "**|8-8|=0 <= d=2**\n",
    "\n",
    "</aside>"
   ]
  },
  {
   "cell_type": "code",
   "execution_count": 21,
   "id": "8c7d659a",
   "metadata": {},
   "outputs": [
    {
     "data": {
      "text/plain": [
       "2"
      ]
     },
     "execution_count": 21,
     "metadata": {},
     "output_type": "execute_result"
    }
   ],
   "source": [
    "def solution(array1, array2, n):\n",
    "    l = len(array1)\n",
    "    m =len(array2)\n",
    "    count =l\n",
    "    \n",
    "    for i in range(l):\n",
    "        for j in range(m):\n",
    "            if abs(array1[i]-array2[j])<=n:\n",
    "                count=count-1\n",
    "                break\n",
    "    return count\n",
    "\n",
    "\n",
    "arr1 = [4,5,8]\n",
    "arr2 = [10,9,1,8]\n",
    "d = 2        \n",
    "solution(arr1, arr2, d)"
   ]
  },
  {
   "cell_type": "code",
   "execution_count": 25,
   "id": "6cc7ed34",
   "metadata": {},
   "outputs": [
    {
     "data": {
      "text/plain": [
       "2"
      ]
     },
     "execution_count": 25,
     "metadata": {},
     "output_type": "execute_result"
    }
   ],
   "source": [
    "def solution(array1, array2, n):\n",
    "    l = len(array1)\n",
    "    m =len(array2)\n",
    "    count =0\n",
    "    \n",
    "    for i in range(l):\n",
    "        condition= True\n",
    "        for j in range(m):\n",
    "            if abs(array1[i]-array2[j])<=n:\n",
    "                condition = False\n",
    "                break\n",
    "        if condition:\n",
    "            count= count+1\n",
    "            \n",
    "    return count\n",
    "\n",
    "\n",
    "arr1 = [4,5,8]\n",
    "arr2 = [10,9,1,8]\n",
    "d = 2        \n",
    "solution(arr1, arr2, d)"
   ]
  },
  {
   "cell_type": "markdown",
   "id": "f9f5341f",
   "metadata": {},
   "source": [
    "TC =O(l*m), where l and m are lengt of the array1 and array2\n",
    "\n",
    "SC =O(1)"
   ]
  },
  {
   "cell_type": "markdown",
   "id": "dcd29a19",
   "metadata": {},
   "source": [
    "<aside>\n",
    "💡 **Question 6**\n",
    "\n",
    "Given an integer array nums of length n where all the integers of nums are in the range [1, n] and each integer appears **once** or **twice**, return *an array of all the integers that appears **twice***.\n",
    "\n",
    "You must write an algorithm that runs in O(n) time and uses only constant extra space.\n",
    "\n",
    "**Example 1:**\n",
    "\n",
    "**Input:** nums = [4,3,2,7,8,2,3,1]\n",
    "\n",
    "**Output:**\n",
    "\n",
    "[2,3]\n",
    "\n",
    "</aside>"
   ]
  },
  {
   "cell_type": "code",
   "execution_count": 27,
   "id": "ed89a735",
   "metadata": {},
   "outputs": [
    {
     "data": {
      "text/plain": [
       "[3, 2]"
      ]
     },
     "execution_count": 27,
     "metadata": {},
     "output_type": "execute_result"
    }
   ],
   "source": [
    "def solution(nums):\n",
    "    n = len(nums)\n",
    "    result =[]\n",
    "    p1=0\n",
    "    p2=n-1\n",
    "    \n",
    "    while p1<=p2:\n",
    "        if nums[p1]==nums[p2]:\n",
    "            result.append(nums[p1])\n",
    "        p1=p1+1\n",
    "        p2=p2-1\n",
    "    \n",
    "    return result\n",
    "\n",
    "\n",
    "nums = [4,3,2,7,8,2,3,1] \n",
    "solution(nums)                        "
   ]
  },
  {
   "cell_type": "markdown",
   "id": "d03011ae",
   "metadata": {},
   "source": [
    "TC = O(n), where n is the length of the input array nums. This is because we iterate through the array from both ends using two pointers (p1 and p2), and in each iteration, we perform constant time operations (such as comparisons and updates). Since the number of iterations is proportional to the size of the input, the time complexity is linear.\n",
    "\n",
    "SC =O(1),,,,Although the maximum number of duplicated elements in nums could be n/2 (assuming each element can appear at most twice), it doesn't mean that the result list will have a size of n/2. The result list will only contain the duplicated elements found, which could be less than or equal to n/2. Therefore, we cannot directly relate the space complexity to n/2.\n",
    "\n",
    "Instead, since the size of the result list is limited to the number of duplicated elements, the maximum size of the result list is a constant value. Hence, the space complexity is considered O(1) as it uses a constant amount of extra space regardless of the input size."
   ]
  },
  {
   "cell_type": "markdown",
   "id": "31dc8e21",
   "metadata": {},
   "source": [
    "<aside>\n",
    "💡 **Question 7**\n",
    "\n",
    "Suppose an array of length n sorted in ascending order is **rotated** between 1 and n times. For example, the array nums = [0,1,2,4,5,6,7] might become:\n",
    "\n",
    "- [4,5,6,7,0,1,2] if it was rotated 4 times.\n",
    "- [0,1,2,4,5,6,7] if it was rotated 7 times.\n",
    "\n",
    "Notice that **rotating** an array [a[0], a[1], a[2], ..., a[n-1]] 1 time results in the array [a[n-1], a[0], a[1], a[2], ..., a[n-2]].\n",
    "\n",
    "Given the sorted rotated array nums of **unique** elements, return *the minimum element of this array*.\n",
    "\n",
    "You must write an algorithm that runs in O(log n) time.\n",
    "\n",
    "**Example 1:**\n",
    "\n",
    "**Input:** nums = [3,4,5,1,2]\n",
    "\n",
    "**Output:** 1\n",
    "\n",
    "**Explanation:**\n",
    "\n",
    "The original array was [1,2,3,4,5] rotated 3 times.\n",
    "\n",
    "</aside>"
   ]
  },
  {
   "cell_type": "code",
   "execution_count": 30,
   "id": "848f63a8",
   "metadata": {},
   "outputs": [],
   "source": [
    "## Using Binary search"
   ]
  },
  {
   "cell_type": "code",
   "execution_count": 31,
   "id": "84008dfc",
   "metadata": {},
   "outputs": [
    {
     "data": {
      "text/plain": [
       "1"
      ]
     },
     "execution_count": 31,
     "metadata": {},
     "output_type": "execute_result"
    }
   ],
   "source": [
    "def solution(array):\n",
    "    left =0\n",
    "    right =len(array)-1\n",
    "    \n",
    "    while left<right:\n",
    "        mid = (left+right)//2\n",
    "        \n",
    "        if array[mid]>array[right]:\n",
    "            left = mid+1\n",
    "            \n",
    "        else:\n",
    "            right= mid\n",
    "    \n",
    "    return array[left]\n",
    "\n",
    "nums = [3,4,5,1,2]\n",
    "solution(nums)"
   ]
  },
  {
   "cell_type": "markdown",
   "id": "7717be89",
   "metadata": {},
   "source": [
    "TC =O(logn),,{with base =2}, because each iteration reduces the search range by half\n",
    "\n",
    "SC =O(1)"
   ]
  },
  {
   "cell_type": "markdown",
   "id": "ff0e014d",
   "metadata": {},
   "source": [
    "<aside>\n",
    "💡 **Question 8**\n",
    "\n",
    "An integer array original is transformed into a **doubled** array changed by appending **twice the value** of every element in original, and then randomly **shuffling** the resulting array.\n",
    "\n",
    "Given an array changed, return original *if* changed *is a **doubled** array. If* changed *is not a **doubled** array, return an empty array. The elements in* original *may be returned in **any** order*.\n",
    "\n",
    "**Example 1:**\n",
    "\n",
    "**Input:** changed = [1,3,4,2,6,8]\n",
    "\n",
    "**Output:** [1,3,4]\n",
    "\n",
    "**Explanation:** One possible original array could be [1,3,4]:\n",
    "\n",
    "- Twice the value of 1 is 1 * 2 = 2.\n",
    "- Twice the value of 3 is 3 * 2 = 6.\n",
    "- Twice the value of 4 is 4 * 2 = 8.\n",
    "\n",
    "Other original arrays could be [4,3,1] or [3,1,4].\n",
    "\n",
    "</aside>"
   ]
  },
  {
   "cell_type": "code",
   "execution_count": 65,
   "id": "04e97fff",
   "metadata": {},
   "outputs": [
    {
     "name": "stdout",
     "output_type": "stream",
     "text": [
      "[1, 3, 4, 5]\n"
     ]
    }
   ],
   "source": [
    "def findOriginalArray(changed):\n",
    "    n = len(changed)\n",
    "    l = []\n",
    "    used = set()  # Keep track of used elements\n",
    "\n",
    "    for i in range(n):\n",
    "        if changed[i] in used:  # Skip elements that have already been used as doubles\n",
    "            continue\n",
    "        found_double = False\n",
    "        for j in range(i + 1, n):\n",
    "            if changed[j] == 2 * changed[i]:\n",
    "                found_double = True\n",
    "                used.add(changed[j])\n",
    "                l.append(changed[i])\n",
    "                break\n",
    "        if not found_double:\n",
    "            return []  # Return empty list if no double element is found\n",
    "\n",
    "    return l\n",
    "\n",
    "\n",
    "changed = [1, 3, 4, 5, 2, 6, 8, 10]\n",
    "print(findOriginalArray(changed))\n"
   ]
  },
  {
   "cell_type": "markdown",
   "id": "cdf710c0",
   "metadata": {},
   "source": [
    "TC = O(n^2) because it contains nested loops. The outer loop iterates over the elements of the changed list, and the inner loop searches for the double element. In the worst case, the inner loop may iterate over all remaining elements.\n",
    "\n",
    "SC = O(n) because of the additional space used to store the used set. The set keeps track of elements that have already been used as doubles to avoid using them again. The size of the set can be at most n, where n is the length of the changed list."
   ]
  },
  {
   "cell_type": "code",
   "execution_count": null,
   "id": "3d5b7cae",
   "metadata": {},
   "outputs": [],
   "source": []
  }
 ],
 "metadata": {
  "kernelspec": {
   "display_name": "Python 3 (ipykernel)",
   "language": "python",
   "name": "python3"
  },
  "language_info": {
   "codemirror_mode": {
    "name": "ipython",
    "version": 3
   },
   "file_extension": ".py",
   "mimetype": "text/x-python",
   "name": "python",
   "nbconvert_exporter": "python",
   "pygments_lexer": "ipython3",
   "version": "3.9.12"
  }
 },
 "nbformat": 4,
 "nbformat_minor": 5
}
