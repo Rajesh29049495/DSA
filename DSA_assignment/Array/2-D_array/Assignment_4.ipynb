{
 "cells": [
  {
   "cell_type": "markdown",
   "id": "d8407a40",
   "metadata": {},
   "source": [
    "<aside>\n",
    "💡 **Question 1**\n",
    "Given three integer arrays arr1, arr2 and arr3 **sorted** in **strictly increasing** order, return a sorted array of **only** the integers that appeared in **all** three arrays.\n",
    "\n",
    "**Example 1:**\n",
    "\n",
    "Input: arr1 = [1,2,3,4,5], arr2 = [1,2,5,7,9], arr3 = [1,3,4,5,8]\n",
    "\n",
    "Output: [1,5]\n",
    "\n",
    "**Explanation:** Only 1 and 5 appeared in the three arrays.\n",
    "\n",
    "</aside>"
   ]
  },
  {
   "cell_type": "code",
   "execution_count": 9,
   "id": "31a214c8",
   "metadata": {},
   "outputs": [
    {
     "name": "stdout",
     "output_type": "stream",
     "text": [
      "[1, 2, 2, 5]\n"
     ]
    }
   ],
   "source": [
    "def solution(a, b, c):\n",
    "    p1 = 0  # Pointer for array a\n",
    "    p2 = 0  # Pointer for array b\n",
    "    p3 = 0  # Pointer for array c\n",
    "    s = []  # Result array\n",
    "    \n",
    "    while p1 < len(a) and p2 < len(b) and p3 < len(c):\n",
    "        if a[p1] == b[p2] and a[p1] == c[p3]:\n",
    "            s.append(a[p1])\n",
    "            p1 += 1\n",
    "            p2 += 1\n",
    "            p3 += 1\n",
    "        elif a[p1] < b[p2]:\n",
    "            p1 += 1\n",
    "        elif b[p2] < c[p3]:\n",
    "            p2 += 1\n",
    "        else:\n",
    "            p3 += 1\n",
    "    \n",
    "    return s\n",
    "\n",
    "arr1 = [1, 2, 2, 3, 4, 5]\n",
    "arr2 = [1, 2, 2, 5, 7, 9]\n",
    "arr3 = [1, 2, 2, 3, 4, 5, 8]\n",
    "result = solution(arr1, arr2, arr3)\n",
    "print(result)"
   ]
  },
  {
   "cell_type": "markdown",
   "id": "ebc51a4c",
   "metadata": {},
   "source": [
    "tc = O(max(len(a), len(b), len(c))) because in the worst case, we may need to iterate through all elements of the longest array to find the common elements\n",
    "\n",
    "sc = O(min(l, m, n)), where l, m, and n are the lengths of arrays a, b, and c, respectively. "
   ]
  },
  {
   "cell_type": "code",
   "execution_count": 10,
   "id": "6e8a3c0f",
   "metadata": {},
   "outputs": [
    {
     "data": {
      "text/plain": [
       "[1, 2, 2, 5]"
      ]
     },
     "execution_count": 10,
     "metadata": {},
     "output_type": "execute_result"
    }
   ],
   "source": [
    "def solution(a,b,c):\n",
    "    b_count={}\n",
    "    c_count ={}\n",
    "    s =[]\n",
    "    \n",
    "    for num in b:\n",
    "        b_count[num] = b_count.get(num, 0)+1\n",
    "        \n",
    "    for num in c:\n",
    "        c_count[num]= c_count.get(num, 0)+1\n",
    "        \n",
    "    for num in a:\n",
    "        if num in b_count and num in c_count:\n",
    "            min_count = min(b_count[num], c_count[num])\n",
    "            s.extend([num]*min_count)\n",
    "            \n",
    "    return s\n",
    "\n",
    "arr1 = [1, 2, 2, 3, 4, 5]\n",
    "arr2 = [1, 2, 2, 5, 7, 9]\n",
    "arr3 = [1, 2, 3, 4, 5, 8]\n",
    "solution(arr1, arr2, arr3)"
   ]
  },
  {
   "cell_type": "markdown",
   "id": "7b88fe0c",
   "metadata": {},
   "source": [
    "tc = O(len(a)+len(b)+len(c))\n",
    "\n",
    "sc= O(min(len(a), len(b), len(c)))"
   ]
  },
  {
   "cell_type": "markdown",
   "id": "6fc7dae4",
   "metadata": {},
   "source": [
    "<aside>\n",
    "💡 **Question 2**\n",
    "\n",
    "Given two **0-indexed** integer arrays nums1 and nums2, return *a list* answer *of size* 2 *where:*\n",
    "\n",
    "- answer[0] *is a list of all **distinct** integers in* nums1 *which are **not** present in* nums2*.*\n",
    "- answer[1] *is a list of all **distinct** integers in* nums2 *which are **not** present in* nums1.\n",
    "\n",
    "**Note** that the integers in the lists may be returned in **any** order.\n",
    "\n",
    "**Example 1:**\n",
    "\n",
    "**Input:** nums1 = [1,2,3], nums2 = [2,4,6]\n",
    "\n",
    "**Output:** [[1,3],[4,6]]\n",
    "\n",
    "**Explanation:**\n",
    "\n",
    "For nums1, nums1[1] = 2 is present at index 0 of nums2, whereas nums1[0] = 1 and nums1[2] = 3 are not present in nums2. Therefore, answer[0] = [1,3].\n",
    "\n",
    "For nums2, nums2[0] = 2 is present at index 1 of nums1, whereas nums2[1] = 4 and nums2[2] = 6 are not present in nums2. Therefore, answer[1] = [4,6].\n",
    "\n",
    "</aside>"
   ]
  },
  {
   "cell_type": "code",
   "execution_count": 28,
   "id": "3ce86d37",
   "metadata": {},
   "outputs": [
    {
     "data": {
      "text/plain": [
       "[[1, 3], [4, 6]]"
      ]
     },
     "execution_count": 28,
     "metadata": {},
     "output_type": "execute_result"
    }
   ],
   "source": [
    "def solution(nums1, nums2):\n",
    "    s =[]\n",
    "    m = len(nums1)\n",
    "    n = len(nums2)\n",
    "    \n",
    "    s1=[]\n",
    "    for i in range(m):\n",
    "        if nums1[i] not in nums2:\n",
    "            s1.append(nums1[i])\n",
    "    s.append(s1)\n",
    "    \n",
    "    s2 =[]\n",
    "    for j in range(n):\n",
    "        if nums2[j] not in nums1:\n",
    "            s2.append(nums2[j])\n",
    "    s.append(s2)\n",
    "    \n",
    "    return s\n",
    "\n",
    "    \n",
    "nums1 = [1,2,3]\n",
    "nums2 = [2,4,6]    \n",
    "solution(nums1, nums2)            \n",
    "            "
   ]
  },
  {
   "cell_type": "markdown",
   "id": "f5ae0f71",
   "metadata": {},
   "source": [
    "tc = O(m+n)\n",
    "\n",
    "sc = O(m+n)"
   ]
  },
  {
   "cell_type": "markdown",
   "id": "bcd46555",
   "metadata": {},
   "source": [
    "<aside>\n",
    "💡 **Question 3**\n",
    "Given a 2D integer array matrix, return *the **transpose** of* matrix.\n",
    "\n",
    "The **transpose** of a matrix is the matrix flipped over its main diagonal, switching the matrix's row and column indices.\n",
    "\n",
    "**Example 1:**\n",
    "\n",
    "Input: matrix = [[1,2,3],[4,5,6],[7,8,9]]\n",
    "\n",
    "Output: [[1,4,7],[2,5,8],[3,6,9]]\n",
    "\n",
    "</aside>"
   ]
  },
  {
   "cell_type": "code",
   "execution_count": 34,
   "id": "a67eca45",
   "metadata": {},
   "outputs": [
    {
     "data": {
      "text/plain": [
       "[[1, 4, 7], [2, 5, 8], [3, 6, 9]]"
      ]
     },
     "execution_count": 34,
     "metadata": {},
     "output_type": "execute_result"
    }
   ],
   "source": [
    "def solution(matrix):\n",
    "    rows = len(matrix)\n",
    "    cols = len(matrix[0])\n",
    "    \n",
    "    #creating a matrix with swapped dimensions\n",
    "    transposed =[[0]* rows for _ in range(cols)]   ##or [[0 for _ in range(rows)] for _ in range(cols)]\n",
    "    \n",
    "    #fille the transposed matrix with the swapped elements\n",
    "    for i in range(rows):\n",
    "        for j in range(cols):\n",
    "            transposed[j][i] = matrix[i][j]\n",
    "            \n",
    "    return transposed\n",
    "            \n",
    "        \n",
    "matrix = [[1,2,3],[4,5,6],[7,8,9]]\n",
    "solution(matrix)"
   ]
  },
  {
   "cell_type": "markdown",
   "id": "c3aa25f2",
   "metadata": {},
   "source": [
    "TC =O(rows*cols)\n",
    "\n",
    "SC =O(rows*cols)"
   ]
  },
  {
   "cell_type": "markdown",
   "id": "71205b97",
   "metadata": {},
   "source": [
    "<aside>\n",
    "💡 **Question 4**\n",
    "Given an integer array nums of 2n integers, group these integers into n pairs (a1, b1), (a2, b2), ..., (an, bn) such that the sum of min(ai, bi) for all i is **maximized**. Return *the maximized sum*.\n",
    "\n",
    "**Example 1:**\n",
    "\n",
    "Input: nums = [1,4,3,2]\n",
    "\n",
    "Output: 4\n",
    "\n",
    "**Explanation:** All possible pairings (ignoring the ordering of elements) are:\n",
    "\n",
    "1. (1, 4), (2, 3) -> min(1, 4) + min(2, 3) = 1 + 2 = 3\n",
    "\n",
    "2. (1, 3), (2, 4) -> min(1, 3) + min(2, 4) = 1 + 2 = 3\n",
    "\n",
    "3. (1, 2), (3, 4) -> min(1, 2) + min(3, 4) = 1 + 3 = 4\n",
    "\n",
    "So the maximum possible sum is 4.\n",
    "\n",
    "</aside>"
   ]
  },
  {
   "cell_type": "markdown",
   "id": "72af25bc",
   "metadata": {},
   "source": [
    "* To maximize the sum of minimum elements in each pair, we need to pair the smallest elements with each other. Therefore, the optimal approach is to sort the array in ascending order and then pair adjacent elements."
   ]
  },
  {
   "cell_type": "code",
   "execution_count": 40,
   "id": "25722b3f",
   "metadata": {},
   "outputs": [
    {
     "data": {
      "text/plain": [
       "9"
      ]
     },
     "execution_count": 40,
     "metadata": {},
     "output_type": "execute_result"
    }
   ],
   "source": [
    "def solution(array):\n",
    "    array.sort()\n",
    "    n = len(array)\n",
    "    pair_sum=0\n",
    "    \n",
    "    for i in range(0,n,2):\n",
    "        pair_sum = pair_sum+array[i]\n",
    "        \n",
    "    return pair_sum\n",
    "\n",
    "nums= [1,2,4,3, 5, 6]\n",
    "solution(nums)\n"
   ]
  },
  {
   "cell_type": "markdown",
   "id": "9856d2d9",
   "metadata": {},
   "source": [
    "TC =O(nlogn)\n",
    "\n",
    "SC = O(1)"
   ]
  },
  {
   "cell_type": "markdown",
   "id": "3d412197",
   "metadata": {},
   "source": [
    "<aside>\n",
    "💡 **Question 5**\n",
    "You have n coins and you want to build a staircase with these coins. The staircase consists of k rows where the ith row has exactly i coins. The last row of the staircase **may be** incomplete.\n",
    "\n",
    "Given the integer n, return *the number of **complete rows** of the staircase you will build*.\n",
    "\n",
    "**Example 1:**\n",
    "  \n",
    "|coin|\n",
    "|coin|coin|\n",
    "|coin|coin|____|\n",
    "\n",
    "**Input:** n = 5\n",
    "\n",
    "**Output:** 2\n",
    "\n",
    "**Explanation:** Because the 3rd row is incomplete, we return 2.\n",
    "\n",
    "</aside>"
   ]
  },
  {
   "cell_type": "code",
   "execution_count": 62,
   "id": "6d66f6a0",
   "metadata": {},
   "outputs": [
    {
     "data": {
      "text/plain": [
       "2"
      ]
     },
     "execution_count": 62,
     "metadata": {},
     "output_type": "execute_result"
    }
   ],
   "source": [
    "def solution(n):\n",
    "    rows=0\n",
    "    \n",
    "    coins_needed=1\n",
    "    while coins_needed<=n:     #as in the start we need 1 coin then subsequent rows will need one more coin than the previous one, and we keep subtracting the used coins in each row from the total number of coins until the coins needed in a particular row is less than what remains from the total number of coins\n",
    "        n= n-coins_needed\n",
    "        rows+=1\n",
    "        coins_needed+=1\n",
    "    \n",
    "    return rows\n",
    "\n",
    "n = 5\n",
    "solution(n)\n",
    "        "
   ]
  },
  {
   "cell_type": "markdown",
   "id": "21e64236",
   "metadata": {},
   "source": [
    "**tc = O(sqrt(n))** because we iterate until the number of coins needed exceeds the remaining number of coins, which happens approximately at the square root of n.\n",
    "\n",
    "**sc =O(1)**"
   ]
  },
  {
   "cell_type": "markdown",
   "id": "668be6b9",
   "metadata": {},
   "source": [
    "<aside>\n",
    "💡 **Question 6**\n",
    "Given an integer array nums sorted in **non-decreasing** order, return *an array of **the squares of each number** sorted in non-decreasing order*.\n",
    "\n",
    "**Example 1:**\n",
    "\n",
    "Input: nums = [-4,-1,0,3,10]\n",
    "\n",
    "Output: [0,1,9,16,100]\n",
    "\n",
    "**Explanation:** After squaring, the array becomes [16,1,0,9,100].\n",
    "After sorting, it becomes [0,1,9,16,100]\n",
    "\n",
    "</aside>"
   ]
  },
  {
   "cell_type": "code",
   "execution_count": 37,
   "id": "790a406d",
   "metadata": {},
   "outputs": [
    {
     "data": {
      "text/plain": [
       "[0, 1, 9, 16, 100]"
      ]
     },
     "execution_count": 37,
     "metadata": {},
     "output_type": "execute_result"
    }
   ],
   "source": [
    "def solution(array):\n",
    "    n = len(array)\n",
    "    \n",
    "    for i in range(n):\n",
    "        array[i]= array[i]*array[i]\n",
    "        \n",
    "    array.sort()\n",
    "    return array\n",
    "\n",
    "nums = [-4,-1,0,3,10]\n",
    "solution(nums)"
   ]
  },
  {
   "cell_type": "markdown",
   "id": "2abb2545",
   "metadata": {},
   "source": [
    "TC = O(nlogn)\n",
    "\n",
    "SC =O(1)"
   ]
  },
  {
   "cell_type": "markdown",
   "id": "5d6a8e38",
   "metadata": {},
   "source": [
    "<aside>\n",
    "💡 **Question 7**\n",
    "You are given an m x n matrix M initialized with all 0's and an array of operations ops, where ops[i] = [ai, bi] means M[x][y] should be incremented by one for all 0 <= x < ai and 0 <= y < bi.\n",
    "\n",
    "Count and return *the number of maximum integers in the matrix after performing all the operations*\n",
    "\n",
    "**Example 1:**\n",
    "\n",
    "**Input:** m = 3, n = 3, ops = [[2,2],[3,3]]\n",
    "\n",
    "**Output:** 4\n",
    "\n",
    "**Explanation:**You are given an m x n matrix M, initialized with all 0's. You are also given an array of operations ops, where ops[i] = [ai, bi] means that the elements in the submatrix M[0:ai][0:bi] should be incremented by one. In other words, for all 0 <= x < ai and 0 <= y < bi, the value of M[x][y] should be incremented by one.\n",
    "We start with a 3 x 3 matrix initialized with all 0's:\n",
    "\n",
    "0 0 0\n",
    "0 0 0\n",
    "0 0 0\n",
    "The first operation is [2, 2], which means we need to increment the values in the submatrix M[0:2][0:2]:\n",
    "\n",
    "1 1 0\n",
    "1 1 0\n",
    "0 0 0\n",
    "The second operation is [3, 3], which means we need to increment the values in the submatrix M[0:3][0:3]:\n",
    "\n",
    "2 2 1\n",
    "2 2 1\n",
    "1 1 1\n",
    "The maximum integer in the resulting matrix M is 2, and it occurs four times. So the answer is 4.    \n",
    "\n",
    "</aside>"
   ]
  },
  {
   "cell_type": "code",
   "execution_count": 65,
   "id": "4c39827c",
   "metadata": {},
   "outputs": [
    {
     "data": {
      "text/plain": [
       "4"
      ]
     },
     "execution_count": 65,
     "metadata": {},
     "output_type": "execute_result"
    }
   ],
   "source": [
    "from typing import List\n",
    "\n",
    "def maxCount(m: int, n: int, ops: List[List[int]]) -> int:\n",
    "    if not ops:\n",
    "        return m * n\n",
    "\n",
    "    min_x = min(op[0] for op in ops)\n",
    "    min_y = min(op[1] for op in ops)\n",
    "\n",
    "    return min_x * min_y\n",
    "\n",
    "m = 3\n",
    "n = 3\n",
    "ops = [[2,2],[3,3]]\n",
    "maxCount(m,n, ops)"
   ]
  },
  {
   "cell_type": "markdown",
   "id": "cfdc64ff",
   "metadata": {},
   "source": [
    "tc = O(K), where `k` is the number of operations\n",
    "\n",
    "sc =O(1)"
   ]
  },
  {
   "cell_type": "markdown",
   "id": "5515f0ac",
   "metadata": {},
   "source": [
    "<aside>\n",
    "💡 **Question 8**\n",
    "\n",
    "Given the array nums consisting of 2n elements in the form [x1,x2,...,xn,y1,y2,...,yn].\n",
    "\n",
    "*Return the array in the form* [x1,y1,x2,y2,...,xn,yn].\n",
    "\n",
    "**Example 1:**\n",
    "\n",
    "**Input:** nums = [2,5,1,3,4,7], n = 3\n",
    "\n",
    "**Output:** [2,3,5,4,1,7]\n",
    "\n",
    "**Explanation:** Since x1=2, x2=5, x3=1, y1=3, y2=4, y3=7 then the answer is [2,3,5,4,1,7].\n",
    "\n",
    "</aside>"
   ]
  },
  {
   "cell_type": "code",
   "execution_count": 47,
   "id": "d80595ea",
   "metadata": {},
   "outputs": [
    {
     "data": {
      "text/plain": [
       "[2, 4, 5, 7, 1, 8, 3, 9]"
      ]
     },
     "execution_count": 47,
     "metadata": {},
     "output_type": "execute_result"
    }
   ],
   "source": [
    "def solution(array, n):\n",
    "    l =[]\n",
    "    p1=n\n",
    "        \n",
    "    for i in range(n):\n",
    "        l.append(array[i])\n",
    "        for j in range(p1, 2*n):\n",
    "            l.append(array[j])\n",
    "            p1=p1+1\n",
    "            break\n",
    "    return l\n",
    "\n",
    "nums = [2,5,1,3,4,7, 8, 9]\n",
    "solution(nums, 4)"
   ]
  },
  {
   "cell_type": "markdown",
   "id": "96c96415",
   "metadata": {},
   "source": [
    "**tc = O(n^n)**, The outer loop runs for n iterations, and for each iteration, the inner loop runs from p1 to 2n. In the worst case, p1 can take values from n to 2n, resulting in a range of size n. Therefore, the total number of iterations of the inner loop is approximately (2n - n) = n. Hence, the overall time complexity is O(n^2)\n",
    "\n",
    "**sc = O(2n)= O(n)**,  In Big O notation, constants are ignored, and only the dominant term is considered. Since the dominant term in 2n is n, we can simplify it to O(n). So the space complexity of the given code is O(n)."
   ]
  },
  {
   "cell_type": "code",
   "execution_count": 48,
   "id": "4571740d",
   "metadata": {},
   "outputs": [
    {
     "data": {
      "text/plain": [
       "[2, 4, 5, 7, 1, 8, 3, 9]"
      ]
     },
     "execution_count": 48,
     "metadata": {},
     "output_type": "execute_result"
    }
   ],
   "source": [
    "def solution1(array, n):\n",
    "    l =[]\n",
    "    \n",
    "    for i in range(n):\n",
    "        l.append(array[i])\n",
    "        l.append(array[i+n])\n",
    "    return l\n",
    "\n",
    "\n",
    "nums = [2,5,1,3,4,7, 8, 9]\n",
    "solution(nums, 4)"
   ]
  },
  {
   "cell_type": "markdown",
   "id": "eaaad8f4",
   "metadata": {},
   "source": [
    "TC =O(n)\n",
    "\n",
    "SC =O(2n)= O(n)"
   ]
  },
  {
   "cell_type": "code",
   "execution_count": null,
   "id": "09e13d51",
   "metadata": {},
   "outputs": [],
   "source": []
  }
 ],
 "metadata": {
  "kernelspec": {
   "display_name": "Python 3 (ipykernel)",
   "language": "python",
   "name": "python3"
  },
  "language_info": {
   "codemirror_mode": {
    "name": "ipython",
    "version": 3
   },
   "file_extension": ".py",
   "mimetype": "text/x-python",
   "name": "python",
   "nbconvert_exporter": "python",
   "pygments_lexer": "ipython3",
   "version": "3.9.12"
  }
 },
 "nbformat": 4,
 "nbformat_minor": 5
}
