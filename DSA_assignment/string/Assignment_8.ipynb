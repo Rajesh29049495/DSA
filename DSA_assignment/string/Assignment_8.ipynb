{
 "cells": [
  {
   "cell_type": "markdown",
   "id": "fae95f5b",
   "metadata": {},
   "source": [
    "<aside>\n",
    "💡 **Question 1**\n",
    "\n",
    "Given two strings s1 and s2, return *the lowest **ASCII** sum of deleted characters to make two strings equal*.\n",
    "\n",
    "**Example 1:**\n",
    "\n",
    "**Input:** s1 = \"sea\", s2 = \"eat\"\n",
    "\n",
    "**Output:** 231\n",
    "\n",
    "**Explanation:** Deleting \"s\" from \"sea\" adds the ASCII value of \"s\" (115) to the sum.\n",
    "\n",
    "Deleting \"t\" from \"eat\" adds 116 to the sum.\n",
    "\n",
    "At the end, both strings are equal, and 115 + 116 = 231 is the minimum sum possible to achieve this.\n",
    "\n",
    "</aside>"
   ]
  },
  {
   "cell_type": "code",
   "execution_count": 2,
   "id": "c6c9d3b2",
   "metadata": {},
   "outputs": [
    {
     "data": {
      "text/plain": [
       "231"
      ]
     },
     "execution_count": 2,
     "metadata": {},
     "output_type": "execute_result"
    }
   ],
   "source": [
    "def solution(s1, s2):\n",
    "    d ={}\n",
    "    sum = 0\n",
    "    \n",
    "    for i in s1:\n",
    "        d[i]=d.get(i, 0)+1\n",
    "        \n",
    "    for j in s2:\n",
    "        d[j]=d.get(j, 0)+1\n",
    "    \n",
    "    for k in d.keys():\n",
    "        if d[k]==1:\n",
    "            sum= sum + ord(k)\n",
    "            \n",
    "    return sum\n",
    "\n",
    "s1 = \"sea\"\n",
    "s2 = \"eat\"\n",
    "\n",
    "solution(s1, s2)\n",
    "            "
   ]
  },
  {
   "cell_type": "markdown",
   "id": "96ed5096",
   "metadata": {},
   "source": [
    "TC = O(m+n),,where m and n are the lengths of strings s1 and s2, respectively. The code iterates over both s1 and s2 once to populate the dictionary d.\n",
    "\n",
    "SC = O(m+n), The dictionary d can have at most O(m + n) unique keys, each requiring constant space. Hence, the space complexity is linear in the lengths of s1 and s2."
   ]
  },
  {
   "cell_type": "markdown",
   "id": "2043e557",
   "metadata": {},
   "source": [
    "<aside>\n",
    "💡 **Question 2**\n",
    "\n",
    "Given a string s containing only three types of characters: '(', ')' and '*', return true *if* s *is **valid***.\n",
    "\n",
    "The following rules define a **valid** string:\n",
    "\n",
    "- Any left parenthesis '(' must have a corresponding right parenthesis ')'.\n",
    "- Any right parenthesis ')' must have a corresponding left parenthesis '('.\n",
    "- Left parenthesis '(' must go before the corresponding right parenthesis ')'.\n",
    "- '*' could be treated as a single right parenthesis ')' or a single left parenthesis '(' or an empty string \"\".\n",
    "\n",
    "**Example 1:**\n",
    "\n",
    "**Input:** s = \"()\"\n",
    "\n",
    "**Output:**\n",
    "\n",
    "true\n",
    "\n",
    "</aside>"
   ]
  },
  {
   "cell_type": "code",
   "execution_count": 7,
   "id": "2f500d49",
   "metadata": {},
   "outputs": [
    {
     "data": {
      "text/plain": [
       "True"
      ]
     },
     "execution_count": 7,
     "metadata": {},
     "output_type": "execute_result"
    }
   ],
   "source": [
    "def solution(s):\n",
    "    l =[]\n",
    "    \n",
    "    for char in s:\n",
    "        if char=='(' or char=='*':\n",
    "            l.append(char)\n",
    "        elif char==')':\n",
    "            if l and l[-1]=='(':\n",
    "                l.pop()\n",
    "            elif l and l[-1]=='*':\n",
    "                l.pop()\n",
    "            else:\n",
    "                return False\n",
    "    while l:\n",
    "        if l[-1]=='(':\n",
    "            return False\n",
    "        elif l[-1]=='*':\n",
    "            l.pop()\n",
    "            l.pop()\n",
    "        else:\n",
    "            return False\n",
    "    \n",
    "    return True\n",
    "\n",
    "s= \"(*\"\n",
    "solution(s)\n",
    "        \n",
    "        \n",
    "    "
   ]
  },
  {
   "cell_type": "markdown",
   "id": "56b5bb36",
   "metadata": {},
   "source": [
    "TC =O(n), where n is the length of the input string s. This is because we iterate through the string once, performing constant time operations for each character.\n",
    "\n",
    "SC = O(n),  In worst case, stack contain all the characters in the string. Therefore, the space required is proportional to the length of the input string"
   ]
  },
  {
   "cell_type": "markdown",
   "id": "2b88aa71",
   "metadata": {},
   "source": [
    "<aside>\n",
    "💡 **Question 3**\n",
    "\n",
    "Given two strings word1 and word2, return *the minimum number of **steps** required to make* word1 *and* word2 *the same*.\n",
    "\n",
    "In one **step**, you can delete exactly one character in either string.\n",
    "\n",
    "**Example 1:**\n",
    "\n",
    "**Input:** word1 = \"sea\", word2 = \"eat\"\n",
    "\n",
    "**Output:** 2\n",
    "\n",
    "**Explanation:** You need one step to make \"sea\" to \"ea\" and another step to make \"eat\" to \"ea\".\n",
    "\n",
    "</aside>"
   ]
  },
  {
   "cell_type": "code",
   "execution_count": 8,
   "id": "1ce9a1a8",
   "metadata": {},
   "outputs": [
    {
     "data": {
      "text/plain": [
       "2"
      ]
     },
     "execution_count": 8,
     "metadata": {},
     "output_type": "execute_result"
    }
   ],
   "source": [
    "def solution(s1, s2):\n",
    "    d ={}\n",
    "    count=0\n",
    "    \n",
    "    for i in s1:\n",
    "        d[i]= d.get(i, 0)+1\n",
    "    for j in s2:\n",
    "        d[j]= d.get(j, 0)+1\n",
    "    for k in d.values():\n",
    "        if k==1:\n",
    "            count+=1\n",
    "    return count\n",
    "\n",
    "s1 = \"sea\"\n",
    "s2=\"eat\"\n",
    "solution(s1, s2)"
   ]
  },
  {
   "cell_type": "markdown",
   "id": "8076cdd9",
   "metadata": {},
   "source": [
    "TC =O(m+n), where n is the length of string s1 and m is the length of string s2. We iterate through both strings separately, so the time complexity is determined by the lengths of the input strings.\n",
    "\n",
    "SC =O(m+n), dictionary d stores the counts of characters from both strings, so space required is proportional to the combined lengths of the input strings."
   ]
  },
  {
   "cell_type": "markdown",
   "id": "d62cf70d",
   "metadata": {},
   "source": [
    "<aside>\n",
    "💡 **Question 4**\n",
    "\n",
    "You need to construct a binary tree from a string consisting of parenthesis and integers.\n",
    "\n",
    "The whole input represents a binary tree. It contains an integer followed by zero, one or two pairs of parenthesis. The integer represents the root's value and a pair of parenthesis contains a child binary tree with the same structure.\n",
    "You always start to construct the **left** child node of the parent first if it exists.\n",
    "    \n",
    "**Input:** s = \"4(2(3)(1))(6(5))\"\n",
    "\n",
    "**Output:** [4,2,6,3,1,5]\n",
    "\n",
    "</aside>"
   ]
  },
  {
   "cell_type": "code",
   "execution_count": 22,
   "id": "cbdb75cd",
   "metadata": {},
   "outputs": [
    {
     "data": {
      "text/plain": [
       "[4, 2, 6, 3, 1, 5]"
      ]
     },
     "execution_count": 22,
     "metadata": {},
     "output_type": "execute_result"
    }
   ],
   "source": [
    "def solution(s):\n",
    "    listed = list(s)\n",
    "    n = len(listed)\n",
    "    l1=[]\n",
    "    l2=[]\n",
    "    l3=[]\n",
    "    \n",
    "    for i in range(n):\n",
    "        if i==0:\n",
    "            l1.append(int(listed[i]))\n",
    "        elif listed[i]==\"(\" and listed[i+2]==\"(\":\n",
    "            l2.append(int(listed[i+1]))\n",
    "        elif listed[i]==\"(\" and listed[i+2]==\")\":\n",
    "            l3.append(int(listed[i+1]))\n",
    "        \n",
    "    return l1+l2+l3\n",
    "\n",
    "s = \"4(2(3)(1))(6(5))\"\n",
    "solution(s)\n",
    "        "
   ]
  },
  {
   "cell_type": "markdown",
   "id": "91c6bf5d",
   "metadata": {},
   "source": [
    "TC =O(n)\n",
    "\n",
    "SC=O(n),  worst case, all the elements of the string 's' will be stored in the output lists l1, l2, and l3"
   ]
  },
  {
   "cell_type": "markdown",
   "id": "a1c63562",
   "metadata": {},
   "source": [
    "<aside>\n",
    "💡 **Question 5**\n",
    "\n",
    "Given an array of characters chars, compress it using the following algorithm:\n",
    "\n",
    "Begin with an empty string s. For each group of **consecutive repeating characters** in chars:\n",
    "\n",
    "- If the group's length is 1, append the character to s.\n",
    "- Otherwise, append the character followed by the group's length.\n",
    "\n",
    "The compressed string s **should not be returned separately**, but instead, be stored **in the input character array chars**. Note that group lengths that are 10 or longer will be split into multiple characters in chars.\n",
    "\n",
    "After you are done **modifying the input array,** return *the new length of the array*.\n",
    "\n",
    "You must write an algorithm that uses only constant extra space.\n",
    "\n",
    "**Example 1:**\n",
    "\n",
    "**Input:** chars = [\"a\",\"a\",\"b\",\"b\",\"c\",\"c\",\"c\"]\n",
    "\n",
    "**Output:** Return 6, and the first 6 characters of the input array should be: [\"a\",\"2\",\"b\",\"2\",\"c\",\"3\"]\n",
    "\n",
    "**Explanation:**\n",
    "\n",
    "The groups are \"aa\", \"bb\", and \"ccc\". This compresses to \"a2b2c3\".\n",
    "\n",
    "</aside>"
   ]
  },
  {
   "cell_type": "code",
   "execution_count": 12,
   "id": "fcd8aa79",
   "metadata": {},
   "outputs": [
    {
     "data": {
      "text/plain": [
       "6"
      ]
     },
     "execution_count": 12,
     "metadata": {},
     "output_type": "execute_result"
    }
   ],
   "source": [
    "def solution(array):\n",
    "    d ={}\n",
    "    l =[]\n",
    "    \n",
    "    for i in array:\n",
    "        d[i]=d.get(i, 0)+1\n",
    "        \n",
    "    for key, value in d.items():\n",
    "        l.append(key)\n",
    "        l.append(value)\n",
    "    \n",
    "    return len(l)\n",
    "\n",
    "array= [\"a\",\"a\",\"b\",\"b\",\"c\",\"c\",\"c\"]\n",
    "solution(array)"
   ]
  },
  {
   "cell_type": "markdown",
   "id": "74b1a65e",
   "metadata": {},
   "source": [
    "TC =O(n), where n is the length of the input array. This is because the code iterates over the array once to create the dictionary d, and then iterates over the key-value pairs in the dictionary once to append them to the list l. Both of these iterations have a linear time complexity.\n",
    "\n",
    "SC =O(k), where k is the number of unique elements in the array. "
   ]
  },
  {
   "cell_type": "markdown",
   "id": "074a008b",
   "metadata": {},
   "source": [
    "<aside>\n",
    "💡 **Question 6**\n",
    "\n",
    "Given two strings s and p, return *an array of all the start indices of* p*'s anagrams in* s. You may return the answer in **any order**.\n",
    "\n",
    "An **Anagram** is a word or phrase formed by rearranging the letters of a different word or phrase, typically using all the original letters exactly once.\n",
    "\n",
    "**Example 1:**\n",
    "\n",
    "**Input:** s = \"cbaebabacd\", p = \"abc\"\n",
    "\n",
    "**Output:** [0,6]\n",
    "\n",
    "**Explanation:**\n",
    "\n",
    "The substring with start index = 0 is \"cba\", which is an anagram of \"abc\".\n",
    "\n",
    "The substring with start index = 6 is \"bac\", which is an anagram of \"abc\".\n",
    "\n",
    "</aside>"
   ]
  },
  {
   "cell_type": "code",
   "execution_count": 23,
   "id": "41d14f0b",
   "metadata": {},
   "outputs": [
    {
     "data": {
      "text/plain": [
       "[0, 6]"
      ]
     },
     "execution_count": 23,
     "metadata": {},
     "output_type": "execute_result"
    }
   ],
   "source": [
    "def findAnagrams(s, p):\n",
    "    result = []\n",
    "    n, m = len(s), len(p)\n",
    "    if n < m:\n",
    "        return result\n",
    "    \n",
    "    target_count = [0] * 26\n",
    "    window_count = [0] * 26\n",
    "    \n",
    "    # Count the frequency of characters in string p\n",
    "    for i in range(m):\n",
    "        target_count[ord(p[i]) - ord('a')] += 1\n",
    "    \n",
    "    # Initialize the window with the first m characters of string s\n",
    "    for i in range(m):\n",
    "        window_count[ord(s[i]) - ord('a')] += 1\n",
    "    \n",
    "    # Check if the window is an anagram of p for each possible start index\n",
    "    for i in range(n - m + 1):\n",
    "        if window_count == target_count:\n",
    "            result.append(i)\n",
    "        \n",
    "        # Update the window by adding the next character and removing the first character\n",
    "        if i + m < n:\n",
    "            window_count[ord(s[i]) - ord('a')] -= 1\n",
    "            window_count[ord(s[i + m]) - ord('a')] += 1\n",
    "    \n",
    "    return result\n",
    "\n",
    "s = \"cbaebabacd\"\n",
    "p = \"abc\"\n",
    "findAnagrams(s,p)"
   ]
  },
  {
   "cell_type": "markdown",
   "id": "90b3eb57",
   "metadata": {},
   "source": [
    "<aside>\n",
    "💡 **Question 7**\n",
    "\n",
    "Given an encoded string, return its decoded string.\n",
    "\n",
    "The encoding rule is: k[encoded_string], where the encoded_string inside the square brackets is being repeated exactly k times. Note that k is guaranteed to be a positive integer.\n",
    "\n",
    "You may assume that the input string is always valid; there are no extra white spaces, square brackets are well-formed, etc. Furthermore, you may assume that the original data does not contain any digits and that digits are only for those repeat numbers, k. For example, there will not be input like 3a or 2[4].\n",
    "\n",
    "The test cases are generated so that the length of the output will never exceed 105.\n",
    "\n",
    "**Example 1:**\n",
    "\n",
    "**Input:** s = \"3[a]2[bc]\"\n",
    "\n",
    "**Output:** \"aaabcbc\"\n",
    "\n",
    "</aside>"
   ]
  },
  {
   "cell_type": "code",
   "execution_count": 24,
   "id": "30c0016d",
   "metadata": {},
   "outputs": [
    {
     "data": {
      "text/plain": [
       "'aaabcbc'"
      ]
     },
     "execution_count": 24,
     "metadata": {},
     "output_type": "execute_result"
    }
   ],
   "source": [
    "def decodeString(s):\n",
    "    stack = []\n",
    "    curr_string = \"\"\n",
    "    curr_num = 0\n",
    "    \n",
    "    for char in s:\n",
    "        if char.isdigit():\n",
    "            curr_num = curr_num * 10 + int(char)\n",
    "        elif char == '[':\n",
    "            stack.append(curr_string)\n",
    "            stack.append(curr_num)\n",
    "            curr_string = \"\"\n",
    "            curr_num = 0\n",
    "        elif char == ']':\n",
    "            num = stack.pop()\n",
    "            prev_string = stack.pop()\n",
    "            curr_string = prev_string + num * curr_string\n",
    "        else:\n",
    "            curr_string += char\n",
    "    \n",
    "    return curr_string\n",
    "\n",
    "s = \"3[a]2[bc]\"\n",
    "decodeString(s)"
   ]
  },
  {
   "cell_type": "markdown",
   "id": "7011db0b",
   "metadata": {},
   "source": []
  },
  {
   "cell_type": "code",
   "execution_count": null,
   "id": "d1e72b8a",
   "metadata": {},
   "outputs": [],
   "source": []
  }
 ],
 "metadata": {
  "kernelspec": {
   "display_name": "Python 3 (ipykernel)",
   "language": "python",
   "name": "python3"
  },
  "language_info": {
   "codemirror_mode": {
    "name": "ipython",
    "version": 3
   },
   "file_extension": ".py",
   "mimetype": "text/x-python",
   "name": "python",
   "nbconvert_exporter": "python",
   "pygments_lexer": "ipython3",
   "version": "3.9.12"
  }
 },
 "nbformat": 4,
 "nbformat_minor": 5
}
