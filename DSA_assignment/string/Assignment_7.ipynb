{
 "cells": [
  {
   "cell_type": "markdown",
   "id": "725dcd18",
   "metadata": {},
   "source": [
    "<aside>\n",
    "💡 **Question 1**\n",
    "\n",
    "Given two strings s and t, *determine if they are isomorphic*.\n",
    "\n",
    "Two strings s and t are isomorphic if the characters in s can be replaced to get t.\n",
    "\n",
    "All occurrences of a character must be replaced with another character while preserving the order of characters. No two characters may map to the same character, but a character may map to itself.\n",
    "\n",
    "**Example 1:**\n",
    "\n",
    "**Input:** s = \"egg\", t = \"add\"\n",
    "\n",
    "**Output:** true\n",
    "\n",
    "</aside>"
   ]
  },
  {
   "cell_type": "code",
   "execution_count": 9,
   "id": "402ea572",
   "metadata": {},
   "outputs": [
    {
     "data": {
      "text/plain": [
       "True"
      ]
     },
     "execution_count": 9,
     "metadata": {},
     "output_type": "execute_result"
    }
   ],
   "source": [
    "def solution(s1, s2):\n",
    "    mapping ={}\n",
    "    used_chars= set()\n",
    "    \n",
    "    if len(s1)!=len(s2):\n",
    "        return False\n",
    "    \n",
    "    for ch1, ch2 in zip(s1, s2):\n",
    "        if ch1 in mapping:\n",
    "            if mapping[ch1]!=ch2:\n",
    "                return False\n",
    "        else:\n",
    "            if ch2 in used_chars:  ##mtlb ch2 used ho chuka hai but there i sno ch1 mapped to it, that means it is alraedy mapped to some other charcatedr of s1\n",
    "                return False\n",
    "            mapping[ch1]=ch2\n",
    "            used_chars.add(ch2)\n",
    "            \n",
    "    return True\n",
    "            \n",
    "\n",
    "s = \"acc\"\n",
    "t = \"add\"\n",
    "solution(s,t)"
   ]
  },
  {
   "cell_type": "markdown",
   "id": "f60f0748",
   "metadata": {},
   "source": [
    "TC =O(n), where n is the length of the input strings s and t.\n",
    "\n",
    "SC =O(k), k is the number of unique characters."
   ]
  },
  {
   "cell_type": "markdown",
   "id": "417bd818",
   "metadata": {},
   "source": [
    "<aside>\n",
    "💡 **Question 2**\n",
    "\n",
    "Given a string num which represents an integer, return true *if* num *is a **strobogrammatic number***.\n",
    "\n",
    "A **strobogrammatic number** is a number that looks the same when rotated 180 degrees (looked at upside down).\n",
    "\n",
    "**Example 1:**\n",
    "\n",
    "**Input:** num = \"69\"\n",
    "\n",
    "**Output:**\n",
    "\n",
    "true\n",
    "\n",
    "</aside>"
   ]
  },
  {
   "cell_type": "code",
   "execution_count": 13,
   "id": "74cc006e",
   "metadata": {},
   "outputs": [
    {
     "data": {
      "text/plain": [
       "True"
      ]
     },
     "execution_count": 13,
     "metadata": {},
     "output_type": "execute_result"
    }
   ],
   "source": [
    "def solution(s):\n",
    "    mapping = {'0':'0', '1':'1', '6':'9', '8':'8', '9':'6'}\n",
    "    left = 0\n",
    "    right = len(s)-1\n",
    "    \n",
    "    while left<=right:\n",
    "        if s[left] not in mapping or mapping[s[left]]!=s[right]:\n",
    "            return False\n",
    "        left+=1\n",
    "        right-=1\n",
    "        \n",
    "    return True\n",
    "\n",
    "num = \"69\"\n",
    "solution(num)"
   ]
  },
  {
   "cell_type": "markdown",
   "id": "28e4aabe",
   "metadata": {},
   "source": [
    "TC = O(n), where n is the length of the input number.\n",
    "\n",
    "SC = O(1), because it uses a constant amount of extra space. Regardless of the size of the input number, the code only uses a fixed-size dictionary (mapping) and a few variables (left, right). "
   ]
  },
  {
   "cell_type": "markdown",
   "id": "4ab9df94",
   "metadata": {},
   "source": [
    "<aside>\n",
    "💡 **Question 3**\n",
    "\n",
    "Given two non-negative integers, num1 and num2 represented as string, return *the sum of* num1 *and* num2 *as a string*.\n",
    "\n",
    "You must solve the problem without using any built-in library for handling large integers (such as BigInteger). You must also not convert the inputs to integers directly.\n",
    "\n",
    "**Example 1:**\n",
    "\n",
    "**Input:** num1 = \"11\", num2 = \"123\"\n",
    "\n",
    "**Output:**\n",
    "\n",
    "\"134\"\n",
    "\n",
    "</aside>"
   ]
  },
  {
   "cell_type": "code",
   "execution_count": 42,
   "id": "d34aaa66",
   "metadata": {},
   "outputs": [
    {
     "data": {
      "text/plain": [
       "'134'"
      ]
     },
     "execution_count": 42,
     "metadata": {},
     "output_type": "execute_result"
    }
   ],
   "source": [
    "def addstr(num1, num2):\n",
    "    i = len(num1)-1\n",
    "    j = len(num2)-1\n",
    "    carry =0\n",
    "    result=[]\n",
    "    \n",
    "    while i>=0 or j>=0:\n",
    "        digit1= int(num1[i]) if i>=0 else 0\n",
    "        digit2 = int(num2[j]) if j>=0 else 0\n",
    "        \n",
    "        total = digit1+digit2+carry\n",
    "        carry = total//10\n",
    "        digit = total%10\n",
    "        \n",
    "        result.append(str(digit))\n",
    "        \n",
    "        i-=1\n",
    "        j-=1\n",
    "        \n",
    "    if carry>0:\n",
    "        result.append(str(carry))\n",
    "        \n",
    "    return \"\".join(result[::-1])\n",
    "\n",
    "num1=\"11\"\n",
    "num2=\"123\"\n",
    "addstr(num1, num2)"
   ]
  },
  {
   "cell_type": "markdown",
   "id": "efda6806",
   "metadata": {},
   "source": [
    "TC = O(max(n1, n2)), where n1 and n2 are the lengths of the input strings num1 and num2, respectively. This is because the code iterates through the digits of both numbers simultaneously, and the number of iterations is determined by the length of the longer number.\n",
    "\n",
    "SV = O(max(n1, n2)), because the code creates a result list to store the individual digits of the sum. The length of this list can be at most max(n1, n2) + 1 (if there is a carry in the most significant digit), which is proportional to the length of the longer number."
   ]
  },
  {
   "cell_type": "markdown",
   "id": "06c867af",
   "metadata": {},
   "source": [
    "<aside>\n",
    "💡 **Question 4**\n",
    "\n",
    "Given a string s, reverse the order of characters in each word within a sentence while still preserving whitespace and initial word order.\n",
    "\n",
    "**Example 1:**\n",
    "\n",
    "**Input:** s = \"Let's take LeetCode contest\"\n",
    "\n",
    "**Output:** \"s'teL ekat edoCteeL tsetnoc\"\n",
    "\n",
    "</aside>"
   ]
  },
  {
   "cell_type": "code",
   "execution_count": 11,
   "id": "bd314f4c",
   "metadata": {},
   "outputs": [
    {
     "data": {
      "text/plain": [
       "\"s'teL ekat edoCteeL tsetnoc\""
      ]
     },
     "execution_count": 11,
     "metadata": {},
     "output_type": "execute_result"
    }
   ],
   "source": [
    "def solution(string):\n",
    "    l =[]\n",
    "    \n",
    "    for i in string.split():\n",
    "        l.append(i[::-1])\n",
    "        \n",
    "    return \" \".join(l)\n",
    "\n",
    "s = \"Let's take LeetCode contest\"\n",
    "solution(s)"
   ]
  },
  {
   "cell_type": "markdown",
   "id": "8b8fcb1b",
   "metadata": {},
   "source": [
    "TC = O(n)+O(m)≈O(n), where m is teh avg. number of words in teh string, and n is the length of the input string, now n is more, theerfore the TC is O(n)  \n",
    "\n",
    "SC = O(n), space complexity is how much extra space/memory code needs to run. In this case l is used to store reversed words. The size of the list depends upon number of words in teh input string. However , the space used by the fibal result, which is joined string of reversed words, is not counted in the space complexity . Because the output is not additional memory used by the code itself but rather part of the result that the code produces. We assue that space is available to store the output."
   ]
  },
  {
   "cell_type": "markdown",
   "id": "d899f75f",
   "metadata": {},
   "source": [
    "<aside>\n",
    "💡 **Question 5**\n",
    "\n",
    "Given a string s and an integer k, reverse the first k characters for every 2k characters counting from the start of the string.\n",
    "\n",
    "If there are fewer than k characters left, reverse all of them. If there are less than 2k but greater than or equal to k characters, then reverse the first k characters and leave the other as original.\n",
    "\n",
    "**Example 1:**\n",
    "\n",
    "**Input:** s = \"abcdefg\", k = 2\n",
    "\n",
    "**Output:**\n",
    "\n",
    "\"bacdfeg\"\n",
    "\n",
    "</aside>"
   ]
  },
  {
   "cell_type": "code",
   "execution_count": 38,
   "id": "6dd9f30a",
   "metadata": {},
   "outputs": [
    {
     "data": {
      "text/plain": [
       "'cbadefihgjkhbfvcnmva'"
      ]
     },
     "execution_count": 38,
     "metadata": {},
     "output_type": "execute_result"
    }
   ],
   "source": [
    "def solution(s, k):\n",
    "    chars = list(s)\n",
    "    n = len(chars)\n",
    "    \n",
    "    for i in range(0, n, 2*k):\n",
    "        chars[i:i+k] = chars[i:i+k][::-1]\n",
    "    \n",
    "    return ''.join(chars)\n",
    "\n",
    "string = \"abcdefghijkhvfbcnmav\"\n",
    "k =3\n",
    "solution(string, k)"
   ]
  },
  {
   "cell_type": "markdown",
   "id": "db83f648",
   "metadata": {},
   "source": [
    "TC =O(n)\n",
    "\n",
    "SC = O(n)"
   ]
  },
  {
   "cell_type": "markdown",
   "id": "eedce8f4",
   "metadata": {},
   "source": [
    "<aside>\n",
    "💡 **Question 6**\n",
    "\n",
    "Given two strings s and goal, return true *if and only if* s *can become* goal *after some number of **shifts** on* s.\n",
    "\n",
    "A **shift** on s consists of moving the leftmost character of s to the rightmost position.\n",
    "\n",
    "- For example, if s = \"abcde\", then it will be \"bcdea\" after one shift.\n",
    "\n",
    "**Example 1:**\n",
    "\n",
    "**Input:** s = \"abcde\", goal = \"cdeab\"\n",
    "\n",
    "**Output:**\n",
    "\n",
    "true\n",
    "\n",
    "</aside>"
   ]
  },
  {
   "cell_type": "code",
   "execution_count": 57,
   "id": "4e9a631b",
   "metadata": {},
   "outputs": [
    {
     "data": {
      "text/plain": [
       "True"
      ]
     },
     "execution_count": 57,
     "metadata": {},
     "output_type": "execute_result"
    }
   ],
   "source": [
    "def solution(s, goal):\n",
    "    listed_s = list(s)\n",
    "    listed_goal = list(goal)\n",
    "    m = len(listed_s)\n",
    "    n = len(listed_goal)\n",
    "    \n",
    "    if m!=n:\n",
    "        return False\n",
    "    \n",
    "    for i in range(m):\n",
    "        listed_s.append(listed_s.pop(0))\n",
    "        if listed_s==listed_goal:\n",
    "            return True\n",
    "        continue\n",
    "    return False\n",
    "\n",
    "s = \"abcde\"\n",
    "goal= \"deabc\"\n",
    "solution(s, goal)"
   ]
  },
  {
   "cell_type": "markdown",
   "id": "1e244b3d",
   "metadata": {},
   "source": [
    "TC = O(n^2), where n is the length of the input strings s and goal. This is because the code contains a loop that iterates m times, where m is the length of s. Inside the loop, there is a pop(0) operation on the listed_s list, which has a time complexity of O(n) as it requires shifting all the elements to the left. Therefore, the overall time complexity is O(n^2).\n",
    "\n",
    "SC = O(2n)=O(n)"
   ]
  },
  {
   "cell_type": "markdown",
   "id": "cfe4c063",
   "metadata": {},
   "source": [
    "<aside>\n",
    "💡 **Question 7**\n",
    "\n",
    "Given two strings s and t, return true *if they are equal when both are typed into empty text editors*. '#' means a backspace character.\n",
    "\n",
    "Note that after backspacing an empty text, the text will continue empty.\n",
    "\n",
    "**Example 1:**\n",
    "\n",
    "**Input:** s = \"ab#c\", t = \"ad#c\"\n",
    "\n",
    "**Output:** true\n",
    "\n",
    "**Explanation:**\n",
    "\n",
    "Both s and t become \"ac\".\n",
    "\n",
    "</aside>"
   ]
  },
  {
   "cell_type": "code",
   "execution_count": 60,
   "id": "34dc438f",
   "metadata": {},
   "outputs": [
    {
     "data": {
      "text/plain": [
       "True"
      ]
     },
     "execution_count": 60,
     "metadata": {},
     "output_type": "execute_result"
    }
   ],
   "source": [
    "# function will obtain processed string for 's' and 't' and then compares them for equality\n",
    "def backspaceCompare(s, t):\n",
    "    # function to apply the backspace rule, iterating through characters of string and build result by appending non -backspace characters and removing the last characer for each backspace encountered\n",
    "    def processString(string):\n",
    "        result = []\n",
    "        for char in string:\n",
    "            if char !='#':\n",
    "                result.append(char)\n",
    "            elif result:\n",
    "                result.pop()\n",
    "        return result\n",
    "    \n",
    "    return processString(s)==processString(t)\n",
    "\n",
    "s =\"ab#c\"\n",
    "t = \"ad#c\"\n",
    "backspaceCompare(s, t)"
   ]
  },
  {
   "cell_type": "markdown",
   "id": "5c553491",
   "metadata": {},
   "source": [
    "TC = O(m + n), where m and n are the lengths of the input strings s and t, respectively. This is because the code iterates through both strings once while building the processed strings using the processString function\n",
    "\n",
    "SC = O(m + n), as well. This is because the code creates a result list for each processed string, which can have a maximum length of m + n in the worst case. "
   ]
  },
  {
   "cell_type": "markdown",
   "id": "f14487ec",
   "metadata": {},
   "source": [
    "<aside>\n",
    "💡 **Question 8**\n",
    "\n",
    "You are given an array coordinates, coordinates[i] = [x, y], where [x, y] represents the coordinate of a point. Check if these points make a straight line in the XY plane.\n",
    "\n",
    "**Example 1:**\n",
    "\n",
    "**Input:** coordinates = [[1,2],[2,3],[3,4],[4,5],[5,6],[6,7]]\n",
    "\n",
    "**Output:** true\n",
    "\n",
    "</aside>"
   ]
  },
  {
   "cell_type": "code",
   "execution_count": 67,
   "id": "8141226a",
   "metadata": {},
   "outputs": [
    {
     "data": {
      "text/plain": [
       "True"
      ]
     },
     "execution_count": 67,
     "metadata": {},
     "output_type": "execute_result"
    }
   ],
   "source": [
    "def solution(array):\n",
    "    n = len(array)\n",
    "    \n",
    "    # Loop to compare slopes\n",
    "    for i in range(1, n - 1):\n",
    "        slope1 = (array[i][1] - array[i - 1][1]) / (array[i][0] - array[i - 1][0]) if (array[i][0] - array[i - 1][0]) != 0 else float('inf')\n",
    "        slope2 = (array[i + 1][1] - array[i][1]) / (array[i + 1][0] - array[i][0]) if (array[i + 1][0] - array[i][0]) != 0 else float('inf')\n",
    "        if slope1 != slope2:\n",
    "            return False\n",
    "\n",
    "    return True\n",
    "\n",
    "coordinates = [[1,2],[2,3],[3,4],[4,5],[5,6],[6,7]]\n",
    "solution(coordinates)"
   ]
  },
  {
   "cell_type": "markdown",
   "id": "802ec110",
   "metadata": {},
   "source": [
    "TC =O(n), where n is the number of points in the input array. The loop runs from the second point to the second-to-last point, so it performs n-2 iterations.\n",
    "Within each iteration, the code calculates and compares slopes, which involves basic arithmetic operations. These operations have a constant time complexity.\n",
    "\n",
    "SC =O(1)"
   ]
  },
  {
   "cell_type": "code",
   "execution_count": null,
   "id": "b4da02cd",
   "metadata": {},
   "outputs": [],
   "source": []
  }
 ],
 "metadata": {
  "kernelspec": {
   "display_name": "Python 3 (ipykernel)",
   "language": "python",
   "name": "python3"
  },
  "language_info": {
   "codemirror_mode": {
    "name": "ipython",
    "version": 3
   },
   "file_extension": ".py",
   "mimetype": "text/x-python",
   "name": "python",
   "nbconvert_exporter": "python",
   "pygments_lexer": "ipython3",
   "version": "3.9.12"
  }
 },
 "nbformat": 4,
 "nbformat_minor": 5
}
