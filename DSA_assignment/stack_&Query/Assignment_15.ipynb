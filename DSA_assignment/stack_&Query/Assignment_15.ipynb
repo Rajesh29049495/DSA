{
 "cells": [
  {
   "cell_type": "markdown",
   "id": "8b8c8b31",
   "metadata": {},
   "source": [
    "<aside>\n",
    "💡 **Question 1**\n",
    "\n",
    "Given an array **arr[ ]** of size **N** having elements, the task is to find the next greater element for each element of the array in order of their appearance in the array.Next greater element of an element in the array is the nearest element on the right which is greater than the current element.If there does not exist next greater of current element, then next greater element for current element is -1. For example, next greater of the last element is always -1.\n",
    "\n",
    "**Example 1:**\n",
    "```\n",
    "Input:\n",
    "N = 4, arr[] = [1 3 2 4]\n",
    "Output:\n",
    "3 4 4 -1\n",
    "Explanation:\n",
    "In the array, the next larger element\n",
    "to 1 is 3 , 3 is 4 , 2 is 4 and for 4 ?\n",
    "since it doesn't exist, it is -1.\n",
    "```\n",
    "\n",
    "</aside>"
   ]
  },
  {
   "cell_type": "code",
   "execution_count": 19,
   "id": "5258fc36",
   "metadata": {},
   "outputs": [
    {
     "data": {
      "text/plain": [
       "[8, -1, 1, 3, -1]"
      ]
     },
     "execution_count": 19,
     "metadata": {},
     "output_type": "execute_result"
    }
   ],
   "source": [
    "def next_greater_elements(arr):\n",
    "    n = len(arr)\n",
    "    result = [-1] * n\n",
    "    stack = []\n",
    "\n",
    "    for i in range(n-1, -1, -1):\n",
    "        while stack and stack[-1] <= arr[i]:    ##if stack not empty, and it stop element is lesser than current array element than pop it\n",
    "            stack.pop()\n",
    "\n",
    "        if stack:                               ##if stack not empty , bit the top element of it is greater than the current array element than update the result's ith index valeu with teh stack's top element and than pop it\n",
    "            result[i] = stack[-1]\n",
    "            stack.pop()\n",
    "\n",
    "        stack.append(arr[i])                     #if the stack is empty then append it wit current array element\n",
    "\n",
    "    return result\n",
    "\n",
    "arr= [6, 8, 0, 1, 3]\n",
    "n=4\n",
    "next_greater_elements(arr)"
   ]
  },
  {
   "cell_type": "markdown",
   "id": "677b0b56",
   "metadata": {},
   "source": [
    "TC =O(n)\n",
    "\n",
    "SC =O(n)"
   ]
  },
  {
   "cell_type": "code",
   "execution_count": 17,
   "id": "8d1fec66",
   "metadata": {},
   "outputs": [
    {
     "data": {
      "text/plain": [
       "[8, -1, 1, 3, -1]"
      ]
     },
     "execution_count": 17,
     "metadata": {},
     "output_type": "execute_result"
    }
   ],
   "source": [
    "def find_next_greater_elements(arr):\n",
    "    n = len(arr)\n",
    "    stack = []\n",
    "    result = [-1] * n\n",
    "\n",
    "    for i in range(n):\n",
    "        while stack and arr[i] > arr[stack[-1]]:\n",
    "            idx = stack.pop()\n",
    "            result[idx] = arr[i]\n",
    "\n",
    "        stack.append(i)\n",
    "\n",
    "    return result\n",
    "\n",
    "arr= [6, 8, 0, 1, 3]\n",
    "next_greater_elements(arr)"
   ]
  },
  {
   "cell_type": "markdown",
   "id": "59cddc72",
   "metadata": {},
   "source": [
    "TC =O(n)\n",
    "\n",
    "SC= O(n)"
   ]
  },
  {
   "cell_type": "markdown",
   "id": "44fb4e1d",
   "metadata": {},
   "source": [
    "******************************************"
   ]
  },
  {
   "cell_type": "markdown",
   "id": "77665705",
   "metadata": {},
   "source": [
    "<aside>\n",
    "💡 **Question 2**\n",
    "\n",
    "Given an array **a** of integers of length **n**, find the nearest smaller number for every element such that the smaller element is on left side.If no small element present on the left print -1.\n",
    "\n",
    "**Example 1:**\n",
    "```\n",
    "Input: n = 3\n",
    "a = {1, 6, 2}\n",
    "Output: -1 1 1\n",
    "Explaination: There is no number at the\n",
    "left of 1. Smaller number than 6 and 2 is 1.\n",
    "```    \n",
    "</aside>"
   ]
  },
  {
   "cell_type": "code",
   "execution_count": 22,
   "id": "b4ea03eb",
   "metadata": {},
   "outputs": [
    {
     "data": {
      "text/plain": [
       "[-1, 1, -1, 0, 3, 4]"
      ]
     },
     "execution_count": 22,
     "metadata": {},
     "output_type": "execute_result"
    }
   ],
   "source": [
    "def nearest_small_element(arr):\n",
    "    n = len(arr)\n",
    "    stack =[]\n",
    "    result = [-1]*n\n",
    "    \n",
    "    for i in range(n):\n",
    "        while stack and stack[-1]>arr[i]:\n",
    "            stack.pop()\n",
    "        \n",
    "        if stack:\n",
    "            result[i]=stack[-1]\n",
    "            stack.pop()\n",
    "            \n",
    "        stack.append(arr[i])\n",
    "    \n",
    "    return result\n",
    "\n",
    "a=[1, 5, 0, 3, 4, 5]\n",
    "nearest_small_element(a)"
   ]
  },
  {
   "cell_type": "markdown",
   "id": "44a0f682",
   "metadata": {},
   "source": [
    "TC =O(n)\n",
    "\n",
    "SC =O(n)"
   ]
  },
  {
   "cell_type": "markdown",
   "id": "77cb0182",
   "metadata": {},
   "source": [
    "<aside>\n",
    "💡 **Question 3**\n",
    "\n",
    "Implement a Stack using two queues **q1** and **q2**.\n",
    "\n",
    "**Example 1:**\n",
    "\n",
    "```\n",
    "Input:\n",
    "push(2)\n",
    "push(3)\n",
    "pop()\n",
    "push(4)\n",
    "pop()\n",
    "Output:3 4\n",
    "Explanation:\n",
    "push(2) the stack will be {2}\n",
    "push(3) the stack will be {2 3}\n",
    "pop()   poped element will be 3 the\n",
    "        stack will be {2}\n",
    "push(4) the stack will be {2 4}\n",
    "pop()   poped element will be 4\n",
    "\n",
    "```\n",
    "\n",
    "**Example 2:**\n",
    "\n",
    "</aside>"
   ]
  },
  {
   "cell_type": "code",
   "execution_count": 27,
   "id": "8c4d676c",
   "metadata": {},
   "outputs": [
    {
     "data": {
      "text/plain": [
       "4"
      ]
     },
     "execution_count": 27,
     "metadata": {},
     "output_type": "execute_result"
    }
   ],
   "source": [
    "class stack:\n",
    "    def __init__(self):\n",
    "        self.q1=[]\n",
    "        self.q2 = []\n",
    "        \n",
    "    def push(self, x):\n",
    "        self.q1.append(x)\n",
    "        \n",
    "    def pop(self):\n",
    "        while len(self.q1)>1:\n",
    "            self.q2.append(self.q1.pop(0))\n",
    "        popped = self.q1.pop(0)\n",
    "        \n",
    "        while len(self.q2)!=0:\n",
    "            self.q1.append(self.q2.pop(0))\n",
    "        return popped\n",
    "\n",
    "mystack = stack()\n",
    "mystack.push(2)\n",
    "mystack.push(3)\n",
    "mystack.pop()\n",
    "mystack.push(4)\n",
    "mystack.pop()\n"
   ]
  },
  {
   "cell_type": "markdown",
   "id": "ccce7395",
   "metadata": {},
   "source": [
    "*********************************************"
   ]
  },
  {
   "cell_type": "markdown",
   "id": "245526ef",
   "metadata": {},
   "source": [
    "<aside>\n",
    "💡 **Question 4**\n",
    "\n",
    "You are given a stack **St**. You have to reverse the stack using recursion.\n",
    "\n",
    "**Example 1:**\n",
    "\n",
    "```\n",
    "Input:St = {3,2,1,7,6}\n",
    "Output:{6,7,1,2,3}\n",
    "```\n",
    "\n",
    "**Example 2:**\n",
    "```\n",
    "Input:St = {4,3,9,6}\n",
    "Output:{6,9,3,4}    \n",
    "```\n",
    "</aside>"
   ]
  },
  {
   "cell_type": "code",
   "execution_count": 45,
   "id": "32eb333f",
   "metadata": {},
   "outputs": [
    {
     "data": {
      "text/plain": [
       "[6, 7, 1, 2, 3]"
      ]
     },
     "execution_count": 45,
     "metadata": {},
     "output_type": "execute_result"
    }
   ],
   "source": [
    "def reverse_stack(stack):\n",
    "    if len(stack) <= 1:\n",
    "        return stack\n",
    "\n",
    "    top = stack.pop(0)\n",
    "    reversed_stack = reverse_stack(stack)\n",
    "    reversed_stack.append(top)\n",
    "    return reversed_stack\n",
    "\n",
    "St = [3,2,1,7,6]\n",
    "reverse_stack(St)"
   ]
  },
  {
   "cell_type": "code",
   "execution_count": 44,
   "id": "cfe9b7a3",
   "metadata": {},
   "outputs": [
    {
     "name": "stdout",
     "output_type": "stream",
     "text": [
      "[6, 7, 1, 2, 3]\n"
     ]
    }
   ],
   "source": [
    "def reverse_stack(St):\n",
    "    if len(St) <= 1:\n",
    "        return St\n",
    "\n",
    "    top = St.pop()\n",
    "    reverse_stack(St)\n",
    "    insert_at_bottom(St, top)\n",
    "\n",
    "def insert_at_bottom(St, item):\n",
    "    if len(St) == 0:\n",
    "        St.append(item)\n",
    "    else:\n",
    "        temp = St.pop()\n",
    "        insert_at_bottom(St, item)\n",
    "        St.append(temp)\n",
    "\n",
    "# Example usage\n",
    "St = [3, 2, 1, 7, 6]\n",
    "reverse_stack(St)\n",
    "print(St)"
   ]
  },
  {
   "cell_type": "markdown",
   "id": "ab90e4cd",
   "metadata": {},
   "source": [
    "TC == O(n^2)\n",
    "SC =O(n)"
   ]
  },
  {
   "cell_type": "markdown",
   "id": "9842b21a",
   "metadata": {},
   "source": [
    "<aside>\n",
    "💡 **Question 5**\n",
    "\n",
    "You are given a string **S**, the task is to reverse the string using stack.\n",
    "\n",
    "**Example 1:**\n",
    "```\n",
    "Input: S=\"GeeksforGeeks\"\n",
    "Output: skeeGrofskeeG    \n",
    "```\n",
    "</aside>"
   ]
  },
  {
   "cell_type": "code",
   "execution_count": 39,
   "id": "64ab51fe",
   "metadata": {},
   "outputs": [
    {
     "data": {
      "text/plain": [
       "'skeeGrofskeeG'"
      ]
     },
     "execution_count": 39,
     "metadata": {},
     "output_type": "execute_result"
    }
   ],
   "source": [
    "def reversed(string):\n",
    "    listed= list(string)\n",
    "    l=[]\n",
    "    \n",
    "    for i in range(len(listed)):\n",
    "        l.append(listed.pop())\n",
    "    return \"\".join(l)\n",
    "\n",
    "S=\"GeeksforGeeks\"\n",
    "reversed(S)"
   ]
  },
  {
   "cell_type": "markdown",
   "id": "651a3267",
   "metadata": {},
   "source": [
    "TC =O(n)\n",
    "\n",
    "SC = O(n)"
   ]
  },
  {
   "cell_type": "markdown",
   "id": "0834d275",
   "metadata": {},
   "source": [
    "************************"
   ]
  },
  {
   "cell_type": "markdown",
   "id": "c8deab66",
   "metadata": {},
   "source": [
    "<aside>\n",
    "💡 **Question 6**\n",
    "\n",
    "Given string **S** representing a postfix expression, the task is to evaluate the expression and find the final value. Operators will only include the basic arithmetic operators like ***, /, + and -**.\n",
    "\n",
    "**Example 1:**\n",
    "```\n",
    "Input: S = \"231*+9-\"\n",
    "Output: -4\n",
    "Explanation:\n",
    "After solving the given expression,\n",
    "we have -4 as result.\n",
    "    \n",
    "```\n",
    "</aside>"
   ]
  },
  {
   "cell_type": "code",
   "execution_count": 49,
   "id": "b0f910bd",
   "metadata": {},
   "outputs": [
    {
     "data": {
      "text/plain": [
       "-4"
      ]
     },
     "execution_count": 49,
     "metadata": {},
     "output_type": "execute_result"
    }
   ],
   "source": [
    "def evaluate_postfix(expression):\n",
    "    stack= []\n",
    "    for char in expression:\n",
    "        if char.isdigit():\n",
    "            stack.append(int(char))\n",
    "        else:\n",
    "            operand1=stack.pop()\n",
    "            operand2=stack.pop()\n",
    "            \n",
    "            if char == '+':\n",
    "                result = operand2 + operand1\n",
    "            elif char == '-':\n",
    "                result = operand2 - operand1\n",
    "            elif char == '*':\n",
    "                result= operand2 * operand1\n",
    "            elif char == '/':\n",
    "                result = operand2 / operand1\n",
    "            \n",
    "            stack.append(result)\n",
    "    \n",
    "    return stack.pop()\n",
    "    \n",
    "s= \"231*+9-\"\n",
    "evaluate_postfix(s)"
   ]
  },
  {
   "cell_type": "markdown",
   "id": "548d433b",
   "metadata": {},
   "source": [
    "TC = O(n)\n",
    "\n",
    "SC = O(n)"
   ]
  },
  {
   "cell_type": "markdown",
   "id": "95717a80",
   "metadata": {},
   "source": [
    "*****************************************"
   ]
  },
  {
   "cell_type": "code",
   "execution_count": null,
   "id": "95a65b79",
   "metadata": {},
   "outputs": [],
   "source": []
  }
 ],
 "metadata": {
  "kernelspec": {
   "display_name": "Python 3 (ipykernel)",
   "language": "python",
   "name": "python3"
  },
  "language_info": {
   "codemirror_mode": {
    "name": "ipython",
    "version": 3
   },
   "file_extension": ".py",
   "mimetype": "text/x-python",
   "name": "python",
   "nbconvert_exporter": "python",
   "pygments_lexer": "ipython3",
   "version": "3.9.12"
  }
 },
 "nbformat": 4,
 "nbformat_minor": 5
}
