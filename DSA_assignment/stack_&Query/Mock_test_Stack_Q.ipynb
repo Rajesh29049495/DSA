{
 "cells": [
  {
   "cell_type": "markdown",
   "id": "49926c63",
   "metadata": {},
   "source": [
    "**Q** Implement a stack using a list in Python. Include the necessary methods such as push, pop, and isEmpty."
   ]
  },
  {
   "cell_type": "code",
   "execution_count": 3,
   "id": "22ec96a1",
   "metadata": {},
   "outputs": [],
   "source": [
    "class MyStack():\n",
    "    \n",
    "    def __init__(self):\n",
    "        self.q1=[]\n",
    "        self.q2=[]\n",
    "        \n",
    "    def push(self, x:int):\n",
    "        self.q1.append(x)\n",
    "        \n",
    "    def pop(self)->int:\n",
    "        popped= self.q1.pop()\n",
    "        return popped\n",
    "    \n",
    "    def isEmpty(self):\n",
    "        if len(self.q1)==0 and len(self.q2)==0:\n",
    "            return True\n",
    "        return False\n",
    "    "
   ]
  },
  {
   "cell_type": "code",
   "execution_count": null,
   "id": "ab99a80f",
   "metadata": {},
   "outputs": [],
   "source": []
  }
 ],
 "metadata": {
  "kernelspec": {
   "display_name": "Python 3 (ipykernel)",
   "language": "python",
   "name": "python3"
  },
  "language_info": {
   "codemirror_mode": {
    "name": "ipython",
    "version": 3
   },
   "file_extension": ".py",
   "mimetype": "text/x-python",
   "name": "python",
   "nbconvert_exporter": "python",
   "pygments_lexer": "ipython3",
   "version": "3.9.12"
  }
 },
 "nbformat": 4,
 "nbformat_minor": 5
}
