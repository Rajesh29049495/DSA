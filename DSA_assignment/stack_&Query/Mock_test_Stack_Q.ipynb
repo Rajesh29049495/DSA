{
 "cells": [
  {
   "cell_type": "markdown",
   "id": "3776d0f1",
   "metadata": {},
   "source": [
    "**Q** Implement a stack using a list in Python. Include the necessary methods such as push, pop, and isEmpty."
   ]
  },
  {
   "cell_type": "code",
   "execution_count": 2,
   "id": "12d03260",
   "metadata": {},
   "outputs": [],
   "source": [
    "class Mystack():\n",
    "    \n",
    "    def __init__(self):\n",
    "        self.q1=[]\n",
    "        self.q2=[]\n",
    "        \n",
    "    def push(self, x:int):\n",
    "        self.q1.append(x)\n",
    "        \n",
    "    def pop(self):\n",
    "        while len(self.q1)>1:\n",
    "            self.q2.append(self.q1.pop(0))\n",
    "        popped = self.q1.pop(0)\n",
    "        \n",
    "        while len(self.q2)!=0:\n",
    "            self.q1.append(self.q2.pop(0))\n",
    "        return popped\n",
    "    def isEmpty(self):\n",
    "        if len(self.q1)==0 and len(self.q2)==0:\n",
    "            return True\n",
    "        return False\n",
    "    "
   ]
  },
  {
   "cell_type": "code",
   "execution_count": null,
   "id": "860928cd",
   "metadata": {},
   "outputs": [],
   "source": []
  }
 ],
 "metadata": {
  "kernelspec": {
   "display_name": "Python 3 (ipykernel)",
   "language": "python",
   "name": "python3"
  },
  "language_info": {
   "codemirror_mode": {
    "name": "ipython",
    "version": 3
   },
   "file_extension": ".py",
   "mimetype": "text/x-python",
   "name": "python",
   "nbconvert_exporter": "python",
   "pygments_lexer": "ipython3",
   "version": "3.9.12"
  }
 },
 "nbformat": 4,
 "nbformat_minor": 5
}
