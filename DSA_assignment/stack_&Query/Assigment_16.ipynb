{
 "cells": [
  {
   "cell_type": "markdown",
   "id": "38f054d5",
   "metadata": {},
   "source": [
    "<aside>\n",
    "💡 **Question 1**\n",
    "\n",
    "Given an array, for each element find the value of the nearest element to the right which is having a frequency greater than that of the current element. If there does not exist an answer for a position, then make the value ‘-1’.\n",
    "\n",
    "**Examples:**\n",
    "```\n",
    "Input: a[] = [1, 1, 2, 3, 4, 2, 1]\n",
    "Output : [-1, -1, 1, 2, 2, 1, -1]\n",
    "\n",
    "Explanation:\n",
    "Given array a[] = [1, 1, 2, 3, 4, 2, 1]\n",
    "Frequency of each element is: 3, 3, 2, 1, 1, 2, 3\n",
    "\n",
    "Lets calls Next Greater Frequency element as NGF\n",
    "1. For element a[0] = 1 which has a frequency = 3,\n",
    "   As it has frequency of 3 and no other next element\n",
    "   has frequency more than 3 so  '-1'\n",
    "2. For element a[1] = 1 it will be -1 same logic\n",
    "   like a[0]\n",
    "3. For element a[2] = 2 which has frequency = 2,\n",
    "   NGF element is 1 at position = 6  with frequency\n",
    "   of 3 > 2\n",
    "4. For element a[3] = 3 which has frequency = 1,\n",
    "   NGF element is 2 at position = 5 with frequency\n",
    "   of 2 > 1\n",
    "5. For element a[4] = 4 which has frequency = 1,\n",
    "   NGF element is 2 at position = 5 with frequency\n",
    "   of 2 > 1\n",
    "6. For element a[5] = 2 which has frequency = 2,\n",
    "   NGF element is 1 at position = 6 with frequency\n",
    "   of 3 > 2\n",
    "7. For element a[6] = 1 there is no element to its\n",
    "   right, hence -1    \n",
    "```\n",
    "</aside>"
   ]
  },
  {
   "cell_type": "code",
   "execution_count": null,
   "id": "e04e4591",
   "metadata": {},
   "outputs": [],
   "source": [
    "def find_next_greater_frequency(arr):\n",
    "    n = len(arr)\n",
    "    frequency = [0] * (max(arr) + 1)       ##this forms a list with each index an element of the array`arr` , with value in them 0, so that later we can update them with frequenecies of each elment of the array`arr`, it will be like [0,3,2,1,1]\n",
    "    result = []\n",
    "\n",
    "    # Calculate the frequency of each element\n",
    "    for num in arr:\n",
    "        frequency[num] += 1\n",
    "\n",
    "    # Find the next greater frequency element\n",
    "    for i in range(n):\n",
    "        found = False\n",
    "        for j in range(i+1, n):\n",
    "            if frequency[arr[j]] > frequency[arr[i]]:\n",
    "                result.append(arr[j])\n",
    "                found = True\n",
    "                break\n",
    "        if not found:\n",
    "            result.append(-1)\n",
    "\n",
    "    return result\n",
    "\n",
    "arr = [1, 1, 2, 3, 4, 2, 1]\n",
    "output = find_next_greater_frequency(arr)\n",
    "print(output)\n"
   ]
  },
  {
   "cell_type": "markdown",
   "id": "d0dacdce",
   "metadata": {},
   "source": [
    "TC =O(n*n)\n",
    "\n",
    "SC =O(k), where k is teh maximum value in the array"
   ]
  },
  {
   "cell_type": "code",
   "execution_count": 26,
   "id": "e35c12a2",
   "metadata": {},
   "outputs": [
    {
     "name": "stdout",
     "output_type": "stream",
     "text": [
      "[-1, -1, 1, 2, 2, 1, -1]\n"
     ]
    }
   ],
   "source": [
    "def find_next_greater_frequency(arr):\n",
    "    n = len(arr)\n",
    "    frequency = {} \n",
    "    result = []\n",
    "\n",
    "    # Calculate the frequency of each element\n",
    "    for num in arr:\n",
    "        frequency[num] = frequency.get(num, 0)+1\n",
    "\n",
    "    # Find the next greater frequency element\n",
    "    for i in range(n):\n",
    "        found = False\n",
    "        for j in range(i+1, n):\n",
    "            if frequency[arr[j]] > frequency[arr[i]]:\n",
    "                result.append(arr[j])\n",
    "                found = True\n",
    "                break\n",
    "        if not found:\n",
    "            result.append(-1)\n",
    "\n",
    "    return result\n",
    "\n",
    "arr = [1, 1, 2, 3, 4, 2, 1]\n",
    "output = find_next_greater_frequency(arr)\n",
    "print(output)"
   ]
  },
  {
   "cell_type": "code",
   "execution_count": 25,
   "id": "7e098638",
   "metadata": {},
   "outputs": [
    {
     "name": "stdout",
     "output_type": "stream",
     "text": [
      "[-1, -1, 1, 2, 2, 1, -1]\n"
     ]
    }
   ],
   "source": [
    "def find_next_greater_frequency(arr):\n",
    "    n = len(arr)\n",
    "    frequency = {} \n",
    "    result = [-1]*n\n",
    "\n",
    "    # Calculate the frequency of each element\n",
    "    for num in arr:\n",
    "        frequency[num] = frequency.get(num, 0)+1\n",
    "\n",
    "    # Find the next greater frequency element\n",
    "    for i in range(n):\n",
    "        #found = False\n",
    "        for j in range(i+1, n):\n",
    "            if frequency[arr[j]] > frequency[arr[i]]:\n",
    "                result[i]= arr[j]\n",
    "                #result.append(arr[j])\n",
    "                #found = True\n",
    "                break\n",
    "        #if not found:\n",
    "            #result.append(-1)\n",
    "\n",
    "    return result\n",
    "\n",
    "arr = [1, 1, 2, 3, 4, 2, 1]\n",
    "output = find_next_greater_frequency(arr)\n",
    "print(output)\n"
   ]
  },
  {
   "cell_type": "markdown",
   "id": "621a3cd9",
   "metadata": {},
   "source": [
    "TC =O(n*n)\n",
    "\n",
    "SC =O(k), where k is teh unique num ber of elements in the array"
   ]
  },
  {
   "cell_type": "markdown",
   "id": "11d35496",
   "metadata": {},
   "source": [
    "*******************************"
   ]
  },
  {
   "cell_type": "markdown",
   "id": "88cef276",
   "metadata": {},
   "source": [
    "<aside>\n",
    "💡 **Question 2**\n",
    "\n",
    "Given a stack of integers, sort it in ascending order using another temporary stack.\n",
    "\n",
    "**Examples:**\n",
    "```\n",
    "Input : [34, 3, 31, 98, 92, 23]\n",
    "Output : [3, 23, 31, 34, 92, 98]\n",
    "\n",
    "Input : [3, 5, 1, 4, 2, 8]\n",
    "Output : [1, 2, 3, 4, 5, 8]    \n",
    "```\n",
    "</aside>"
   ]
  },
  {
   "cell_type": "code",
   "execution_count": 29,
   "id": "12353c9a",
   "metadata": {},
   "outputs": [
    {
     "data": {
      "text/plain": [
       "[3, 23, 31, 34, 92, 98]"
      ]
     },
     "execution_count": 29,
     "metadata": {},
     "output_type": "execute_result"
    }
   ],
   "source": [
    "def sort_stack(stack):\n",
    "    temp_stack = []\n",
    "    \n",
    "    while stack:\n",
    "        temp = stack.pop()\n",
    "        \n",
    "        while temp_stack and temp_stack[-1] > temp:\n",
    "            stack.append(temp_stack.pop())\n",
    "            \n",
    "        temp_stack.append(temp)\n",
    "    \n",
    "    while temp_stack:\n",
    "        stack.append(temp_stack.pop(0))\n",
    "    \n",
    "    return stack\n",
    "\n",
    "\n",
    "stack1 = [34, 3, 31, 98, 92, 23]\n",
    "sort_stack(stack1)"
   ]
  },
  {
   "cell_type": "markdown",
   "id": "3ea500ac",
   "metadata": {},
   "source": [
    "TC =O(n^2), nested while loop\n",
    "\n",
    "SC O(n)"
   ]
  },
  {
   "cell_type": "markdown",
   "id": "21373c37",
   "metadata": {},
   "source": [
    "*****************************"
   ]
  },
  {
   "cell_type": "markdown",
   "id": "9010e1d4",
   "metadata": {},
   "source": [
    "<aside>\n",
    "💡 **Question 3**\n",
    "\n",
    "Given a stack with **push()**, **pop()**, and **empty()** operations, The task is to delete the **middle** element ****of it without using any additional data structure.\n",
    "\n",
    "Input  : Stack[] = [1, 2, 3, 4, 5]\n",
    "\n",
    "Output : Stack[] = [1, 2, 4, 5]\n",
    "\n",
    "Input  : Stack[] = [1, 2, 3, 4, 5, 6]\n",
    "\n",
    "Output : Stack[] = [1, 2, 4, 5, 6]\n",
    "\n",
    "</aside>"
   ]
  },
  {
   "cell_type": "code",
   "execution_count": 35,
   "id": "dc4a5823",
   "metadata": {},
   "outputs": [
    {
     "data": {
      "text/plain": [
       "[1, 2, 4, 5, 6]"
      ]
     },
     "execution_count": 35,
     "metadata": {},
     "output_type": "execute_result"
    }
   ],
   "source": [
    "def solution(stack):\n",
    "    n = len(stack)\n",
    "    mid = (n-1)//2\n",
    "    \n",
    "    p1=mid\n",
    "    p2=mid+1\n",
    "    for i in range(p1, n-1):\n",
    "        stack[p1], stack[p2]= stack[p2], stack[p1]    ##stack[p1]= stack[p2]\n",
    "        p1=p1+1\n",
    "        p2=p2+1\n",
    "    stack.pop()\n",
    "    return stack\n",
    "\n",
    "s= [1,2,3,4,5, 6]\n",
    "solution(s)\n",
    "        "
   ]
  },
  {
   "cell_type": "markdown",
   "id": "1b59c5a6",
   "metadata": {},
   "source": [
    "TC =O(n/2)=O(n)\n",
    "\n",
    "SC =O(1)"
   ]
  },
  {
   "cell_type": "markdown",
   "id": "ba5bf19c",
   "metadata": {},
   "source": [
    "****************************"
   ]
  },
  {
   "cell_type": "markdown",
   "id": "45376e48",
   "metadata": {},
   "source": [
    "<aside>\n",
    "💡 **Question 4**\n",
    "\n",
    "Given a Queue consisting of first **n** natural numbers (in random order). The task is to check whether the given Queue elements can be arranged in increasing order in another Queue using a stack. The operation allowed are:\n",
    "\n",
    "1. Push and pop elements from the stack\n",
    "2. Pop (Or Dequeue) from the given Queue.\n",
    "3. Push (Or Enqueue) in the another Queue.\n",
    "\n",
    "**Examples :**\n",
    "\n",
    "Input : Queue[] = { 5, 1, 2, 3, 4 } \n",
    "\n",
    "Output : Yes \n",
    "\n",
    "Pop the first element of the given Queue \n",
    "\n",
    "i.e 5. Push 5 into the stack. \n",
    "\n",
    "Now, pop all the elements of the given Queue and push them to second Queue. \n",
    "\n",
    "Now, pop element 5 in the stack and push it to the second Queue.   \n",
    "\n",
    "Input : Queue[] = { 5, 1, 2, 6, 3, 4 } \n",
    "\n",
    "Output : No \n",
    "\n",
    "Push 5 to stack. \n",
    "\n",
    "Pop 1, 2 from given Queue and push it to another Queue. \n",
    "\n",
    "Pop 6 from given Queue and push to stack. \n",
    "\n",
    "Pop 3, 4 from given Queue and push to second Queue. \n",
    "\n",
    "Now, from using any of above operation, we cannot push 5 into the second Queue because it is below the 6 in the stack.\n",
    "\n",
    "</aside>"
   ]
  },
  {
   "cell_type": "markdown",
   "id": "01a9a3d4",
   "metadata": {},
   "source": [
    "**Q5** Given a number , write a program to reverse this number using stack.\n",
    "\n",
    "**Examples:**\n",
    "Input : 365\n",
    "Output : 563"
   ]
  },
  {
   "cell_type": "code",
   "execution_count": 48,
   "id": "a0dc7c00",
   "metadata": {},
   "outputs": [
    {
     "data": {
      "text/plain": [
       "432"
      ]
     },
     "execution_count": 48,
     "metadata": {},
     "output_type": "execute_result"
    }
   ],
   "source": [
    "def solution(num):\n",
    "    l =[]\n",
    "    \n",
    "    while num>0:\n",
    "        digit = num%10\n",
    "        num=num//10\n",
    "        l.append(str(digit))\n",
    "\n",
    "    return int(\"\".join(l))\n",
    "a=234\n",
    "solution(a)"
   ]
  },
  {
   "cell_type": "code",
   "execution_count": 51,
   "id": "963d4344",
   "metadata": {},
   "outputs": [
    {
     "data": {
      "text/plain": [
       "432"
      ]
     },
     "execution_count": 51,
     "metadata": {},
     "output_type": "execute_result"
    }
   ],
   "source": [
    "def solution(num):\n",
    "    stack =[]\n",
    "    temp_stack=[]\n",
    "    reversed_num =0\n",
    "    \n",
    "    while num>0:\n",
    "        digit = num%10\n",
    "        num=num//10\n",
    "        stack.append(digit)\n",
    "    for i in range(len(stack)):\n",
    "        temp_stack.append(stack.pop())\n",
    "        \n",
    "    while temp_stack:\n",
    "        digit = temp_stack.pop()\n",
    "        reversed_num=reversed_num*10 + digit\n",
    "    return reversed_num\n",
    "a=234\n",
    "solution(a)"
   ]
  },
  {
   "cell_type": "markdown",
   "id": "6eedf736",
   "metadata": {},
   "source": [
    "TC =O(n)\n",
    "SC =O(2n)=O(n)"
   ]
  },
  {
   "cell_type": "markdown",
   "id": "0a169022",
   "metadata": {},
   "source": [
    "<aside>\n",
    "💡 **Question 6**\n",
    "\n",
    "Given an integer k and a **[queue](https://www.geeksforgeeks.org/queue-data-structure/)** of integers, The task is to reverse the order of the first **k** elements of the queue, leaving the other elements in the same relative order.\n",
    "\n",
    "Only following standard operations are allowed on queue.\n",
    "\n",
    "- **enqueue(x) :** Add an item x to rear of queue\n",
    "- **dequeue() :** Remove an item from front of queue\n",
    "- **size() :** Returns number of elements in queue.\n",
    "- **front() :** Finds front item.\n",
    "</aside>"
   ]
  },
  {
   "cell_type": "code",
   "execution_count": 53,
   "id": "ba6fc9b3",
   "metadata": {},
   "outputs": [
    {
     "data": {
      "text/plain": [
       "[5, 4, 3, 2, 6, 7, 8, 9]"
      ]
     },
     "execution_count": 53,
     "metadata": {},
     "output_type": "execute_result"
    }
   ],
   "source": [
    "def solution(queue, k):\n",
    "    n = len(queue)\n",
    "    stack=[]\n",
    "    new_queue=[]\n",
    "    \n",
    "    for i in range(0, k):\n",
    "        stack.append(queue.pop(0))    #as from queue, elements can be removed from the front/start\n",
    "    for i in range(0, k):\n",
    "        new_queue.append(stack.pop())  #but from stack elements are removed from the end    \n",
    "    for i in range(0, len(queue)):\n",
    "        new_queue.append(queue.pop(0))\n",
    "    return new_queue\n",
    "\n",
    "q= [2,3,4,5,6,7,8,9]\n",
    "k=4\n",
    "solution(q,k)\n",
    "    "
   ]
  },
  {
   "cell_type": "markdown",
   "id": "9aaf405d",
   "metadata": {},
   "source": [
    "TC =O(n)\n",
    "\n",
    "SC =O(2n)=O(n)"
   ]
  },
  {
   "cell_type": "markdown",
   "id": "748391ab",
   "metadata": {},
   "source": [
    "<aside>\n",
    "💡 **Question 7**\n",
    "\n",
    "Given a sequence of n strings, the task is to check if any two similar words come together and then destroy each other then print the number of words left in the sequence after this pairwise destruction.\n",
    "\n",
    "**Examples:**\n",
    "\n",
    "Input : ab aa aa bcd ab\n",
    "\n",
    "Output : 3\n",
    "\n",
    "*As aa, aa destroys each other so,*\n",
    "\n",
    "*ab bcd ab is the new sequence.*\n",
    "\n",
    "Input :  tom jerry jerry tom\n",
    "\n",
    "Output : 0\n",
    "\n",
    "*As first both jerry will destroy each other.*\n",
    "\n",
    "*Then sequence will be tom, tom they will also destroy*\n",
    "\n",
    "*each other. So, the final sequence doesn’t contain any*\n",
    "\n",
    "*word.*\n",
    "\n",
    "</aside>"
   ]
  },
  {
   "cell_type": "code",
   "execution_count": 58,
   "id": "58abd01d",
   "metadata": {},
   "outputs": [
    {
     "name": "stdout",
     "output_type": "stream",
     "text": [
      "Enter the sequence of words: ab aa aa bcd ab\n",
      "Number of words left after pairwise destruction: 3\n"
     ]
    }
   ],
   "source": [
    "def count_words_left(sequence):\n",
    "    stack = []\n",
    "\n",
    "    for word in sequence:\n",
    "        if len(stack) > 0 and stack[-1] == word:\n",
    "            stack.pop()\n",
    "        else:\n",
    "            stack.append(word)\n",
    "\n",
    "    return len(stack)\n",
    "\n",
    "\n",
    "sequence = input(\"Enter the sequence of words: \").split()\n",
    "remaining_words = count_words_left(sequence)\n",
    "print(\"Number of words left after pairwise destruction:\", remaining_words)\n"
   ]
  },
  {
   "cell_type": "markdown",
   "id": "12e91e9e",
   "metadata": {},
   "source": [
    "TC =O(n), where n is the number of words in teh output sequence\n",
    "SC =O(n), where n is the number of words in the input sequence. This is because in the worst case, all the words can be distinct and will be stored in the stack."
   ]
  },
  {
   "cell_type": "markdown",
   "id": "ad610b01",
   "metadata": {},
   "source": [
    "<aside>\n",
    "💡 **Question 8**\n",
    "\n",
    "Given an array of integers, the task is to find the maximum absolute difference between the nearest left and the right smaller element of every element in the array.\n",
    "\n",
    "**Note:** If there is no smaller element on right side or left side of any element then we take zero as the smaller element. For example for the leftmost element, the nearest smaller element on the left side is considered as 0. Similarly, for rightmost elements, the smaller element on the right side is considered as 0.\n",
    "\n",
    "**Examples:**\n",
    "```\n",
    "Input : arr[] = {2, 1, 8}\n",
    "Output : 1\n",
    "Left smaller  LS[] {0, 0, 1}\n",
    "Right smaller RS[] {1, 0, 0}\n",
    "Maximum Diff of abs(LS[i] - RS[i]) = 1\n",
    "\n",
    "Input  : arr[] = {2, 4, 8, 7, 7, 9, 3}\n",
    "Output : 4\n",
    "Left smaller   LS[] = {0, 2, 4, 4, 4, 7, 2}\n",
    "Right smaller  RS[] = {0, 3, 7, 3, 3, 3, 0}\n",
    "Maximum Diff of abs(LS[i] - RS[i]) = 7 - 3 = 4\n",
    "\n",
    "Input : arr[] = {5, 1, 9, 2, 5, 1, 7}\n",
    "Output : 1  \n",
    "```\n",
    "</aside>"
   ]
  },
  {
   "cell_type": "code",
   "execution_count": 60,
   "id": "a2669ccd",
   "metadata": {},
   "outputs": [
    {
     "data": {
      "text/plain": [
       "1"
      ]
     },
     "execution_count": 60,
     "metadata": {},
     "output_type": "execute_result"
    }
   ],
   "source": [
    "def find_max_absolute_differece(arr):\n",
    "    n = len(arr)\n",
    "    \n",
    "    #calculate left smaller elements\n",
    "    left_smaller= [0]*n\n",
    "    stack=[]\n",
    "    for i in range(n):\n",
    "        while stack and stack[-1]>=arr[i]:\n",
    "            stack.pop()\n",
    "        if stack:\n",
    "            left_smaller[i]= stack[-1]\n",
    "        stack.append(arr[i])\n",
    "    \n",
    "    #clear the stack for calculating right smaller elements\n",
    "    stack.clear()\n",
    "    \n",
    "    #calculate right smaller elemets and find maximum absolute difference\n",
    "    max_diff=0\n",
    "    for i in range(n-1, -1,-1):\n",
    "        while stack and stack[-1]>=arr[i]:\n",
    "            stack.pop()\n",
    "        if stack:\n",
    "            diff= abs(left_smaller[i]-stack[-1])\n",
    "            max_diff = max(max_diff, diff)\n",
    "        stack.append(arr[i])\n",
    "        \n",
    "    return max_diff\n",
    "\n",
    "arr =[2,1,8]\n",
    "find_max_absolute_differece(arr)"
   ]
  },
  {
   "cell_type": "code",
   "execution_count": null,
   "id": "2a7667c1",
   "metadata": {},
   "outputs": [],
   "source": [
    "TC =O(n)\n",
    "\n",
    "SC =O(n)"
   ]
  }
 ],
 "metadata": {
  "kernelspec": {
   "display_name": "Python 3 (ipykernel)",
   "language": "python",
   "name": "python3"
  },
  "language_info": {
   "codemirror_mode": {
    "name": "ipython",
    "version": 3
   },
   "file_extension": ".py",
   "mimetype": "text/x-python",
   "name": "python",
   "nbconvert_exporter": "python",
   "pygments_lexer": "ipython3",
   "version": "3.9.12"
  }
 },
 "nbformat": 4,
 "nbformat_minor": 5
}
