{
 "cells": [
  {
   "cell_type": "markdown",
   "id": "4c7c3cf8",
   "metadata": {},
   "source": [
    "<aside>\n",
    "💡 **Question 1**\n",
    "\n",
    "Given a string `s`, *find the first non-repeating character in it and return its index*. If it does not exist, return `-1`.\n",
    "\n",
    "**Example 1:**\n",
    "\n",
    "```\n",
    "Input: s = \"leetcode\"\n",
    "Output: 0\n",
    "\n",
    "```\n",
    "\n",
    "**Example 2:**\n",
    "\n",
    "```\n",
    "Input: s = \"loveleetcode\"\n",
    "Output: 2\n",
    "\n",
    "```\n",
    "\n",
    "**Example 3:**\n",
    "Input: s = \"aabb\"\n",
    "Output: -1\n",
    "</aside>"
   ]
  },
  {
   "cell_type": "code",
   "execution_count": 8,
   "id": "69aae835",
   "metadata": {},
   "outputs": [
    {
     "data": {
      "text/plain": [
       "-1"
      ]
     },
     "execution_count": 8,
     "metadata": {},
     "output_type": "execute_result"
    }
   ],
   "source": [
    "def solution(s):\n",
    "    n = len(s)\n",
    "    for i in range(n):\n",
    "        if s.count(s[i])==1:\n",
    "            return i\n",
    "        else:\n",
    "            return -1\n",
    "s= \"aabb\"\n",
    "solution(s)"
   ]
  },
  {
   "cell_type": "markdown",
   "id": "ff7ce67a",
   "metadata": {},
   "source": [
    "TC =O(n^2), because there in one loop and in that for each character count() operation is being run\n",
    "\n",
    "SC =O(1)"
   ]
  },
  {
   "cell_type": "code",
   "execution_count": 9,
   "id": "7c2aea8d",
   "metadata": {},
   "outputs": [
    {
     "data": {
      "text/plain": [
       "-1"
      ]
     },
     "execution_count": 9,
     "metadata": {},
     "output_type": "execute_result"
    }
   ],
   "source": [
    "def solution(s):\n",
    "    freq={}\n",
    "    \n",
    "    for ch in s:\n",
    "        freq[ch]= freq.get(ch, 0)+1\n",
    "    \n",
    "    for i in range(len(s)):\n",
    "        if freq[s[i]]==1:\n",
    "            return i\n",
    "    return -1\n",
    "\n",
    "s= \"aabb\"\n",
    "solution(s)"
   ]
  },
  {
   "cell_type": "markdown",
   "id": "4dc9a6d1",
   "metadata": {},
   "source": [
    "TC =O(n)\n",
    "\n",
    "SC =O(k), k is thhe unique characetrs in the string"
   ]
  },
  {
   "cell_type": "markdown",
   "id": "2fa717bb",
   "metadata": {},
   "source": [
    "**************************************"
   ]
  },
  {
   "cell_type": "markdown",
   "id": "c844d033",
   "metadata": {},
   "source": [
    "<aside>\n",
    "💡 **Question 2**\n",
    "\n",
    "Given a **circular integer array** `nums` of length `n`, return *the maximum possible sum of a non-empty **subarray** of* `nums`.\n",
    "\n",
    "A **circular array** means the end of the array connects to the beginning of the array. Formally, the next element of `nums[i]` is `nums[(i + 1) % n]` and the previous element of `nums[i]` is `nums[(i - 1 + n) % n]`.\n",
    "\n",
    "A **subarray** may only include each element of the fixed buffer `nums` at most once. Formally, for a subarray `nums[i], nums[i + 1], ..., nums[j]`, there does not exist `i <= k1`, `k2 <= j` with `k1 % n == k2 % n`.\n",
    "\n",
    "**Example 1:**\n",
    "\n",
    "```\n",
    "Input: nums = [1,-2,3,-2]\n",
    "Output: 3\n",
    "Explanation: Subarray [3] has maximum sum 3.\n",
    "\n",
    "```\n",
    "\n",
    "**Example 2:**\n",
    "\n",
    "```\n",
    "Input: nums = [5,-3,5]\n",
    "Output: 10\n",
    "Explanation: Subarray [5,5] has maximum sum 5 + 5 = 10.\n",
    "\n",
    "```\n",
    "\n",
    "**Example 3:**\n",
    "```\n",
    "Input: nums = [-3,-2,-3]\n",
    "Output: -2\n",
    "Explanation: Subarray [-2] has maximum sum -2.    \n",
    "```\n",
    "</aside>"
   ]
  },
  {
   "cell_type": "markdown",
   "id": "8ce8c0e3",
   "metadata": {},
   "source": [
    "\n",
    "Kadane's algorithm is primarily used to find the maximum subarray sum within an array. It efficiently solves the \"maximum subarray sum\" problem, which involves finding the contiguous subarray with the largest sum.\n",
    "\n",
    "The main use of Kadane's algorithm is in optimizing the solution for the maximum subarray sum problem. It provides a simple and efficient approach that has a time complexity of O(n), where n is the size of the input array.\n",
    "\n",
    "Kadane's algorithm works by iterating through the array and keeping track of the maximum sum encountered so far. It uses a dynamic programming technique where it considers the current element and decides whether to include it in the existing subarray or start a new subarray from that element.\n",
    "\n",
    "The algorithm updates two variables: curr_sum, which represents the sum of the current subarray ending at the current element, and max_sum, which stores the maximum sum found so far. At each iteration, it compares the current element with the sum of the current subarray plus the current element and updates curr_sum and max_sum accordingly.\n",
    "\n",
    "By the end of the iteration, max_sum will contain the maximum subarray sum within the array.\n",
    "\n",
    "Kadane's algorithm is widely used in various applications, including array problems, dynamic programming, and optimization. It provides an efficient and elegant solution to find the maximum subarray sum and has been extensively studied and applied in the field of algorithms and data structures."
   ]
  },
  {
   "cell_type": "markdown",
   "id": "74a93caa",
   "metadata": {},
   "source": [
    "\n",
    "To solve this problem, we can use the Kadane's algorithm to find the maximum subarray sum within the given array. However, since the array is circular, we need to consider two scenarios:\n",
    "\n",
    "Maximum subarray sum without wrapping around:\n",
    "\n",
    "We can apply Kadane's algorithm to find the maximum subarray sum without wrapping around. This will give us the maximum sum for a non-empty subarray that doesn't involve wrapping around.\n",
    "Maximum subarray sum with wrapping around:\n",
    "\n",
    "In this case, the subarray will wrap around from the end of the array to the beginning. To handle this, we can use the property that the minimum subarray sum with wrapping around is the same as the maximum subarray sum without wrapping around in the inverted array. So, we can invert the sign of each element in the array, apply Kadane's algorithm to find the minimum subarray sum, and then subtract it from the total sum of the array. This will give us the maximum subarray sum with wrapping around.\n",
    "Finally, we compare the maximum subarray sum without wrapping and the maximum subarray sum with wrapping, and return the maximum of the two."
   ]
  },
  {
   "cell_type": "code",
   "execution_count": 10,
   "id": "1d8f224a",
   "metadata": {},
   "outputs": [
    {
     "data": {
      "text/plain": [
       "-2"
      ]
     },
     "execution_count": 10,
     "metadata": {},
     "output_type": "execute_result"
    }
   ],
   "source": [
    "def maxSubarraySumCircular(nums):\n",
    "    n = len(nums)\n",
    "\n",
    "    # Kadane's algorithm to find maximum subarray sum without wrapping\n",
    "    def kadane(arr):\n",
    "        max_sum = float('-inf')\n",
    "        curr_sum = 0\n",
    "        for num in arr:\n",
    "            curr_sum = max(num, curr_sum + num)\n",
    "            max_sum = max(max_sum, curr_sum)\n",
    "        return max_sum\n",
    "\n",
    "    # Find maximum subarray sum without wrapping\n",
    "    max_sum_without_wrap = kadane(nums)\n",
    "\n",
    "    # Find maximum subarray sum with wrapping\n",
    "    total_sum = sum(nums)\n",
    "    inverted_nums = [-num for num in nums]\n",
    "    max_sum_with_wrap = total_sum + kadane(inverted_nums)\n",
    "\n",
    "    # Return the maximum of the two sums\n",
    "    return max(max_sum_without_wrap, max_sum_with_wrap) if max_sum_without_wrap > 0 else max_sum_without_wrap\n",
    "\n",
    "nums = [-3,-2,-3]\n",
    "maxSubarraySumCircular(nums)"
   ]
  },
  {
   "cell_type": "markdown",
   "id": "3ed59f2d",
   "metadata": {},
   "source": [
    "TC =O(n)\n",
    "\n",
    "SC =O(1)"
   ]
  },
  {
   "cell_type": "markdown",
   "id": "ddc297b7",
   "metadata": {},
   "source": [
    "<aside>\n",
    "💡 **Question 3**\n",
    "\n",
    "The school cafeteria offers circular and square sandwiches at lunch break, referred to by numbers `0` and `1` respectively. All students stand in a queue. Each student either prefers square or circular sandwiches.\n",
    "\n",
    "The number of sandwiches in the cafeteria is equal to the number of students. The sandwiches are placed in a **stack**. At each step:\n",
    "\n",
    "- If the student at the front of the queue **prefers** the sandwich on the top of the stack, they will **take it** and leave the queue.\n",
    "- Otherwise, they will **leave it** and go to the queue's end.\n",
    "\n",
    "This continues until none of the queue students want to take the top sandwich and are thus unable to eat.\n",
    "\n",
    "You are given two integer arrays `students` and `sandwiches` where `sandwiches[i]` is the type of the `ith` sandwich in the stack (`i = 0` is the top of the stack) and `students[j]` is the preference of the `jth` student in the initial queue (`j = 0` is the front of the queue). Return *the number of students that are unable to eat.*\n",
    "\n",
    " Example 1:\n",
    "```\n",
    "Input: students = [1,1,0,0], sandwiches = [0,1,0,1]\n",
    "Output: 0\n",
    "Explanation:\n",
    "- Front student leaves the top sandwich and returns to the end of the line making students = [1,0,0,1].\n",
    "- Front student leaves the top sandwich and returns to the end of the line making students = [0,0,1,1].\n",
    "- Front student takes the top sandwich and leaves the line making students = [0,1,1] and sandwiches = [1,0,1].\n",
    "- Front student leaves the top sandwich and returns to the end of the line making students = [1,1,0].\n",
    "- Front student takes the top sandwich and leaves the line making students = [1,0] and sandwiches = [0,1].\n",
    "- Front student leaves the top sandwich and returns to the end of the line making students = [0,1].\n",
    "- Front student takes the top sandwich and leaves the line making students = [1] and sandwiches = [1].\n",
    "- Front student takes the top sandwich and leaves the line making students = [] and sandwiches = [].\n",
    "Hence all students are able to eat.\n",
    "    \n",
    "```\n",
    "</aside>"
   ]
  },
  {
   "cell_type": "code",
   "execution_count": 13,
   "id": "36d3426e",
   "metadata": {},
   "outputs": [
    {
     "data": {
      "text/plain": [
       "0"
      ]
     },
     "execution_count": 13,
     "metadata": {},
     "output_type": "execute_result"
    }
   ],
   "source": [
    "def countStudents(students, sandwiches):\n",
    "    count = 0\n",
    "    change = True\n",
    "\n",
    "    while change:\n",
    "        change = False\n",
    "\n",
    "        for i in range(len(students)):\n",
    "            if students[i] == sandwiches[0]:\n",
    "                students.pop(i)\n",
    "                sandwiches.pop(0)\n",
    "                change = True\n",
    "                break\n",
    "        else:\n",
    "            if not students:\n",
    "                break\n",
    "            students.append(students.pop(0))\n",
    "            change = True\n",
    "            count += 1\n",
    "\n",
    "    return count + len(students)\n",
    "\n",
    "students = [1,1,0,0]\n",
    "sandwiches = [0,1,0,1]\n",
    "countStudents(students, sandwiches)"
   ]
  },
  {
   "cell_type": "markdown",
   "id": "14e0e4a1",
   "metadata": {},
   "source": [
    "TC =O(n^2)\n",
    "\n",
    "SC =O(1)"
   ]
  },
  {
   "cell_type": "markdown",
   "id": "0b312ea6",
   "metadata": {},
   "source": [
    "<aside>\n",
    "💡 **Question 4**\n",
    "\n",
    "You have a `RecentCounter` class which counts the number of recent requests within a certain time frame.\n",
    "\n",
    "Implement the `RecentCounter` class:\n",
    "\n",
    "- `RecentCounter()` Initializes the counter with zero recent requests.\n",
    "- `int ping(int t)` Adds a new request at time `t`, where `t` represents some time in milliseconds, and returns the number of requests that has happened in the past `3000` milliseconds (including the new request). Specifically, return the number of requests that have happened in the inclusive range `[t - 3000, t]`.\n",
    "\n",
    "It is **guaranteed** that every call to `ping` uses a strictly larger value of `t` than the previous call.\n",
    "\n",
    "**Example 1:**\n",
    "```\n",
    "Input\n",
    "[\"RecentCounter\", \"ping\", \"ping\", \"ping\", \"ping\"]\n",
    "[[], [1], [100], [3001], [3002]]\n",
    "Output\n",
    "[null, 1, 2, 3, 3]\n",
    "\n",
    "Explanation\n",
    "RecentCounter recentCounter = new RecentCounter();\n",
    "recentCounter.ping(1);     // requests = [1], range is [-2999,1], return 1\n",
    "recentCounter.ping(100);   // requests = [1,100], range is [-2900,100], return 2\n",
    "recentCounter.ping(3001);  // requests = [1,100,3001], range is [1,3001], return 3\n",
    "recentCounter.ping(3002);  // requests = [1,100,3001,3002], range is [2,3002], return 3    \n",
    "```\n",
    "</aside>"
   ]
  },
  {
   "cell_type": "code",
   "execution_count": 14,
   "id": "bb2742d5",
   "metadata": {},
   "outputs": [],
   "source": [
    "class RecentCounter:\n",
    "    def __init__(self):\n",
    "        self.requests = []\n",
    "\n",
    "    def ping(self, t: int) -> int:\n",
    "        # Add the current request time to the list\n",
    "        self.requests.append(t)\n",
    "        \n",
    "        # Remove requests that are outside the time range [t - 3000, t]\n",
    "        while self.requests[0] < t - 3000:\n",
    "            self.requests.pop(0)\n",
    "        \n",
    "        # Return the count of remaining requests\n",
    "        return len(self.requests)\n"
   ]
  },
  {
   "cell_type": "code",
   "execution_count": 15,
   "id": "7b034be1",
   "metadata": {},
   "outputs": [],
   "source": [
    "# Create an instance of RecentCounter\n",
    "rc = RecentCounter()\n",
    "\n",
    "# Add new requests and get the count of recent requests\n",
    "count1 = rc.ping(1000)  # Adds a new request at time 1000 and returns 1 (only one request within the time range [1000 - 3000, 1000])\n",
    "count2 = rc.ping(2000)  # Adds a new request at time 2000 and returns 2 (requests within the time range [2000 - 3000, 2000]: 1000, 2000)\n",
    "count3 = rc.ping(3001)  # Adds a new request at time 3001 and returns 3 (requests within the time range [3001 - 3000, 3001]: 1000, 2000, 3001)\n",
    "count4 = rc.ping(3002)  # Adds a new request at time 3002 and returns 4 (requests within the time range [3002 - 3000, 3002]: 1000, 2000, 3001, 3002)\n"
   ]
  },
  {
   "cell_type": "code",
   "execution_count": 16,
   "id": "28fa6c76",
   "metadata": {},
   "outputs": [
    {
     "data": {
      "text/plain": [
       "1"
      ]
     },
     "execution_count": 16,
     "metadata": {},
     "output_type": "execute_result"
    }
   ],
   "source": [
    "count1"
   ]
  },
  {
   "cell_type": "code",
   "execution_count": 17,
   "id": "d5cf696a",
   "metadata": {},
   "outputs": [
    {
     "data": {
      "text/plain": [
       "2"
      ]
     },
     "execution_count": 17,
     "metadata": {},
     "output_type": "execute_result"
    }
   ],
   "source": [
    "count2"
   ]
  },
  {
   "cell_type": "code",
   "execution_count": 18,
   "id": "bea7fae8",
   "metadata": {},
   "outputs": [
    {
     "data": {
      "text/plain": [
       "3"
      ]
     },
     "execution_count": 18,
     "metadata": {},
     "output_type": "execute_result"
    }
   ],
   "source": [
    "count3"
   ]
  },
  {
   "cell_type": "code",
   "execution_count": 19,
   "id": "de2577ba",
   "metadata": {},
   "outputs": [
    {
     "data": {
      "text/plain": [
       "4"
      ]
     },
     "execution_count": 19,
     "metadata": {},
     "output_type": "execute_result"
    }
   ],
   "source": [
    "count4"
   ]
  },
  {
   "cell_type": "markdown",
   "id": "5cf39b15",
   "metadata": {},
   "source": [
    "<aside>\n",
    "💡 **Question 5**\n",
    "\n",
    "There are `n` friends that are playing a game. The friends are sitting in a circle and are numbered from `1` to `n` in **clockwise order**. More formally, moving clockwise from the `ith` friend brings you to the `(i+1)th` friend for `1 <= i < n`, and moving clockwise from the `nth` friend brings you to the `1st` friend.\n",
    "\n",
    "The rules of the game are as follows:\n",
    "\n",
    "1. **Start** at the `1st` friend.\n",
    "2. Count the next `k` friends in the clockwise direction **including** the friend you started at. The counting wraps around the circle and may count some friends more than once.\n",
    "3. The last friend you counted leaves the circle and loses the game.\n",
    "4. If there is still more than one friend in the circle, go back to step `2` **starting** from the friend **immediately clockwise** of the friend who just lost and repeat.\n",
    "5. Else, the last friend in the circle wins the game.\n",
    "\n",
    "Given the number of friends, `n`, and an integer `k`, return *the winner of the game*.\n",
    "\n",
    "```\n",
    "Input: n = 5, k = 2\n",
    "Output: 3\n",
    "Explanation: Here are the steps of the game:\n",
    "1) Start at friend 1.\n",
    "2) Count 2 friends clockwise, which are friends 1 and 2.\n",
    "3) Friend 2 leaves the circle. Next start is friend 3.\n",
    "4) Count 2 friends clockwise, which are friends 3 and 4.\n",
    "5) Friend 4 leaves the circle. Next start is friend 5.\n",
    "6) Count 2 friends clockwise, which are friends 5 and 1.\n",
    "7) Friend 1 leaves the circle. Next start is friend 3.\n",
    "8) Count 2 friends clockwise, which are friends 3 and 5.\n",
    "9) Friend 5 leaves the circle. Only friend 3 is left, so they are the winner.    \n",
    "```\n",
    "</aside>"
   ]
  },
  {
   "cell_type": "code",
   "execution_count": 20,
   "id": "936b3070",
   "metadata": {},
   "outputs": [
    {
     "data": {
      "text/plain": [
       "3"
      ]
     },
     "execution_count": 20,
     "metadata": {},
     "output_type": "execute_result"
    }
   ],
   "source": [
    "def findTheWinner(n: int, k: int) -> int:\n",
    "    # Create a list to represent the circle of friends\n",
    "    circle = list(range(1, n+1))\n",
    "\n",
    "    # Start the game from the first friend\n",
    "    idx = 0\n",
    "\n",
    "    while len(circle) > 1:\n",
    "        # Count k friends in clockwise direction\n",
    "        idx = (idx + k - 1) % len(circle)\n",
    "\n",
    "        # Remove the last counted friend from the circle\n",
    "        circle.pop(idx)\n",
    "\n",
    "    # Return the winner\n",
    "    return circle[0]\n",
    "\n",
    "findTheWinner(5,2)"
   ]
  },
  {
   "cell_type": "markdown",
   "id": "78f37165",
   "metadata": {},
   "source": [
    "TC =O(n*k)\n",
    "\n",
    "SC =O(n)"
   ]
  },
  {
   "cell_type": "markdown",
   "id": "0af9617c",
   "metadata": {},
   "source": [
    "<aside>\n",
    "💡 **Question 6**\n",
    "\n",
    "You are given an integer array `deck`. There is a deck of cards where every card has a unique integer. The integer on the `ith` card is `deck[i]`.\n",
    "\n",
    "You can order the deck in any order you want. Initially, all the cards start face down (unrevealed) in one deck.\n",
    "\n",
    "You will do the following steps repeatedly until all cards are revealed:\n",
    "\n",
    "1. Take the top card of the deck, reveal it, and take it out of the deck.\n",
    "2. If there are still cards in the deck then put the next top card of the deck at the bottom of the deck.\n",
    "3. If there are still unrevealed cards, go back to step 1. Otherwise, stop.\n",
    "\n",
    "Return *an ordering of the deck that would reveal the cards in increasing order*.\n",
    "\n",
    "**Note** that the first entry in the answer is considered to be the top of the deck.\n",
    "\n",
    "**Example 1:**\n",
    "```\n",
    "Input: deck = [17,13,11,2,3,5,7]\n",
    "Output: [2,13,3,11,5,17,7]\n",
    "Explanation:\n",
    "We get the deck in the order [17,13,11,2,3,5,7] (this order does not matter), and reorder it.\n",
    "After reordering, the deck starts as [2,13,3,11,5,17,7], where 2 is the top of the deck.\n",
    "We reveal 2, and move 13 to the bottom.  The deck is now [3,11,5,17,7,13].\n",
    "We reveal 3, and move 11 to the bottom.  The deck is now [5,17,7,13,11].\n",
    "We reveal 5, and move 17 to the bottom.  The deck is now [7,13,11,17].\n",
    "We reveal 7, and move 13 to the bottom.  The deck is now [11,17,13].\n",
    "We reveal 11, and move 17 to the bottom.  The deck is now [13,17].\n",
    "We reveal 13, and move 17 to the bottom.  The deck is now [17].\n",
    "We reveal 17.\n",
    "Since all the cards revealed are in increasing order, the answer is correct.\n",
    "    \n",
    "```\n",
    "</aside>"
   ]
  },
  {
   "cell_type": "markdown",
   "id": "21cc8eeb",
   "metadata": {},
   "source": [
    "<aside>\n",
    "💡 **Question 7**\n",
    "\n",
    "Design a queue that supports `push` and `pop` operations in the front, middle, and back.\n",
    "\n",
    "Implement the `FrontMiddleBack` class:\n",
    "\n",
    "- `FrontMiddleBack()` Initializes the queue.\n",
    "- `void pushFront(int val)` Adds `val` to the **front** of the queue.\n",
    "- `void pushMiddle(int val)` Adds `val` to the **middle** of the queue.\n",
    "- `void pushBack(int val)` Adds `val` to the **back** of the queue.\n",
    "- `int popFront()` Removes the **front** element of the queue and returns it. If the queue is empty, return `1`.\n",
    "- `int popMiddle()` Removes the **middle** element of the queue and returns it. If the queue is empty, return `1`.\n",
    "- `int popBack()` Removes the **back** element of the queue and returns it. If the queue is empty, return `1`.\n",
    "\n",
    "**Notice** that when there are **two** middle position choices, the operation is performed on the **frontmost** middle position choice. For example:\n",
    "\n",
    "- Pushing `6` into the middle of `[1, 2, 3, 4, 5]` results in `[1, 2, 6, 3, 4, 5]`.\n",
    "- Popping the middle from `[1, 2, 3, 4, 5, 6]` returns `3` and results in `[1, 2, 4, 5, 6]`.\n",
    "    \n",
    "Example 1:\n",
    "```\n",
    "Input:\n",
    "[\"FrontMiddleBackQueue\", \"pushFront\", \"pushBack\", \"pushMiddle\", \"pushMiddle\", \"popFront\", \"popMiddle\", \"popMiddle\", \"popBack\", \"popFront\"]\n",
    "[[], [1], [2], [3], [4], [], [], [], [], []]\n",
    "Output:\n",
    "[null, null, null, null, null, 1, 3, 4, 2, -1]\n",
    "\n",
    "Explanation:\n",
    "FrontMiddleBackQueue q = new FrontMiddleBackQueue();\n",
    "q.pushFront(1);   // [1]\n",
    "q.pushBack(2);    // [1,2]\n",
    "q.pushMiddle(3);  // [1,3, 2]\n",
    "q.pushMiddle(4);  // [1,4, 3, 2]\n",
    "q.popFront();     // return 1 -> [4, 3, 2]\n",
    "q.popMiddle();    // return 3 -> [4, 2]\n",
    "q.popMiddle();    // return 4 -> [2]\n",
    "q.popBack();      // return 2 -> []\n",
    "q.popFront();     // return -1 -> [] (The queue is empty)\n",
    "```\n",
    "</aside>"
   ]
  },
  {
   "cell_type": "code",
   "execution_count": 29,
   "id": "139ecd38",
   "metadata": {},
   "outputs": [],
   "source": [
    "class FrontMiddleBackQueue:\n",
    "    def __init__(self):\n",
    "        self.queue = []\n",
    "\n",
    "    def pushFront(self, val: int) -> None:\n",
    "        self.queue.insert(0, val)\n",
    "\n",
    "    def pushMiddle(self, val: int) -> None:\n",
    "        middle_idx = len(self.queue) // 2\n",
    "        self.queue.insert(middle_idx, val)\n",
    "\n",
    "    def pushBack(self, val: int) -> None:\n",
    "        self.queue.append(val)\n",
    "\n",
    "    def popFront(self) -> int:\n",
    "        if len(self.queue) == 0:\n",
    "            return -1\n",
    "        return self.queue.pop(0)\n",
    "\n",
    "    def popMiddle(self) -> int:\n",
    "        if len(self.queue) == 0:\n",
    "            return -1\n",
    "        middle_idx = (len(self.queue) - 1) // 2\n",
    "        return self.queue.pop(middle_idx)\n",
    "\n",
    "    def popBack(self) -> int:\n",
    "        if len(self.queue) == 0:\n",
    "            return -1\n",
    "        return self.queue.pop()\n"
   ]
  },
  {
   "cell_type": "markdown",
   "id": "366ae3d6",
   "metadata": {},
   "source": [
    "# <aside>\n",
    "💡 **Question 8**\n",
    "\n",
    "For a stream of integers, implement a data structure that checks if the last `k` integers parsed in the stream are **equal** to `value`.\n",
    "\n",
    "Implement the **DataStream** class:\n",
    "\n",
    "- `DataStream(int value, int k)` Initializes the object with an empty integer stream and the two integers `value` and `k`.\n",
    "- `boolean consec(int num)` Adds `num` to the stream of integers. Returns `true` if the last `k` integers are equal to `value`, and `false` otherwise. If there are less than `k` integers, the condition does not hold true, so returns `false`.\n",
    "\n",
    "**Example 1:**\n",
    "```\n",
    "<aside>\n",
    "💡 **Question 8**\n",
    "\n",
    "For a stream of integers, implement a data structure that checks if the last `k` integers parsed in the stream are **equal** to `value`.\n",
    "\n",
    "Implement the **DataStream** class:\n",
    "\n",
    "- `DataStream(int value, int k)` Initializes the object with an empty integer stream and the two integers `value` and `k`.\n",
    "- `boolean consec(int num)` Adds `num` to the stream of integers. Returns `true` if the last `k` integers are equal to `value`, and `false` otherwise. If there are less than `k` integers, the condition does not hold true, so returns `false`.\n",
    "\n",
    "**Example 1:**\n",
    "\n",
    "</aside>\n",
    "```\n",
    "</aside>"
   ]
  },
  {
   "cell_type": "code",
   "execution_count": 33,
   "id": "e679d68a",
   "metadata": {},
   "outputs": [],
   "source": [
    "class DataStream:\n",
    "    def __init__(self, value: int, k: int):\n",
    "        self.stream = []\n",
    "        self.value = value\n",
    "        self.k = k\n",
    "\n",
    "    def consec(self, num: int) -> bool:\n",
    "        self.stream.append(num)\n",
    "        if len(self.stream) < self.k:\n",
    "            return False\n",
    "        return self.stream[-self.k:] == [self.value] * self.k\n",
    "\n",
    "    \n"
   ]
  },
  {
   "cell_type": "code",
   "execution_count": null,
   "id": "0b3fda87",
   "metadata": {},
   "outputs": [],
   "source": []
  }
 ],
 "metadata": {
  "kernelspec": {
   "display_name": "Python 3 (ipykernel)",
   "language": "python",
   "name": "python3"
  },
  "language_info": {
   "codemirror_mode": {
    "name": "ipython",
    "version": 3
   },
   "file_extension": ".py",
   "mimetype": "text/x-python",
   "name": "python",
   "nbconvert_exporter": "python",
   "pygments_lexer": "ipython3",
   "version": "3.9.12"
  }
 },
 "nbformat": 4,
 "nbformat_minor": 5
}
