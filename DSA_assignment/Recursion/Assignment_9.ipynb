{
 "cells": [
  {
   "cell_type": "markdown",
   "id": "c4e31db1",
   "metadata": {},
   "source": [
    "<aside>\n",
    "💡 **Question 1**\n",
    "\n",
    "Given an integer `n`, return *`true` if it is a power of two. Otherwise, return `false`*.\n",
    "\n",
    "An integer `n` is a power of two, if there exists an integer `x` such that `n == 2x`.\n",
    "\n",
    "**Example 1:**\n",
    "Input: n = 1 \n",
    "\n",
    "Output: true\n",
    "\n",
    "**Example 2:**\n",
    "Input: n = 16 \n",
    "\n",
    "Output: true\n",
    "\n",
    "**Example 3:**\n",
    "Input: n = 3 \n",
    "\n",
    "Output: false\n",
    "\n",
    "</aside>"
   ]
  },
  {
   "cell_type": "code",
   "execution_count": 5,
   "id": "43c9b070",
   "metadata": {},
   "outputs": [
    {
     "data": {
      "text/plain": [
       "True"
      ]
     },
     "execution_count": 5,
     "metadata": {},
     "output_type": "execute_result"
    }
   ],
   "source": [
    "def isPowerofTwo(n):\n",
    "    if n==1:\n",
    "        return True\n",
    "    elif n<=0 or n%2!=0:\n",
    "        return False\n",
    "    else:\n",
    "        return isPowerofTwo(n//2)\n",
    "    \n",
    "num = 16\n",
    "isPowerofTwo(num)"
   ]
  },
  {
   "cell_type": "markdown",
   "id": "865d1b59",
   "metadata": {},
   "source": [
    "TC =O(log n), base 2,,,,as recursive function isPowerofTwo is called recursively until the value of n reaches 1 or becomes an odd number. In each recursive call, the value of n is divided by 2 (n // 2). The number of recursive calls required to reach the base case (n = 1) depends on the number of times n can be divided by 2 until it becomes 1. Since the value of n is halved in each recursive call, the number of recursive calls required is logarithmic with respect to n.\n",
    "\n",
    "SC =O(log n), In terms of space complexity, the recursive function isPowerofTwo consumes space on the call stack for each recursive call. The maximum depth of the call stack is also logarithmic with respect to n because n is halved in each recursive call. Therefore, the space complexity of the code is O(log n)."
   ]
  },
  {
   "cell_type": "markdown",
   "id": "77b7da2a",
   "metadata": {},
   "source": [
    "<aside>\n",
    "💡 **Question 2**\n",
    "\n",
    "Given a number n, find the sum of the first natural numbers.\n",
    "\n",
    "**Example 1:**\n",
    "\n",
    "Input: n = 3 \n",
    "\n",
    "Output: 6\n",
    "\n",
    "**Example 2:**\n",
    "\n",
    "Input  : 5 \n",
    "\n",
    "Output : 15\n",
    "\n",
    "</aside>"
   ]
  },
  {
   "cell_type": "code",
   "execution_count": 6,
   "id": "46b77cc0",
   "metadata": {},
   "outputs": [
    {
     "data": {
      "text/plain": [
       "6"
      ]
     },
     "execution_count": 6,
     "metadata": {},
     "output_type": "execute_result"
    }
   ],
   "source": [
    "def summ(n):\n",
    "    if n<=1:\n",
    "        return n\n",
    "    else:\n",
    "        return summ(n-1)+n\n",
    "    \n",
    "num = 3\n",
    "summ(3)"
   ]
  },
  {
   "cell_type": "markdown",
   "id": "f57f878e",
   "metadata": {},
   "source": [
    "TC = O(n),  recursive function summ is called recursively until n reaches the base case, which is when n is less than or equal to 1. In each recursive call, the value of n is reduced by 1 (n - 1) and added to the result of the recursive call with n - 1. The recursion continues until n reaches the base case.\n",
    "\n",
    "The number of recursive calls required is directly proportional to n, as each recursive call reduces n by 1. Therefore, the time complexity of the code is O(n).\n",
    "\n",
    "SC =O(n),  recursive function summ consumes space on the call stack for each recursive call. The maximum depth of the call stack is equal to n because the function is called recursively n times until n reaches the base case. Therefore, the space complexity of the code is O(n)."
   ]
  },
  {
   "cell_type": "markdown",
   "id": "bdcce9b5",
   "metadata": {},
   "source": [
    "<aside>\n",
    "💡 **Question 3**\n",
    "\n",
    "****Given a positive integer, N. Find the factorial of N. \n",
    "\n",
    "**Example 1:**\n",
    "\n",
    "Input: N = 5 \n",
    "\n",
    "Output: 120\n",
    "\n",
    "**Example 2:**\n",
    "\n",
    "Input: N = 4\n",
    "\n",
    "Output: 24\n",
    "\n",
    "</aside>"
   ]
  },
  {
   "cell_type": "code",
   "execution_count": 7,
   "id": "c1163773",
   "metadata": {},
   "outputs": [
    {
     "data": {
      "text/plain": [
       "120"
      ]
     },
     "execution_count": 7,
     "metadata": {},
     "output_type": "execute_result"
    }
   ],
   "source": [
    "def factorial(n):\n",
    "    if n==0:\n",
    "        return 1\n",
    "    else:\n",
    "        return n*factorial(n-1)\n",
    "\n",
    "n=5\n",
    "factorial(n)"
   ]
  },
  {
   "cell_type": "markdown",
   "id": "76a4630c",
   "metadata": {},
   "source": [
    "TC =O(n),,The recursive function factorial is called recursively until n reaches the base case, which is when n is equal to 0. In each recursive call, the value of n is multiplied by the result of the recursive call with n - 1. The recursion continues until n reaches the base case.\n",
    "\n",
    "The number of recursive calls required is directly proportional to n, as each recursive call reduces n by 1. Therefore, the time complexity of the code is O(n).\n",
    "\n",
    "SC= O(n),In terms of space complexity, the recursive function factorial consumes space on the call stack for each recursive call. The maximum depth of the call stack is equal to n because the function is called recursively n times until n reaches the base case. Therefore, the space complexity of the code is O(n)."
   ]
  },
  {
   "cell_type": "markdown",
   "id": "95d7641e",
   "metadata": {},
   "source": [
    "<aside>\n",
    "💡 **Question 4**\n",
    "\n",
    "Given a number N and a power P, the task is to find the exponent of this number raised to the given power, i.e. N^P.\n",
    "\n",
    "**Example 1 :** \n",
    "\n",
    "Input: N = 5, P = 2\n",
    "\n",
    "Output: 25\n",
    "\n",
    "**Example 2 :**\n",
    "Input: N = 2, P = 5\n",
    "\n",
    "Output: 32\n",
    "\n",
    "</aside>"
   ]
  },
  {
   "cell_type": "code",
   "execution_count": 10,
   "id": "79321ee8",
   "metadata": {},
   "outputs": [
    {
     "data": {
      "text/plain": [
       "32"
      ]
     },
     "execution_count": 10,
     "metadata": {},
     "output_type": "execute_result"
    }
   ],
   "source": [
    "def func(n, p):\n",
    "    if p==0:\n",
    "        return 1\n",
    "    else:\n",
    "        return n* func(n, p-1)\n",
    "n=2\n",
    "p=5\n",
    "func(n,p)"
   ]
  },
  {
   "cell_type": "markdown",
   "id": "dcdbe85c",
   "metadata": {},
   "source": [
    "TC =O(p), recursive function func is called recursively p times until p reaches the base case, which is when p is equal to 0. In each recursive call, the function multiplies n by the result of the recursive call with p - 1. The recursion continues until p reaches the base case.\n",
    "\n",
    "The number of recursive calls required is directly proportional to p, as each recursive call reduces p by 1. Therefore, the time complexity of the code is O(p)\n",
    "\n",
    "SC =O(p), In terms of space complexity, the recursive function func consumes space on the call stack for each recursive call. The maximum depth of the call stack is equal to p because the function is called recursively p times until p reaches the base case. Therefore, the space complexity of the code is O(p)."
   ]
  },
  {
   "cell_type": "markdown",
   "id": "3f46a029",
   "metadata": {},
   "source": [
    "<aside>\n",
    "💡 **Question 5**\n",
    "\n",
    "Given an array of integers **arr**, the task is to find maximum element of that array using recursion.\n",
    "\n",
    "**Example 1:**\n",
    "\n",
    "Input: arr = {1, 4, 3, -5, -4, 8, 6};\n",
    "Output: 8\n",
    "\n",
    "**Example 2:**\n",
    "\n",
    "Input: arr = {1, 4, 45, 6, 10, -8};\n",
    "Output: 45\n",
    "\n",
    "</aside>"
   ]
  },
  {
   "cell_type": "code",
   "execution_count": 13,
   "id": "9a691e50",
   "metadata": {},
   "outputs": [
    {
     "data": {
      "text/plain": [
       "8"
      ]
     },
     "execution_count": 13,
     "metadata": {},
     "output_type": "execute_result"
    }
   ],
   "source": [
    "def find_max(arr):\n",
    "    if len(arr) == 0:\n",
    "        return float('-inf')  # No maximum element\n",
    "    elif len(arr) == 1:\n",
    "        return arr[0]  # Single element is the maximum\n",
    "    else:\n",
    "        return max(arr[0], find_max(arr[1:]))  # Compare first element with maximum of the rest\n",
    "\n",
    "# Example usage:\n",
    "arr = [1, 4, 3, -5, -4, 8, 6]\n",
    "find_max(arr)\n",
    "\n",
    "#in above function base case is when length of the array becomes zero then it returns a value representing negative infinity (float('-inf')),,,,,i.e., no maximum element, then in teh finall return whatever theer will in teh max function with '-inf' will be returned as  the maximum among all"
   ]
  },
  {
   "cell_type": "markdown",
   "id": "ca600f09",
   "metadata": {},
   "source": [
    "TC =O(n)\n",
    "\n",
    "SC = O(n)"
   ]
  },
  {
   "cell_type": "markdown",
   "id": "462a7ffe",
   "metadata": {},
   "source": [
    "<aside>\n",
    "💡 **Question 6**\n",
    "\n",
    "Given first term (a), common difference (d) and a integer N of the Arithmetic Progression series, the task is to find Nth term of the series.\n",
    "\n",
    "**Example 1:**\n",
    "\n",
    "Input : a = 2 d = 1 N = 5\n",
    "Output : 6\n",
    "The 5th term of the series is : 6\n",
    "\n",
    "**Example 2:**\n",
    "\n",
    "Input : a = 5 d = 2 N = 10\n",
    "Output : 23\n",
    "The 10th term of the series is : 23\n",
    "\n",
    "</aside>"
   ]
  },
  {
   "cell_type": "code",
   "execution_count": 23,
   "id": "2e8f6117",
   "metadata": {},
   "outputs": [
    {
     "data": {
      "text/plain": [
       "23"
      ]
     },
     "execution_count": 23,
     "metadata": {},
     "output_type": "execute_result"
    }
   ],
   "source": [
    "def func(a,d,n):\n",
    "    if n==1:\n",
    "        return a\n",
    "    else:\n",
    "        return func(a+d,d,(n-1))\n",
    "    \n",
    "a=5\n",
    "d=2\n",
    "n=10\n",
    "func(a,d,n)"
   ]
  },
  {
   "cell_type": "markdown",
   "id": "99f1b521",
   "metadata": {},
   "source": [
    "TC =O(n)\n",
    "\n",
    "SC=O(n)"
   ]
  },
  {
   "cell_type": "markdown",
   "id": "9ea80f35",
   "metadata": {},
   "source": [
    "<aside>\n",
    "💡 **Question 7**\n",
    "\n",
    "Given a string S, the task is to write a program to print all permutations of a given string.\n",
    "\n",
    "**Example 1:**\n",
    "\n",
    "***Input:***\n",
    "\n",
    "*S = “ABC”*\n",
    "\n",
    "***Output:***\n",
    "\n",
    "*“ABC”, “ACB”, “BAC”, “BCA”, “CBA”, “CAB”*\n",
    "\n",
    "**Example 2:**\n",
    "\n",
    "***Input:***\n",
    "\n",
    "*S = “XY”*\n",
    "\n",
    "***Output:***\n",
    "\n",
    "*“XY”, “YX”*\n",
    "\n",
    "</aside>"
   ]
  },
  {
   "cell_type": "code",
   "execution_count": 37,
   "id": "b3ea025b",
   "metadata": {},
   "outputs": [
    {
     "name": "stdout",
     "output_type": "stream",
     "text": [
      "ABC\n",
      "ACB\n",
      "BAC\n",
      "BCA\n",
      "CBA\n",
      "CAB\n"
     ]
    }
   ],
   "source": [
    "def permute(s, l, r):\n",
    "    if l == r:\n",
    "        print(''.join(s))\n",
    "    else:\n",
    "        for i in range(l, len(s)):\n",
    "            # Swap characters at positions l and i\n",
    "            s[l], s[i] = s[i], s[l]\n",
    "            \n",
    "            # Recurse on the remaining string\n",
    "            permute(s, l + 1, r)\n",
    "            \n",
    "            # Restore the original order by swapping back\n",
    "            s[l], s[i] = s[i], s[l]\n",
    "\n",
    "def printPermutations(string):\n",
    "    n = len(string)\n",
    "    s = list(string)  # Convert string to a list of characters\n",
    "    permute(s, 0, n - 1)\n",
    "\n",
    "# Example usage\n",
    "string = \"ABC\"\n",
    "printPermutations(string)"
   ]
  },
  {
   "cell_type": "markdown",
   "id": "4b872235",
   "metadata": {},
   "source": [
    "<aside>\n",
    "💡 **Question 8**\n",
    "\n",
    "Given an array, find a product of all array elements.\n",
    "\n",
    "**Example 1:**\n",
    "\n",
    "Input  : arr[] = {1, 2, 3, 4, 5}\n",
    "Output : 120\n",
    "**Example 2:**\n",
    "\n",
    "Input  : arr[] = {1, 6, 3}\n",
    "Output : 18\n",
    "\n",
    "</aside>"
   ]
  },
  {
   "cell_type": "code",
   "execution_count": 25,
   "id": "9c3f45cf",
   "metadata": {},
   "outputs": [
    {
     "data": {
      "text/plain": [
       "120"
      ]
     },
     "execution_count": 25,
     "metadata": {},
     "output_type": "execute_result"
    }
   ],
   "source": [
    "def func(arr):\n",
    "    if len(arr)==1:\n",
    "        return arr[0]\n",
    "    else:\n",
    "        return arr[0]* func(arr[1:])\n",
    "    \n",
    "arr=[1,2,3,4,5]\n",
    "func(arr)\n",
    "    "
   ]
  },
  {
   "cell_type": "markdown",
   "id": "cf4c2bbd",
   "metadata": {},
   "source": [
    "TC =O(n)\n",
    "\n",
    "SC =O(n)"
   ]
  },
  {
   "cell_type": "code",
   "execution_count": null,
   "id": "3351736b",
   "metadata": {},
   "outputs": [],
   "source": []
  }
 ],
 "metadata": {
  "kernelspec": {
   "display_name": "Python 3 (ipykernel)",
   "language": "python",
   "name": "python3"
  },
  "language_info": {
   "codemirror_mode": {
    "name": "ipython",
    "version": 3
   },
   "file_extension": ".py",
   "mimetype": "text/x-python",
   "name": "python",
   "nbconvert_exporter": "python",
   "pygments_lexer": "ipython3",
   "version": "3.9.12"
  }
 },
 "nbformat": 4,
 "nbformat_minor": 5
}
