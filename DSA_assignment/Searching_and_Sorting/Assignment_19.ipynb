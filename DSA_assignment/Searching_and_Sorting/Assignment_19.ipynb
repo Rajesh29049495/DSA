{
 "cells": [
  {
   "cell_type": "markdown",
   "id": "89689951",
   "metadata": {},
   "source": [
    "<aside>\n",
    "💡 1. **Merge k Sorted Lists**\n",
    "\n",
    "You are given an array of `k` linked-lists `lists`, each linked-list is sorted in ascending order.\n",
    "\n",
    "*Merge all the linked-lists into one sorted linked-list and return it.*\n",
    "\n",
    "**Example 1:**\n",
    "\n",
    "```\n",
    "Input: lists = [[1,4,5],[1,3,4],[2,6]]\n",
    "Output: [1,1,2,3,4,4,5,6]\n",
    "Explanation: The linked-lists are:\n",
    "[\n",
    "  1->4->5,\n",
    "  1->3->4,\n",
    "  2->6\n",
    "]\n",
    "merging them into one sorted list:\n",
    "1->1->2->3->4->4->5->6\n",
    "\n",
    "```\n",
    "\n",
    "**Example 2:**\n",
    "\n",
    "```\n",
    "Input: lists = []\n",
    "Output: []\n",
    "\n",
    "```\n",
    "\n",
    "**Example 3:**\n",
    "\n",
    "```\n",
    "Input: lists = [[]]\n",
    "Output: []\n",
    "\n",
    "```\n",
    "\n",
    "**Constraints:**\n",
    "\n",
    "- `k == lists.length`\n",
    "- `0 <= k <= 10000`\n",
    "- `0 <= lists[i].length <= 500`\n",
    "- `-10000 <= lists[i][j] <= 10000`\n",
    "- `lists[i]` is sorted in **ascending order**.\n",
    "- The sum of `lists[i].length` will not exceed `10000`.\n",
    "</aside>"
   ]
  },
  {
   "cell_type": "code",
   "execution_count": null,
   "id": "8602238e",
   "metadata": {},
   "outputs": [],
   "source": [
    "class ListNode:\n",
    "    def __init__(self, val =0, next = None):\n",
    "        self.val=val\n",
    "        self.next = next\n",
    "        \n",
    "\n",
    "def mergeLists(lists):\n",
    "    # Edge cases: empty input list\n",
    "    if not lists:\n",
    "        return None\n",
    "    \n",
    "    while len(lists)>1:\n",
    "        merged_lists = []\n",
    "        for i in range(0, len(lists), 2):\n",
    "            l1 = lists[i]\n",
    "            l2 =lists[i+1] if i+1 <len(lists) else None\n",
    "            merged = mergeTwoLists(l1, l2)\n",
    "            merged_lists.append(merged)\n",
    "        lists = merged_lists\n",
    "    return lists[0]\n",
    "\n",
    "def mergeTwoLists(l1, l2):\n",
    "    #base cases\n",
    "    if not l1:\n",
    "        return l2\n",
    "    if not l2:\n",
    "        return l1\n",
    "    # create a dummy node as the head of the merged list\n",
    "    dummy = ListNode(-1)\n",
    "    current = dummy\n",
    "    \n",
    "    # merge the two sorted lists\n",
    "    while l1 and l2:\n",
    "        if l1.val<l2.val:\n",
    "            current.next= l1\n",
    "            l1= l1.next\n",
    "        else:\n",
    "            current.next = l2\n",
    "            l2 = l2.next\n",
    "        current = current.next\n",
    "        \n",
    "    # Append the remaining nodes of l1 or l2\n",
    "    if l1:\n",
    "        current.next = l1\n",
    "        \n",
    "    "
   ]
  },
  {
   "cell_type": "code",
   "execution_count": 1,
   "id": "b3355264",
   "metadata": {},
   "outputs": [],
   "source": [
    "class ListNode:\n",
    "    def __init__(self, val=0, next=None):\n",
    "        self.val = val\n",
    "        self.next = next\n",
    "\n",
    "def mergeKLists(lists):\n",
    "    # Edge case: Empty input list\n",
    "    if not lists:\n",
    "        return None\n",
    "\n",
    "    while len(lists) > 1:\n",
    "        merged_lists = []\n",
    "        for i in range(0, len(lists), 2):\n",
    "            l1 = lists[i]\n",
    "            l2 = lists[i+1] if i+1 < len(lists) else None\n",
    "            merged = mergeTwoLists(l1, l2)\n",
    "            merged_lists.append(merged)\n",
    "        lists = merged_lists\n",
    "\n",
    "    return lists[0]\n",
    "\n",
    "def mergeTwoLists(l1, l2):\n",
    "    # Base cases\n",
    "    if not l1:\n",
    "        return l2\n",
    "    if not l2:\n",
    "        return l1\n",
    "\n",
    "    # Create a dummy node as the head of the merged list\n",
    "    dummy = ListNode(-1)\n",
    "    current = dummy\n",
    "\n",
    "    # Merge the two sorted lists\n",
    "    while l1 and l2:\n",
    "        if l1.val < l2.val:\n",
    "            current.next = l1\n",
    "            l1 = l1.next\n",
    "        else:\n",
    "            current.next = l2\n",
    "            l2 = l2.next\n",
    "        current = current.next\n",
    "\n",
    "    # Append the remaining nodes of l1 or l2\n",
    "    if l1:\n",
    "        current.next = l1\n",
    "    if l2:\n",
    "        current.next = l2\n",
    "\n",
    "    return dummy.next\n"
   ]
  },
  {
   "cell_type": "code",
   "execution_count": null,
   "id": "bd6d16e7",
   "metadata": {},
   "outputs": [],
   "source": [
    "class ListNode:\n",
    "    def __init__(self, val=0, next=None):\n",
    "        self.val = val\n",
    "        self.next = next\n",
    "\n",
    "def mergeKLists(lists):\n",
    "    # Base cases\n",
    "    if not lists:\n",
    "        return None\n",
    "    if len(lists) == 1:\n",
    "        return lists[0]\n",
    "\n",
    "    # Divide the lists into two halves\n",
    "    mid = len(lists) // 2\n",
    "    left = mergeKLists(lists[:mid])\n",
    "    right = mergeKLists(lists[mid:])\n",
    "\n",
    "    # Merge the two sorted lists\n",
    "    return mergeTwoLists(left, right)\n",
    "\n",
    "def mergeTwoLists(l1, l2):\n",
    "    # Base cases\n",
    "    if not l1:\n",
    "        return l2\n",
    "    if not l2:\n",
    "        return l1\n",
    "\n",
    "    # Compare the values of the current nodes\n",
    "    if l1.val < l2.val:\n",
    "        l1.next = mergeTwoLists(l1.next, l2)\n",
    "        return l1\n",
    "    else:\n",
    "        l2.next = mergeTwoLists(l1, l2.next)\n",
    "        return l2\n"
   ]
  },
  {
   "cell_type": "markdown",
   "id": "71abc256",
   "metadata": {},
   "source": [
    "TC = O(Nlogk), where N is the total number of nodes across all lists and k is the number of lists."
   ]
  },
  {
   "cell_type": "markdown",
   "id": "5428e9c3",
   "metadata": {},
   "source": [
    "*************************************"
   ]
  },
  {
   "cell_type": "markdown",
   "id": "b11765ea",
   "metadata": {},
   "source": [
    "<aside>\n",
    "💡 2. **Count of Smaller Numbers After Self**\n",
    "\n",
    "Given an integer array `nums`, return *an integer array* `counts` *where* `counts[i]` *is the number of smaller elements to the right of* `nums[i]`.\n",
    "\n",
    "**Example 1:**\n",
    "\n",
    "```\n",
    "Input: nums = [5,2,6,1]\n",
    "Output: [2,1,1,0]\n",
    "Explanation:\n",
    "To the right of 5 there are2 smaller elements (2 and 1).\n",
    "To the right of 2 there is only1 smaller element (1).\n",
    "To the right of 6 there is1 smaller element (1).\n",
    "To the right of 1 there is0 smaller element.\n",
    "\n",
    "```\n",
    "\n",
    "**Example 2:**\n",
    "\n",
    "```\n",
    "Input: nums = [-1]\n",
    "Output: [0]\n",
    "\n",
    "```\n",
    "\n",
    "**Example 3:**\n",
    "\n",
    "```\n",
    "Input: nums = [-1,-1]\n",
    "Output: [0,0]\n",
    "\n",
    "```\n",
    "\n",
    "**Constraints:**\n",
    "\n",
    "- `1 <= nums.length <= 100000`\n",
    "- `-10000 <= nums[i] <= 10000`\n",
    "</aside>"
   ]
  },
  {
   "cell_type": "code",
   "execution_count": 18,
   "id": "61dbee9d",
   "metadata": {},
   "outputs": [
    {
     "data": {
      "text/plain": [
       "[0, 1, 2, 2, 2, 3]"
      ]
     },
     "execution_count": 18,
     "metadata": {},
     "output_type": "execute_result"
    }
   ],
   "source": [
    "def solution(arr):\n",
    "    n = len(arr)\n",
    "    count_list =[0]*n\n",
    "    count =0\n",
    "    \n",
    "    for i in range(n):\n",
    "        if i ==0:\n",
    "            count_list[0]=0\n",
    "        elif arr[i-1]<arr[i]:\n",
    "            count +=1\n",
    "            count_list[i]=count\n",
    "        else:\n",
    "            count_list[i]=count\n",
    "    return count_list\n",
    "\n",
    "nums = [3,4,5,2,1,6]\n",
    "solution(nums)"
   ]
  },
  {
   "cell_type": "code",
   "execution_count": 23,
   "id": "c3db3a36",
   "metadata": {},
   "outputs": [
    {
     "data": {
      "text/plain": [
       "[2, 1, 1, 0]"
      ]
     },
     "execution_count": 23,
     "metadata": {},
     "output_type": "execute_result"
    }
   ],
   "source": [
    "def solution(arr):\n",
    "    n = len(arr)\n",
    "    count_list =[0]*n\n",
    "    count =0\n",
    "    \n",
    "    for i in range(n-1, -1, -1):\n",
    "        if i == n - 1:\n",
    "            count_list[n - 1] = 0\n",
    "        elif arr[i]>arr[i+1]:\n",
    "            count +=1\n",
    "            count_list[i]=count\n",
    "        else:\n",
    "            count_list[i]= count\n",
    "    return count_list\n",
    "\n",
    "\n",
    "nums = [5,2,6,1]\n",
    "solution(nums)"
   ]
  },
  {
   "cell_type": "code",
   "execution_count": 19,
   "id": "be85efc5",
   "metadata": {},
   "outputs": [
    {
     "data": {
      "text/plain": [
       "[0, 1, 2, 2, 2, 3]"
      ]
     },
     "execution_count": 19,
     "metadata": {},
     "output_type": "execute_result"
    }
   ],
   "source": [
    "def solution(arr):\n",
    "    n = len(arr)\n",
    "    count_list = [0] * n\n",
    "    count = 0\n",
    "    \n",
    "    for i in range(n):\n",
    "        if i == 0:\n",
    "            count_list[0] = 0\n",
    "        elif arr[i-1] < arr[i]:\n",
    "            count += 1\n",
    "            count_list[i] = count\n",
    "        else:\n",
    "            count_list[i] = count\n",
    "    \n",
    "    return count_list\n",
    "\n",
    "nums = [3, 4, 5, 2, 1, 6]\n",
    "solution(nums)\n"
   ]
  },
  {
   "cell_type": "code",
   "execution_count": 24,
   "id": "129903ec",
   "metadata": {},
   "outputs": [
    {
     "data": {
      "text/plain": [
       "[2, 1, 1, 0]"
      ]
     },
     "execution_count": 24,
     "metadata": {},
     "output_type": "execute_result"
    }
   ],
   "source": [
    "def solution(arr):\n",
    "    n = len(arr)\n",
    "    count_list =[0]*n\n",
    "    count =0\n",
    "    \n",
    "    for i in range(n-2, -1, -1):\n",
    "        #if i == n - 1:\n",
    "            #count_list[n - 1] = 0\n",
    "        if arr[i]>arr[i+1]:\n",
    "            count +=1\n",
    "            count_list[i]=count\n",
    "        else:\n",
    "            count_list[i]= count\n",
    "    return count_list\n",
    "\n",
    "\n",
    "nums = [5,2,6,1]\n",
    "solution(nums)"
   ]
  },
  {
   "cell_type": "code",
   "execution_count": 25,
   "id": "911b1f0b",
   "metadata": {},
   "outputs": [
    {
     "data": {
      "text/plain": [
       "[0, 1, 2, 0, 0, 5]"
      ]
     },
     "execution_count": 25,
     "metadata": {},
     "output_type": "execute_result"
    }
   ],
   "source": [
    "##to get a list with count of numbers smaller to the left of the current one \n",
    "def solution(arr):\n",
    "    n = len(arr)\n",
    "    count_list = [0]*n\n",
    "    \n",
    "    for i in range(1, n):\n",
    "        count =0\n",
    "        for j in range(i):\n",
    "            if arr[j] < arr[i]:\n",
    "                count +=1\n",
    "        count_list[i]= count\n",
    "        \n",
    "    return count_list\n",
    "\n",
    "nums= [3,4,5,2,1,6]\n",
    "solution(nums)"
   ]
  },
  {
   "cell_type": "markdown",
   "id": "abd6a44c",
   "metadata": {},
   "source": [
    "<aside>\n",
    "💡 3. **Sort an Array**\n",
    "\n",
    "Given an array of integers `nums`, sort the array in ascending order and return it.\n",
    "\n",
    "You must solve the problem **without using any built-in** functions in `O(nlog(n))` time complexity and with the smallest space complexity possible.\n",
    "\n",
    "**Example 1:**\n",
    "\n",
    "```\n",
    "Input: nums = [5,2,3,1]\n",
    "Output: [1,2,3,5]\n",
    "Explanation: After sorting the array, the positions of some numbers are not changed (for example, 2 and 3), while the positions of other numbers are changed (for example, 1 and 5).\n",
    "\n",
    "```\n",
    "\n",
    "**Example 2:**\n",
    "\n",
    "```\n",
    "Input: nums = [5,1,1,2,0,0]\n",
    "Output: [0,0,1,1,2,5]\n",
    "Explanation: Note that the values of nums are not necessairly unique.\n",
    "\n",
    "```\n",
    "\n",
    "**Constraints:**\n",
    "\n",
    "- `1 <= nums.length <= 5 * 10000`\n",
    "- `-5 * 104 <= nums[i] <= 5 * 10000`\n",
    "</aside>"
   ]
  },
  {
   "cell_type": "code",
   "execution_count": 26,
   "id": "ae5812c7",
   "metadata": {},
   "outputs": [
    {
     "data": {
      "text/plain": [
       "[0, 0, 1, 1, 2, 5]"
      ]
     },
     "execution_count": 26,
     "metadata": {},
     "output_type": "execute_result"
    }
   ],
   "source": [
    "## Quick Sort algorithm\n",
    "\n",
    "def sortArray(nums):\n",
    "    quickSort(nums, 0, len(nums)-1)\n",
    "    return nums\n",
    "\n",
    "def quickSort(nums, low, high):\n",
    "    if low < high:\n",
    "        pivotIndex = partition(nums, low, high)\n",
    "        quickSort(nums, low, pivotIndex-1)\n",
    "        quickSort(nums, pivotIndex + 1, high)\n",
    "        \n",
    "def partition(nums, low, high):\n",
    "    #initialise the pivot element {could be any, i chose the last one}\n",
    "    pivot = nums[high]\n",
    "    i = low-1\n",
    "    \n",
    "    # rearranging lements such that all elements smaller than the pivot are placed to its left and all eements greater than the pivot are placed to its right\n",
    "    for j in range(low, high):\n",
    "        if nums[j]<pivot:\n",
    "            i+=1\n",
    "            nums[i], nums[j] = nums[j], nums[i]\n",
    "            \n",
    "    nums[i+1], nums[high] = nums[high], nums[i+1]\n",
    "    # returning the current location of the pivot element\n",
    "    return i+1\n",
    "\n",
    "nums = [5,1,1,2,0,0]\n",
    "sortArray(nums)"
   ]
  },
  {
   "cell_type": "markdown",
   "id": "b03d2f17",
   "metadata": {},
   "source": [
    "TC = O(nlogn)"
   ]
  },
  {
   "cell_type": "code",
   "execution_count": 27,
   "id": "4f6eb5e0",
   "metadata": {},
   "outputs": [
    {
     "data": {
      "text/plain": [
       "[0, 0, 1, 1, 2, 5]"
      ]
     },
     "execution_count": 27,
     "metadata": {},
     "output_type": "execute_result"
    }
   ],
   "source": [
    "def merge_sort(nums):\n",
    "    if len(nums)<=1:\n",
    "        return nums\n",
    "    \n",
    "    mid = len(nums)//2\n",
    "    left = merge_sort(nums[:mid])\n",
    "    right = merge_sort(nums[mid:])\n",
    "    return merge(left, right)\n",
    "\n",
    "def merge(left, right):\n",
    "    merged = []\n",
    "    i, j = 0, 0\n",
    "    \n",
    "    while i < len(left) and j < len(right):\n",
    "        if left[i]<= right[j]:\n",
    "            merged.append(left[i])\n",
    "            i+=1\n",
    "        else:\n",
    "            merged.append(right[j])\n",
    "            j+=1\n",
    "            \n",
    "    # Append the reamining elements\n",
    "    merged.extend(left[i:])\n",
    "    merged.extend(right[j:])\n",
    "    return merged\n",
    "\n",
    "nums = [5,1,1,2,0,0]\n",
    "merge_sort(nums)"
   ]
  },
  {
   "cell_type": "markdown",
   "id": "9e8bba91",
   "metadata": {},
   "source": [
    "TC = O(nlogn)"
   ]
  },
  {
   "cell_type": "markdown",
   "id": "d37ab58a",
   "metadata": {},
   "source": [
    "<aside>\n",
    "💡 4. **Move all zeroes to end of array**\n",
    "\n",
    "Given an array of random numbers, Push all the zero’s of a given array to the end of the array. For example, if the given arrays is {1, 9, 8, 4, 0, 0, 2, 7, 0, 6, 0}, it should be changed to {1, 9, 8, 4, 2, 7, 6, 0, 0, 0, 0}. The order of all other elements should be same. Expected time complexity is O(n) and extra space is O(1).\n",
    "\n",
    "**Example:**\n",
    "```\n",
    "Input :  arr[] = {1, 2, 0, 4, 3, 0, 5, 0};\n",
    "Output : arr[] = {1, 2, 4, 3, 5, 0, 0, 0};\n",
    "\n",
    "Input : arr[]  = {1, 2, 0, 0, 0, 3, 6};\n",
    "Output : arr[] = {1, 2, 3, 6, 0, 0, 0};\n",
    "```    \n",
    "</aside>"
   ]
  },
  {
   "cell_type": "code",
   "execution_count": 40,
   "id": "590d429a",
   "metadata": {},
   "outputs": [
    {
     "data": {
      "text/plain": [
       "[1, 2, 5, 4, 3, 0, 0, 0]"
      ]
     },
     "execution_count": 40,
     "metadata": {},
     "output_type": "execute_result"
    }
   ],
   "source": [
    "def solution(arr):\n",
    "    n = len(arr)\n",
    "    p1=0\n",
    "    p2 = n-1\n",
    "    \n",
    "    while p1<=p2:\n",
    "        if arr[p1]==0 and arr[p2]!=0:\n",
    "            arr[p1], arr[p2]= arr[p2], arr[p1]\n",
    "            p1+=1\n",
    "            p2-=1\n",
    "        elif arr[p1]==0 and arr[p2]==0:\n",
    "            p2-=1\n",
    "            arr[p1], arr[p2]= arr[p2], arr[p1]\n",
    "            p1+=1\n",
    "        else:\n",
    "            p1+=1\n",
    "    return arr\n",
    "\n",
    "arr = [1, 2, 0, 4, 3, 0, 5, 0]\n",
    "solution(arr)   "
   ]
  },
  {
   "cell_type": "code",
   "execution_count": 42,
   "id": "63529f71",
   "metadata": {},
   "outputs": [
    {
     "data": {
      "text/plain": [
       "[1, 2, 4, 3, 5, 0, 0, 0]"
      ]
     },
     "execution_count": 42,
     "metadata": {},
     "output_type": "execute_result"
    }
   ],
   "source": [
    "def solution(arr):\n",
    "    n = len(arr)\n",
    "    count = 0  # Count of non-zero elements\n",
    "    \n",
    "    # Traverse the array and move non-zero elements to the beginning of the array\n",
    "    for i in range(n):\n",
    "        if arr[i] != 0:\n",
    "            arr[count] = arr[i]\n",
    "            count += 1\n",
    "    \n",
    "    # Fill the remaining elements with zeroes\n",
    "    while count < n:\n",
    "        arr[count] = 0\n",
    "        count += 1\n",
    "\n",
    "    return arr\n",
    "\n",
    "arr = [1, 2, 0, 4, 3, 0, 5, 0]\n",
    "solution(arr)"
   ]
  },
  {
   "cell_type": "markdown",
   "id": "73f9ce05",
   "metadata": {},
   "source": [
    "TC =O(n)\n",
    "\n",
    "SC =O(1)"
   ]
  },
  {
   "cell_type": "markdown",
   "id": "61a75bba",
   "metadata": {},
   "source": [
    "<aside>\n",
    "💡 5. **Rearrange array in alternating positive & negative items with O(1) extra space**\n",
    "\n",
    "Given an **array of positive** and **negative numbers**, arrange them in an **alternate** fashion such that every positive number is followed by a negative and vice-versa maintaining the **order of appearance**. The number of positive and negative numbers need not be equal. If there are more positive numbers they appear at the end of the array. If there are more negative numbers, they too appear at the end of the array.\n",
    "\n",
    "**Examples:**\n",
    "\n",
    "> Input:  arr[] = {1, 2, 3, -4, -1, 4}\n",
    "Output: arr[] = {-4, 1, -1, 2, 3, 4}\n",
    "\n",
    "Input:  arr[] = {-5, -2, 5, 2, 4, 7, 1, 8, 0, -8}\n",
    "Output: arr[] = {-5, 5, -2, 2, -8, 4, 7, 1, 8, 0}\n",
    "> \n",
    "</aside>"
   ]
  },
  {
   "cell_type": "code",
   "execution_count": 9,
   "id": "628b47b5",
   "metadata": {},
   "outputs": [
    {
     "data": {
      "text/plain": [
       "[-5, 5, -2, 2, -8, 4, 7, 1, 8, 0]"
      ]
     },
     "execution_count": 9,
     "metadata": {},
     "output_type": "execute_result"
    }
   ],
   "source": [
    "\n",
    "def rearrangeArray(nums):\n",
    "    p_numbers = [num for num in nums if num >= 0]\n",
    "    n_numbers = [num for num in nums if num < 0]\n",
    "    result = []\n",
    "    for n_num, p_num in zip(n_numbers, p_numbers):\n",
    "        result += [n_num, p_num]\n",
    "    \n",
    "    #Apend any reaining elements from p_numbers or n_numbers\n",
    "    if len(p_numbers)> len(n_numbers):\n",
    "        result += p_numbers[len(n_numbers):]   #length of n_numbers is taken because p_numbers element that were considered are equal in number to n_numbers(because there numbers are less)\n",
    "    elif len(n_numbers) > len(p_numbers):\n",
    "        result += n_numbers[len(p_numbers):]\n",
    "    \n",
    "    return result\n",
    "        \n",
    "arr = [-5, -2, 5, 2, 4, 7, 1, 8, 0, -8]\n",
    "rearrangeArray(arr)"
   ]
  },
  {
   "cell_type": "markdown",
   "id": "bd65b261",
   "metadata": {},
   "source": [
    "<aside>\n",
    "💡 **6. Merge two sorted arrays**\n",
    "\n",
    "Given two sorted arrays, the task is to merge them in a sorted manner.\n",
    "\n",
    "**Examples:**\n",
    "\n",
    "> Input: arr1[] = { 1, 3, 4, 5}, arr2[] = {2, 4, 6, 8} \n",
    "Output: arr3[] = {1, 2, 3, 4, 4, 5, 6, 8}\n",
    "\n",
    "Input: arr1[] = { 5, 8, 9}, arr2[] = {4, 7, 8}\n",
    "Output: arr3[] = {4, 5, 7, 8, 8, 9}\n",
    "> \n",
    "</aside>"
   ]
  },
  {
   "cell_type": "code",
   "execution_count": 31,
   "id": "059e47e5",
   "metadata": {},
   "outputs": [
    {
     "data": {
      "text/plain": [
       "[1, 2, 3, 4, 4, 5, 6, 8]"
      ]
     },
     "execution_count": 31,
     "metadata": {},
     "output_type": "execute_result"
    }
   ],
   "source": [
    "def solution(arr1, arr2):\n",
    "    i=0\n",
    "    j=0\n",
    "    arr = []\n",
    "    \n",
    "    while i <len(arr1) and j<len(arr2):\n",
    "        if arr1[i]<=arr2[j]:\n",
    "            arr.append(arr1[i])\n",
    "            i+=1\n",
    "        elif arr2[j]<arr1[i]:\n",
    "            arr.append(arr2[j])\n",
    "            j+=1\n",
    "        \n",
    "    if len(arr1[i:])!=0:\n",
    "        arr.extend(arr1[i:])\n",
    "    if len(arr2[j:])!=0:\n",
    "        arr.extend(arr2[j:])\n",
    "    return arr\n",
    "\n",
    "arr1 = [ 1, 3, 4, 5] \n",
    "arr2 = [2, 4, 6, 8]\n",
    "solution(arr1, arr2)"
   ]
  },
  {
   "cell_type": "markdown",
   "id": "36d7a9d0",
   "metadata": {},
   "source": [
    "TC = O(n)\n",
    "\n",
    "SC = O(n)\n",
    "\n",
    "where n is total elements in both teh arrays"
   ]
  },
  {
   "cell_type": "markdown",
   "id": "3935e387",
   "metadata": {},
   "source": [
    "<aside>\n",
    "💡 7. **Intersection of Two Arrays**\n",
    "\n",
    "Given two integer arrays `nums1` and `nums2`, return *an array of their intersection*. Each element in the result must be **unique** and you may return the result in **any order**.\n",
    "\n",
    "**Example 1:**\n",
    "\n",
    "```\n",
    "Input: nums1 = [1,2,2,1], nums2 = [2,2]\n",
    "Output: [2]\n",
    "\n",
    "```\n",
    "\n",
    "**Example 2:**\n",
    "\n",
    "```\n",
    "Input: nums1 = [4,9,5], nums2 = [9,4,9,8,4]\n",
    "Output: [9,4]\n",
    "Explanation: [4,9] is also accepted.\n",
    "\n",
    "```\n",
    "\n",
    "**Constraints:**\n",
    "\n",
    "- `1 <= nums1.length, nums2.length <= 1000`\n",
    "- `0 <= nums1[i], nums2[i] <= 1000`\n",
    "</aside>"
   ]
  },
  {
   "cell_type": "code",
   "execution_count": 33,
   "id": "d6abfe95",
   "metadata": {},
   "outputs": [
    {
     "data": {
      "text/plain": [
       "[9, 4]"
      ]
     },
     "execution_count": 33,
     "metadata": {},
     "output_type": "execute_result"
    }
   ],
   "source": [
    "def solution(arr1, arr2):\n",
    "    arr = set()\n",
    "    \n",
    "    for i in arr1:\n",
    "        if i in arr2:\n",
    "            arr.add(i)\n",
    "    return list(arr)\n",
    "\n",
    "arr1= [4,9,5]\n",
    "arr2= [9,4,9,8,4]\n",
    "solution(arr1, arr2)\n",
    "            "
   ]
  },
  {
   "cell_type": "markdown",
   "id": "f3638d17",
   "metadata": {},
   "source": [
    "TC = O(m+n)\n",
    "\n",
    "SC = O(m+n)"
   ]
  },
  {
   "cell_type": "markdown",
   "id": "70c93c31",
   "metadata": {},
   "source": [
    "<aside>\n",
    "💡 8. **Intersection of Two Arrays II**\n",
    "\n",
    "Given two integer arrays `nums1` and `nums2`, return *an array of their intersection*. Each element in the result must appear as many times as it shows in both arrays and you may return the result in **any order**.\n",
    "\n",
    "**Example 1:**\n",
    "\n",
    "```\n",
    "Input: nums1 = [1,2,2,1], nums2 = [2,2]\n",
    "Output: [2,2]\n",
    "\n",
    "```\n",
    "\n",
    "**Example 2:**\n",
    "\n",
    "```\n",
    "Input: nums1 = [4,9,5], nums2 = [9,4,9,8,4]\n",
    "Output: [4,9]\n",
    "Explanation: [9,4] is also accepted.\n",
    "\n",
    "```\n",
    "\n",
    "**Constraints:**\n",
    "\n",
    "- `1 <= nums1.length, nums2.length <= 1000`\n",
    "- `0 <= nums1[i], nums2[i] <= 1000`\n",
    "</aside>"
   ]
  },
  {
   "cell_type": "code",
   "execution_count": 36,
   "id": "292eea94",
   "metadata": {},
   "outputs": [
    {
     "data": {
      "text/plain": [
       "[2, 2]"
      ]
     },
     "execution_count": 36,
     "metadata": {},
     "output_type": "execute_result"
    }
   ],
   "source": [
    "def solution(arr1, arr2):\n",
    "    arr = []\n",
    "    \n",
    "    for i in arr1:\n",
    "        if i in arr2:\n",
    "            arr.append(i)\n",
    "    return arr\n",
    "\n",
    "arr1= [1,2,2,1]\n",
    "arr2= [2,2]\n",
    "solution(arr1, arr2)\n",
    "            "
   ]
  },
  {
   "cell_type": "markdown",
   "id": "44c0eddc",
   "metadata": {},
   "source": [
    "TC = O(m+n)\n",
    "\n",
    "SC = O(m+n)"
   ]
  },
  {
   "cell_type": "code",
   "execution_count": null,
   "id": "35c9b2af",
   "metadata": {},
   "outputs": [],
   "source": []
  },
  {
   "cell_type": "code",
   "execution_count": 12,
   "id": "ef01a0dd",
   "metadata": {},
   "outputs": [
    {
     "data": {
      "text/plain": [
       "[2, 1, 1, 0]"
      ]
     },
     "execution_count": 12,
     "metadata": {},
     "output_type": "execute_result"
    }
   ],
   "source": [
    "def solution(arr):\n",
    "    n = len(arr)\n",
    "    count_list = [0] * n\n",
    "    count = 0\n",
    "    \n",
    "    for i in range(n - 1, -1, -1):\n",
    "        if i == n - 1:\n",
    "            count_list[n - 1] = 0\n",
    "        elif arr[i] > arr[i + 1]:  # Compare with the next element, not the previous one\n",
    "            count += 1\n",
    "            count_list[i] = count  # Assign count to the current index\n",
    "        else:\n",
    "            count_list[i] = count  # If the current element is not smaller, assign the previous count\n",
    "        \n",
    "    return count_list\n",
    "\n",
    "nums = [5, 2, 6, 1]\n",
    "solution(nums)\n"
   ]
  }
 ],
 "metadata": {
  "kernelspec": {
   "display_name": "Python 3 (ipykernel)",
   "language": "python",
   "name": "python3"
  },
  "language_info": {
   "codemirror_mode": {
    "name": "ipython",
    "version": 3
   },
   "file_extension": ".py",
   "mimetype": "text/x-python",
   "name": "python",
   "nbconvert_exporter": "python",
   "pygments_lexer": "ipython3",
   "version": "3.9.12"
  }
 },
 "nbformat": 4,
 "nbformat_minor": 5
}
