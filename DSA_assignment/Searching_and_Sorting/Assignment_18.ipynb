{
 "cells": [
  {
   "cell_type": "markdown",
   "id": "f1977917",
   "metadata": {},
   "source": [
    "<aside>\n",
    "💡 1. **Merge Intervals**\n",
    "\n",
    "Given an array of `intervals` where `intervals[i] = [starti, endi]`, merge all overlapping intervals, and return *an array of the non-overlapping intervals that cover all the intervals in the input*.\n",
    "\n",
    "**Example 1:**\n",
    "\n",
    "```\n",
    "Input: intervals = [[1,3],[2,6],[8,10],[15,18]]\n",
    "Output: [[1,6],[8,10],[15,18]]\n",
    "Explanation: Since intervals [1,3] and [2,6] overlap, merge them into [1,6].\n",
    "\n",
    "```\n",
    "\n",
    "**Example 2:**\n",
    "\n",
    "```\n",
    "Input: intervals = [[1,4],[4,5]]\n",
    "Output: [[1,5]]\n",
    "Explanation: Intervals [1,4] and [4,5] are considered overlapping.\n",
    "\n",
    "```\n",
    "\n",
    "**Constraints:**\n",
    "\n",
    "- `1 <= intervals.length <= 10000`\n",
    "- `intervals[i].length == 2`\n",
    "- `0 <= starti <= endi <= 10000`\n",
    "</aside>"
   ]
  },
  {
   "cell_type": "code",
   "execution_count": 19,
   "id": "9da942a6",
   "metadata": {},
   "outputs": [
    {
     "data": {
      "text/plain": [
       "[[1, 6], [8, 10], [15, 18]]"
      ]
     },
     "execution_count": 19,
     "metadata": {},
     "output_type": "execute_result"
    }
   ],
   "source": [
    "def merge(intervals):\n",
    "    # Sort intervals based on start time\n",
    "    intervals.sort(key = lambda x: x[0])\n",
    "    \n",
    "    # Initialise result list with the first ineterval\n",
    "    merged = [intervals[0]]\n",
    "    \n",
    "    # Iterate through the sorted intervals\n",
    "    for interval in intervals[1:]:\n",
    "        # Check for overlap with the previous merged interval\n",
    "        if interval[0]<= merged[-1][1]:\n",
    "            # update ending of previously merged inteval\n",
    "            merged[-1][1]= max(merged[-1][1], interval[1])\n",
    "            \n",
    "        else:\n",
    "            # no overap , add the current interval to the merged list\n",
    "            merged.append(interval)\n",
    "    return merged\n",
    "\n",
    "intervals = [[1,3],[2,6],[8,10],[15,18]]\n",
    "merge(intervals)"
   ]
  },
  {
   "cell_type": "markdown",
   "id": "0b7bcfaa",
   "metadata": {},
   "source": [
    "TC = O(n log(n))\n",
    "\n",
    "SC =O(n)"
   ]
  },
  {
   "cell_type": "code",
   "execution_count": 24,
   "id": "e95f3438",
   "metadata": {},
   "outputs": [
    {
     "name": "stdout",
     "output_type": "stream",
     "text": [
      "[[1, 6], [8, 10], [15, 18]]\n"
     ]
    }
   ],
   "source": [
    "def merge(intervals):\n",
    "    # Sort intervals based on start time\n",
    "    intervals.sort(key=lambda x: x[0])\n",
    "    \n",
    "    # Initialize the index to track the position of the last merged interval\n",
    "    index = 0\n",
    "    \n",
    "    # Iterate through the sorted intervals\n",
    "    for i in range(1, len(intervals)):\n",
    "        # Check for overlap with the last merged interval\n",
    "        if intervals[i][0] <= intervals[index][1]:\n",
    "            # Update the ending of the last merged interval\n",
    "            intervals[index][1] = max(intervals[index][1], intervals[i][1])\n",
    "        else:\n",
    "            # No overlap, move to the next position for merging\n",
    "            index += 1\n",
    "            intervals[index] = intervals[i]\n",
    "    \n",
    "    # Return the merged intervals\n",
    "    return intervals[:index + 1]\n",
    "\n",
    "intervals = [[1, 3], [2, 6], [8, 10], [15, 18]]\n",
    "result = merge(intervals)\n",
    "print(result)  # Output: [[1, 6], [8, 10], [15, 18]]\n"
   ]
  },
  {
   "cell_type": "markdown",
   "id": "4daf084b",
   "metadata": {},
   "source": [
    "TC =O(n logn)\n",
    "\n",
    "SC =o(1)"
   ]
  },
  {
   "cell_type": "markdown",
   "id": "917e23f2",
   "metadata": {},
   "source": [
    "<aside>\n",
    "💡 2. **Sort Colors**\n",
    "\n",
    "Given an array `nums` with `n` objects colored red, white, or blue, sort them **[in-place](https://en.wikipedia.org/wiki/In-place_algorithm)** so that objects of the same color are adjacent, with the colors in the order red, white, and blue.\n",
    "\n",
    "We will use the integers `0`, `1`, and `2` to represent the color red, white, and blue, respectively.\n",
    "\n",
    "You must solve this problem without using the library's sort function.\n",
    "\n",
    "**Example 1:**\n",
    "\n",
    "```\n",
    "Input: nums = [2,0,2,1,1,0]\n",
    "Output: [0,0,1,1,2,2]\n",
    "\n",
    "```\n",
    "\n",
    "**Example 2:**\n",
    "\n",
    "```\n",
    "Input: nums = [2,0,1]\n",
    "Output: [0,1,2]\n",
    "\n",
    "```\n",
    "\n",
    "**Constraints:**\n",
    "\n",
    "- `n == nums.length`\n",
    "- `1 <= n <= 300`\n",
    "- `nums[i]` is either `0`, `1`, or `2`.\n",
    "</aside>"
   ]
  },
  {
   "cell_type": "code",
   "execution_count": 26,
   "id": "587f7933",
   "metadata": {},
   "outputs": [
    {
     "data": {
      "text/plain": [
       "[0, 0, 1, 1, 2, 2]"
      ]
     },
     "execution_count": 26,
     "metadata": {},
     "output_type": "execute_result"
    }
   ],
   "source": [
    "#Dutch National Flag algorithm. The algorithm divides the array into three regions: the red region, the white region, and the blue region.\n",
    "def sortColors(nums):\n",
    "    red_ptr = 0\n",
    "    white_ptr = 0\n",
    "    blue_ptr = len(nums) - 1\n",
    "    \n",
    "    while white_ptr <= blue_ptr:\n",
    "        if nums[white_ptr] == 0:\n",
    "            nums[red_ptr], nums[white_ptr] = nums[white_ptr], nums[red_ptr]\n",
    "            red_ptr += 1\n",
    "            white_ptr += 1\n",
    "        elif nums[white_ptr] == 1:\n",
    "            white_ptr += 1\n",
    "        else:\n",
    "            nums[white_ptr], nums[blue_ptr] = nums[blue_ptr], nums[white_ptr]\n",
    "            blue_ptr -= 1\n",
    "\n",
    "    return nums\n",
    "\n",
    "nums = [2,0,2,1,1,0]\n",
    "sortColors(nums)"
   ]
  },
  {
   "cell_type": "code",
   "execution_count": 29,
   "id": "6cc9f515",
   "metadata": {},
   "outputs": [
    {
     "name": "stdout",
     "output_type": "stream",
     "text": [
      "[0, 0, 1, 1, 2, 2]\n"
     ]
    }
   ],
   "source": [
    "def mergeSortColors(nums):\n",
    "    def merge(left, right):\n",
    "        merged = []\n",
    "        i = j = 0\n",
    "        while i < len(left) and j < len(right):\n",
    "            if left[i] <= right[j]:\n",
    "                merged.append(left[i])\n",
    "                i += 1\n",
    "            else:\n",
    "                merged.append(right[j])\n",
    "                j += 1\n",
    "        #to append the remaining elements of left and right subarrays to the merged array.\n",
    "        merged.extend(left[i:])\n",
    "        merged.extend(right[j:])\n",
    "        return merged\n",
    "    \n",
    "    def mergeSort(nums):\n",
    "        if len(nums) <= 1:\n",
    "            return nums\n",
    "        mid = len(nums) // 2\n",
    "        left = mergeSort(nums[:mid])\n",
    "        right = mergeSort(nums[mid:])\n",
    "        return merge(left, right)\n",
    "    \n",
    "    nums = mergeSort(nums)\n",
    "    return nums\n",
    "\n",
    "nums = [2, 0, 2, 1, 1, 0]\n",
    "result = mergeSortColors(nums)\n",
    "print(result)  # Output: [0, 0, 1, 1, 2, 2]\n"
   ]
  },
  {
   "cell_type": "markdown",
   "id": "4a3b2764",
   "metadata": {},
   "source": [
    "In the merge sort algorithm, the array is divided into halves recursively until each subarray contains only one element. Then, the subarrays are merged back together in a sorted manner. This process is performed recursively until the entire array is sorted.\n",
    "\n",
    "The time complexity of the merge sort algorithm remains O(n log n) in this case as well. Each level of recursion divides the array into two halves, and there are log n levels of recursion. At each level, the merging step takes linear time, resulting in a total time complexity of O(n log n).\n",
    "\n",
    "The space complexity of the merge sort algorithm using this implementation is also O(n). During the merging process, temporary arrays are created to store the merged subarrays. The size of these temporary arrays is equal to the size of the input array, resulting in a space complexity of O(n)."
   ]
  },
  {
   "cell_type": "markdown",
   "id": "0d06e587",
   "metadata": {},
   "source": [
    "<aside>\n",
    "💡 3. **First Bad Version Solution**\n",
    "\n",
    "You are a product manager and currently leading a team to develop a new product. Unfortunately, the latest version of your product fails the quality check. Since each version is developed based on the previous version, all the versions after a bad version are also bad.\n",
    "\n",
    "Suppose you have `n` versions `[1, 2, ..., n]` and you want to find out the first bad one, which causes all the following ones to be bad.\n",
    "\n",
    "You are given an API `bool isBadVersion(version)` which returns whether `version` is bad. Implement a function to find the first bad version. You should minimize the number of calls to the API.\n",
    "\n",
    "**Example 1:**\n",
    "\n",
    "```\n",
    "Input: n = 5, bad = 4\n",
    "Output: 4\n",
    "Explanation:\n",
    "call isBadVersion(3) -> false\n",
    "call isBadVersion(5) -> true\n",
    "call isBadVersion(4) -> true\n",
    "Then 4 is the first bad version.\n",
    "\n",
    "```\n",
    "\n",
    "**Example 2:**\n",
    "\n",
    "```\n",
    "Input: n = 1, bad = 1\n",
    "Output: 1\n",
    "\n",
    "```\n",
    "\n",
    "**Constraints:**\n",
    "\n",
    "- `1 <= bad <= n <= 2^31 - 1`\n",
    "</aside>"
   ]
  },
  {
   "cell_type": "code",
   "execution_count": 34,
   "id": "eb4b9a26",
   "metadata": {},
   "outputs": [
    {
     "data": {
      "text/plain": [
       "2"
      ]
     },
     "execution_count": 34,
     "metadata": {},
     "output_type": "execute_result"
    }
   ],
   "source": [
    "def isBadVersion(bad):\n",
    "    if bad>=2:\n",
    "        return True\n",
    "    else:\n",
    "        return False\n",
    "\n",
    "#function to detect the first bad version\n",
    "def firstBadVersion(n):\n",
    "    left = 1\n",
    "    right = n\n",
    "\n",
    "    while left < right:\n",
    "        mid = left + (right - left) // 2\n",
    "        if isBadVersion(mid):\n",
    "            right = mid\n",
    "        else:\n",
    "            left = mid + 1\n",
    "\n",
    "    return left\n",
    "\n",
    "\n",
    "firstBadVersion(5)"
   ]
  },
  {
   "cell_type": "markdown",
   "id": "7e74b081",
   "metadata": {},
   "source": [
    "TC = O(log n)\n",
    "\n",
    "SC =O(1)"
   ]
  },
  {
   "cell_type": "markdown",
   "id": "ab69ada0",
   "metadata": {},
   "source": [
    "<aside>\n",
    "💡 4. **Maximum Gap**\n",
    "\n",
    "Given an integer array `nums`, return *the maximum difference between two successive elements in its sorted form*. If the array contains less than two elements, return `0`.\n",
    "\n",
    "You must write an algorithm that runs in linear time and uses linear extra space.\n",
    "\n",
    "**Example 1:**\n",
    "\n",
    "```\n",
    "Input: nums = [3,6,9,1]\n",
    "Output: 3\n",
    "Explanation: The sorted form of the array is [1,3,6,9], either (3,6) or (6,9) has the maximum difference 3.\n",
    "\n",
    "```\n",
    "\n",
    "**Example 2:**\n",
    "\n",
    "```\n",
    "Input: nums = [10]\n",
    "Output: 0\n",
    "Explanation: The array contains less than 2 elements, therefore return 0.\n",
    "\n",
    "```\n",
    "\n",
    "**Constraints:**\n",
    "\n",
    "- `1 <= nums.length <= 10^5`\n",
    "- `0 <= nums[i] <= 10^9`\n",
    "</aside>"
   ]
  },
  {
   "cell_type": "code",
   "execution_count": 40,
   "id": "a399cb22",
   "metadata": {},
   "outputs": [
    {
     "data": {
      "text/plain": [
       "3"
      ]
     },
     "execution_count": 40,
     "metadata": {},
     "output_type": "execute_result"
    }
   ],
   "source": [
    "def maximumGap(nums):\n",
    "    if len(nums) < 2:\n",
    "        return 0\n",
    "    \n",
    "    nums.sort()\n",
    "    maxGap = 0\n",
    "    for i in range(len(nums) - 1):\n",
    "        diff = abs(nums[i+1] - nums[i])\n",
    "        maxGap = max(maxGap, diff)\n",
    "    \n",
    "    return maxGap\n",
    "\n",
    "\n",
    "maximumGap([3,6,9,1])"
   ]
  },
  {
   "cell_type": "markdown",
   "id": "67e00cdd",
   "metadata": {},
   "source": [
    "TC =O(nlog(n))\n",
    "\n",
    "SC =O(1)"
   ]
  },
  {
   "cell_type": "code",
   "execution_count": null,
   "id": "bfd41e7a",
   "metadata": {},
   "outputs": [],
   "source": [
    "#but in question they ask for solution with linear TC ad SC."
   ]
  },
  {
   "cell_type": "markdown",
   "id": "85e0d1c7",
   "metadata": {},
   "source": [
    "<aside>\n",
    "💡 5. **Contains Duplicate**\n",
    "\n",
    "Given an integer array `nums`, return `true` if any value appears **at least twice** in the array, and return `false` if every element is distinct.\n",
    "\n",
    "**Example 1:**\n",
    "\n",
    "```\n",
    "Input: nums = [1,2,3,1]\n",
    "Output: true\n",
    "\n",
    "```\n",
    "\n",
    "**Example 2:**\n",
    "\n",
    "```\n",
    "Input: nums = [1,2,3,4]\n",
    "Output: false\n",
    "\n",
    "```\n",
    "\n",
    "**Example 3:**\n",
    "\n",
    "```\n",
    "Input: nums = [1,1,1,3,3,4,3,2,4,2]\n",
    "Output: true\n",
    "\n",
    "```\n",
    "\n",
    "**Constraints:**\n",
    "\n",
    "- `1 <= nums.length <= 10^5`\n",
    "- `109 <= nums[i] <= 10^9`\n",
    "</aside>"
   ]
  },
  {
   "cell_type": "code",
   "execution_count": 37,
   "id": "b9d54e2c",
   "metadata": {},
   "outputs": [
    {
     "data": {
      "text/plain": [
       "False"
      ]
     },
     "execution_count": 37,
     "metadata": {},
     "output_type": "execute_result"
    }
   ],
   "source": [
    "def solution(arr):\n",
    "    n =len(arr)\n",
    "    d ={}\n",
    "    \n",
    "    for i in arr:\n",
    "        d[i]= d.get(i,0)+1\n",
    "    \n",
    "    for i in arr:\n",
    "        if d[i]>1:\n",
    "            return True\n",
    "    return False\n",
    "\n",
    "solution([1,2,3,4])"
   ]
  },
  {
   "cell_type": "markdown",
   "id": "21336e28",
   "metadata": {},
   "source": [
    "TC =O(n)\n",
    "\n",
    "SC =O(n)"
   ]
  },
  {
   "cell_type": "code",
   "execution_count": 39,
   "id": "9d853765",
   "metadata": {},
   "outputs": [
    {
     "data": {
      "text/plain": [
       "True"
      ]
     },
     "execution_count": 39,
     "metadata": {},
     "output_type": "execute_result"
    }
   ],
   "source": [
    "def solution(arr):\n",
    "    unique =set()\n",
    "    \n",
    "    for num in arr:\n",
    "        if num in unique:\n",
    "            return True\n",
    "        unique.add(num)\n",
    "        \n",
    "    return False\n",
    "\n",
    "solution([1,1,1,3,3,4,3,2,4,2])\n",
    "    "
   ]
  },
  {
   "cell_type": "markdown",
   "id": "a351c8ac",
   "metadata": {},
   "source": [
    "TC =O(n)\n",
    "\n",
    "SC = O(1)"
   ]
  },
  {
   "cell_type": "markdown",
   "id": "08265746",
   "metadata": {},
   "source": [
    "<aside>\n",
    "💡 6. **Minimum Number of Arrows to Burst Balloons**\n",
    "\n",
    "There are some spherical balloons taped onto a flat wall that represents the XY-plane. The balloons are represented as a 2D integer array `points` where `points[i] = [xstart, xend]` denotes a balloon whose **horizontal diameter** stretches between `xstart` and `xend`. You do not know the exact y-coordinates of the balloons.\n",
    "\n",
    "Arrows can be shot up **directly vertically** (in the positive y-direction) from different points along the x-axis. A balloon with `xstart` and `xend` is **burst** by an arrow shot at `x` if `xstart <= x <= xend`. There is **no limit** to the number of arrows that can be shot. A shot arrow keeps traveling up infinitely, bursting any balloons in its path.\n",
    "\n",
    "Given the array `points`, return *the **minimum** number of arrows that must be shot to burst all balloons*.\n",
    "\n",
    "**Example 1:**\n",
    "\n",
    "```\n",
    "Input: points = [[10,16],[2,8],[1,6],[7,12]]\n",
    "Output: 2\n",
    "Explanation: The balloons can be burst by 2 arrows:\n",
    "- Shoot an arrow at x = 6, bursting the balloons [2,8] and [1,6].\n",
    "- Shoot an arrow at x = 11, bursting the balloons [10,16] and [7,12].\n",
    "\n",
    "```\n",
    "\n",
    "**Example 2:**\n",
    "\n",
    "```\n",
    "Input: points = [[1,2],[3,4],[5,6],[7,8]]\n",
    "Output: 4\n",
    "Explanation: One arrow needs to be shot for each balloon for a total of 4 arrows.\n",
    "\n",
    "```\n",
    "\n",
    "**Example 3:**\n",
    "\n",
    "```\n",
    "Input: points = [[1,2],[2,3],[3,4],[4,5]]\n",
    "Output: 2\n",
    "Explanation: The balloons can be burst by 2 arrows:\n",
    "- Shoot an arrow at x = 2, bursting the balloons [1,2] and [2,3].\n",
    "- Shoot an arrow at x = 4, bursting the balloons [3,4] and [4,5].\n",
    "\n",
    "```\n",
    "\n",
    "**Constraints:**\n",
    "\n",
    "- `1 <= points.length <= 10^5`\n",
    "- `points[i].length == 2`\n",
    "- `231 <= xstart < xend <= 2^31 - 1`\n",
    "</aside>"
   ]
  },
  {
   "cell_type": "code",
   "execution_count": 43,
   "id": "920aecf4",
   "metadata": {},
   "outputs": [
    {
     "data": {
      "text/plain": [
       "2"
      ]
     },
     "execution_count": 43,
     "metadata": {},
     "output_type": "execute_result"
    }
   ],
   "source": [
    "def findMinArrows(points):\n",
    "    points.sort(key = lambda x: x[1])  #sort balloonsbased on end points\n",
    "    arrows= 0                          #represents the minimum number of arrows needed.\n",
    "    end= float('-inf')                 #represents the current end point of the previous arrow shot.\n",
    "    \n",
    "    for balloon in points:\n",
    "        if balloon[0]>end:\n",
    "            arrows+=1\n",
    "            end = balloon[1]\n",
    "        else:\n",
    "            end= min(end, balloon[1])\n",
    "    return arrows\n",
    "\n",
    "points = [[10,16],[2,8],[1,6],[7,12]]\n",
    "findMinArrows(points)"
   ]
  },
  {
   "cell_type": "markdown",
   "id": "0af531a9",
   "metadata": {},
   "source": [
    "TC =O(n logn)\n",
    "\n",
    "SC =O(1)"
   ]
  },
  {
   "cell_type": "markdown",
   "id": "dd05699f",
   "metadata": {},
   "source": [
    "<aside>\n",
    "💡 7. **Longest Increasing Subsequence**\n",
    "\n",
    "Given an integer array `nums`, return *the length of the longest **strictly increasing***\n",
    "\n",
    "***subsequence***\n",
    "\n",
    ".\n",
    "\n",
    "**Example 1:**\n",
    "\n",
    "```\n",
    "Input: nums = [10,9,2,5,3,7,101,18]\n",
    "Output: 4\n",
    "Explanation: The longest increasing subsequence is [2,3,7,101], therefore the length is 4.\n",
    "\n",
    "```\n",
    "\n",
    "**Example 2:**\n",
    "\n",
    "```\n",
    "Input: nums = [0,1,0,3,2,3]\n",
    "Output: 4\n",
    "\n",
    "```\n",
    "\n",
    "**Example 3:**\n",
    "\n",
    "```\n",
    "Input: nums = [7,7,7,7,7,7,7]\n",
    "Output: 1\n",
    "\n",
    "```\n",
    "\n",
    "**Constraints:**\n",
    "\n",
    "- `1 <= nums.length <= 2500`\n",
    "- `-10^4 <= nums[i] <= 10^4`\n",
    "</aside>"
   ]
  },
  {
   "cell_type": "code",
   "execution_count": 3,
   "id": "467781b1",
   "metadata": {},
   "outputs": [
    {
     "name": "stdout",
     "output_type": "stream",
     "text": [
      "4\n",
      "4\n",
      "1\n"
     ]
    }
   ],
   "source": [
    "def lenofLIS(nums):\n",
    "    if not nums:\n",
    "        return 0\n",
    "    \n",
    "    n = len(nums)\n",
    "    dp=[1]*n\n",
    "    \n",
    "    for i in range(1, n):       ##traversing from 1 to n-1\n",
    "        for j in range(i):      ##traversing from 0 to i-1\n",
    "            if nums[i]>nums[j]:\n",
    "                dp[i]= max(dp[i], dp[j]+1)\n",
    "                \n",
    "    return max(dp)\n",
    "\n",
    "\n",
    "# Test cases\n",
    "nums1 = [10, 9, 2, 5, 3, 7, 101, 18]\n",
    "print(lenofLIS(nums1))  # Output: 4\n",
    "\n",
    "nums2 = [0, 1, 0, 3, 2, 3]\n",
    "print(lenofLIS(nums2))  # Output: 4\n",
    "\n",
    "nums3 = [7, 7, 7, 7, 7, 7, 7]\n",
    "print(lenofLIS(nums3))  # Output: 1"
   ]
  },
  {
   "cell_type": "markdown",
   "id": "e5cc24c6",
   "metadata": {},
   "source": [
    "TC =O(n^2)\n",
    "\n",
    "SC =O(n)"
   ]
  },
  {
   "cell_type": "markdown",
   "id": "639bcfa6",
   "metadata": {},
   "source": [
    "<aside>\n",
    "💡 8. **132 Pattern**\n",
    "\n",
    "Given an array of `n` integers `nums`, a **132 pattern** is a subsequence of three integers `nums[i]`, `nums[j]` and `nums[k]` such that `i < j < k` and `nums[i] < nums[k] < nums[j]`.\n",
    "\n",
    "Return `true` *if there is a **132 pattern** in* `nums`*, otherwise, return* `false`*.*\n",
    "\n",
    "**Example 1:**\n",
    "\n",
    "```\n",
    "Input: nums = [1,2,3,4]\n",
    "Output: false\n",
    "Explanation: There is no 132 pattern in the sequence.\n",
    "\n",
    "```\n",
    "\n",
    "**Example 2:**\n",
    "\n",
    "```\n",
    "Input: nums = [3,1,4,2]\n",
    "Output: true\n",
    "Explanation: There is a 132 pattern in the sequence: [1, 4, 2].\n",
    "\n",
    "```\n",
    "\n",
    "**Example 3:**\n",
    "\n",
    "```\n",
    "Input: nums = [-1,3,2,0]\n",
    "Output: true\n",
    "Explanation: There are three 132 patterns in the sequence: [-1, 3, 2], [-1, 3, 0] and [-1, 2, 0].\n",
    "\n",
    "```\n",
    "\n",
    "**Constraints:**\n",
    "\n",
    "- `n == nums.length`\n",
    "- `1 <= n <= 2 * 10^5`\n",
    "- `-10^9 <= nums[i] <= 10^9`\n",
    "</aside>"
   ]
  },
  {
   "cell_type": "markdown",
   "id": "a1cc2318",
   "metadata": {},
   "source": [
    "We  need to find a specific pattern in it. This pattern consists of three numbers in the array that follow a certain rule. The rule is that the numbers should be in a specific order: the first number should be smaller than the second number, and the third number should be smaller than the second number.\n",
    " algorithm starts from the right side of the array and goes backwards. It uses a stack to keep track of the potential candidates for the middle number. The stack stores the numbers in descending order, meaning the largest number is at the top.\n",
    "As we iterate through the array, we compare each number with the current potential third number. If we find a number that is smaller than the potential third number, it means we have found a valid \"132 Pattern\" and we return true.\n",
    "If a number is larger than the potential third number, it becomes a new candidate for the third number and is pushed onto the stack. This is because we want to find a smaller number than the current second number.\n",
    "\n",
    "If we finish iterating through the array without finding a valid \"132 Pattern\", we return false."
   ]
  },
  {
   "cell_type": "code",
   "execution_count": 4,
   "id": "8eae8274",
   "metadata": {},
   "outputs": [
    {
     "data": {
      "text/plain": [
       "True"
      ]
     },
     "execution_count": 4,
     "metadata": {},
     "output_type": "execute_result"
    }
   ],
   "source": [
    "def find132pattern(nums):\n",
    "    stack = []\n",
    "    s3 = float('-inf')\n",
    "    \n",
    "    for i in range(len(nums)-1, -1, -1):\n",
    "        if nums[i] < s3:\n",
    "            return True\n",
    "        while stack and stack[-1] < nums[i]:\n",
    "            s3 = max(s3, stack.pop())\n",
    "        stack.append(nums[i])\n",
    "    \n",
    "    return False\n",
    "\n",
    "nums= [-1,3,2,0]\n",
    "find132pattern(nums)"
   ]
  },
  {
   "cell_type": "markdown",
   "id": "da173fed",
   "metadata": {},
   "source": [
    "TC =O(n)\n",
    "\n",
    "SC =O(n)"
   ]
  },
  {
   "cell_type": "code",
   "execution_count": null,
   "id": "5401df97",
   "metadata": {},
   "outputs": [],
   "source": []
  }
 ],
 "metadata": {
  "kernelspec": {
   "display_name": "Python 3 (ipykernel)",
   "language": "python",
   "name": "python3"
  },
  "language_info": {
   "codemirror_mode": {
    "name": "ipython",
    "version": 3
   },
   "file_extension": ".py",
   "mimetype": "text/x-python",
   "name": "python",
   "nbconvert_exporter": "python",
   "pygments_lexer": "ipython3",
   "version": "3.9.12"
  }
 },
 "nbformat": 4,
 "nbformat_minor": 5
}
