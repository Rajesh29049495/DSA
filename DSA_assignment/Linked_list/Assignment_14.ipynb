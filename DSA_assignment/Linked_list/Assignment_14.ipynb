{
 "cells": [
  {
   "cell_type": "markdown",
   "id": "b38d3494",
   "metadata": {},
   "source": [
    "<aside>\n",
    "💡 **Question 1**\n",
    "\n",
    "Given a linked list of **N** nodes such that it may contain a loop.\n",
    "\n",
    "A loop here means that the last node of the link list is connected to the node at position X(1-based index). If the link list does not have any loop, X=0.\n",
    "\n",
    "Remove the loop from the linked list, if it is present, i.e. unlink the last node which is forming the loop.\n",
    "\n",
    "**Example 1:**\n",
    "\n",
    "```\n",
    "Input:\n",
    "N = 3\n",
    "value[] = {1,3,4}\n",
    "X = 2\n",
    "Output:1\n",
    "Explanation:The link list looks like\n",
    "1 -> 3 -> 4\n",
    "     ^    |\n",
    "     |____|\n",
    "A loop is present. If you remove it\n",
    "successfully, the answer will be 1.\n",
    "\n",
    "```\n",
    "\n",
    "**Example 2:**\n",
    "\n",
    "```\n",
    "Input:\n",
    "N = 4\n",
    "value[] = {1,8,3,4}\n",
    "X = 0\n",
    "Output:1\n",
    "Explanation:The Linked list does not\n",
    "contains any loop.\n",
    "```\n",
    "\n",
    "**Example 3:**\n",
    "```\n",
    "Input:\n",
    "N = 4\n",
    "value[] = {1,2,3,4}\n",
    "X = 1\n",
    "Output:1\n",
    "Explanation:The link list looks like\n",
    "1 -> 2 -> 3 -> 4\n",
    "^              |\n",
    "|______________|\n",
    "A loop is present.\n",
    "If you remove it successfully,\n",
    "the answer will be 1.\n",
    "```\n",
    "\n",
    "</aside>"
   ]
  },
  {
   "cell_type": "code",
   "execution_count": 4,
   "id": "6722f5d7",
   "metadata": {},
   "outputs": [],
   "source": [
    "class ListNode:\n",
    "    def __init__(self, val =0, next = None):\n",
    "        self.val = val\n",
    "        self.next = next\n",
    "        \n",
    "def delete_cycle(head):\n",
    "    slow= head\n",
    "    fast = head\n",
    "    count =0\n",
    "    \n",
    "    while head and head.next:\n",
    "        slow = slow.next\n",
    "        fast = fast.next.next\n",
    "        if slow == fast:\n",
    "            break\n",
    "    \n",
    "    while slow!=head:\n",
    "        slow= slow.next\n",
    "        head=head.next\n",
    "    head.next = None\n",
    "    \n",
    "    return head"
   ]
  },
  {
   "cell_type": "markdown",
   "id": "43793b3f",
   "metadata": {},
   "source": [
    "TC =O(n)\n",
    "\n",
    "SC = O(1)"
   ]
  },
  {
   "cell_type": "markdown",
   "id": "02b89bc2",
   "metadata": {},
   "source": [
    "*********************************"
   ]
  },
  {
   "cell_type": "markdown",
   "id": "245d0124",
   "metadata": {},
   "source": [
    "<aside>\n",
    "💡 **Question 2**\n",
    "\n",
    "A number **N** is represented in Linked List such that each digit corresponds to a node in linked list. You need to add 1 to it.\n",
    "\n",
    "**Example 1:**\n",
    "\n",
    "```\n",
    "Input:\n",
    "LinkedList: 4->5->6\n",
    "Output:457\n",
    "\n",
    "```\n",
    "\n",
    "**Example 2:**\n",
    "```\n",
    "Input:\n",
    "LinkedList: 1->2->3\n",
    "Output:124\n",
    "```\n",
    "</aside>"
   ]
  },
  {
   "cell_type": "code",
   "execution_count": 8,
   "id": "7f56d4ac",
   "metadata": {},
   "outputs": [],
   "source": [
    "def addone(head):\n",
    "    if not head:\n",
    "        return None\n",
    "    \n",
    "    #Reverse the linked list\n",
    "    prev = None\n",
    "    curr = head\n",
    "    while curr:\n",
    "        temp = curr.next\n",
    "        curr.next = prev\n",
    "        prev = curr\n",
    "        curr= temp\n",
    "    head = prev\n",
    "    \n",
    "    #Add 1 to the linked list\n",
    "    carry=1\n",
    "    curr= head\n",
    "    while curr:\n",
    "        sum = curr.val+carry\n",
    "        curr.val = sum%10\n",
    "        carry= sum//10\n",
    "        if carry ==0:\n",
    "            break\n",
    "        curr= curr.next\n",
    "    #Reverse the linked list again\n",
    "    prev = None\n",
    "    curr = head\n",
    "    while curr:\n",
    "        temp = curr.next\n",
    "        curr.next = prev\n",
    "        prev = curr\n",
    "        curr= temp\n",
    "    head = prev\n",
    "    \n",
    "    return head"
   ]
  },
  {
   "cell_type": "code",
   "execution_count": 11,
   "id": "1e22d79e",
   "metadata": {},
   "outputs": [
    {
     "name": "stdout",
     "output_type": "stream",
     "text": [
      "4 -> 5 -> 6 -> None\n"
     ]
    }
   ],
   "source": [
    "# creating a linked list using the alreadyy created ListNode class\n",
    "head= ListNode(4)\n",
    "head.next= ListNode(5)\n",
    "head.next.next= ListNode(6)\n",
    "\n",
    "\n",
    "current = head\n",
    "while current:     ##till current.next is not None\n",
    "    print(current.val, end=\" -> \")\n",
    "    current = current.next\n",
    "print(\"None\")"
   ]
  },
  {
   "cell_type": "code",
   "execution_count": 12,
   "id": "eb000533",
   "metadata": {},
   "outputs": [],
   "source": [
    "new_head= addone(head)"
   ]
  },
  {
   "cell_type": "code",
   "execution_count": 13,
   "id": "770c85cf",
   "metadata": {},
   "outputs": [
    {
     "name": "stdout",
     "output_type": "stream",
     "text": [
      "4 -> 5 -> 7 -> None\n"
     ]
    }
   ],
   "source": [
    "current = new_head\n",
    "while current:     ##till current.next is not None\n",
    "    print(current.val, end=\" -> \")\n",
    "    current = current.next\n",
    "print(\"None\")"
   ]
  },
  {
   "cell_type": "markdown",
   "id": "a6cc1ae3",
   "metadata": {},
   "source": [
    "TC = O(n)\n",
    "\n",
    "SC = O(1)"
   ]
  },
  {
   "cell_type": "markdown",
   "id": "2953050d",
   "metadata": {},
   "source": [
    "********************************************"
   ]
  },
  {
   "cell_type": "markdown",
   "id": "a65dded9",
   "metadata": {},
   "source": [
    "<aside>\n",
    "💡 **Question 5**\n",
    "\n",
    "Given the `head` of a singly linked list, group all the nodes with odd indices together followed by the nodes with even indices, and return *the reordered list*.\n",
    "\n",
    "The **first** node is considered **odd**, and the **second** node is **even**, and so on.\n",
    "\n",
    "Note that the relative order inside both the even and odd groups should remain as it was in the input.\n",
    "\n",
    "You must solve the problem in `O(1)` extra space complexity and `O(n)` time complexity.\n",
    "\n",
    "**Example 1:**\n",
    "\n",
    "```\n",
    "Input: head = [1,2,3,4,5]\n",
    "Output: [1,3,5,2,4]\n",
    "\n",
    "```\n",
    "\n",
    "**Example 2:**\n",
    "```\n",
    "Input: head = [2,1,3,5,6,4,7]\n",
    "Output: [2,3,6,7,1,5,4]\n",
    "```\n",
    "\n",
    "</aside>\n"
   ]
  },
  {
   "cell_type": "code",
   "execution_count": 17,
   "id": "b18bf91f",
   "metadata": {},
   "outputs": [],
   "source": [
    "def rearrangelinkdlist(head):\n",
    "    #if linked list is empty or if has just one element\n",
    "    if not head or not head.next:\n",
    "        return head\n",
    "    \n",
    "    odd_head= head\n",
    "    even_head = head.next\n",
    "    odd = odd_head       #`odd` pointer to traverse odd indexed nodes\n",
    "    even = even_head     #`even` pointer to traverse even indexed nodes\n",
    "    \n",
    "    while even and even.next:\n",
    "        odd.next = even.next      # Connects the current odd-indexed node to the next even-indexed node.{in below example 1 to 3}\n",
    "        odd = odd.next            # now moving `odd` poiner from 1 to 3{as now 3 is next to 1 after previous line of code}\n",
    "        even.next= odd.next       # now even pointer which was at 2, it's next is odd's next{which 4 as now 4 is next to 3}\n",
    "        even = even.next          # no will move ven pointer from 2 to 4\n",
    "                                  # after this one iteration in second iteration 3 connected to 5 and odd pointer mov eto 5 from 3,,,then even's next is odd's next which is None, and then even pointer move to next of 4 ehich None then the loop will break,,,,and now odd pointer's next after loop completion is even_head, in this way we get all the odd indexed node at first then even indexed nodes\n",
    "    odd.next = even_head\n",
    "    \n",
    "    return odd_head\n"
   ]
  },
  {
   "cell_type": "code",
   "execution_count": 18,
   "id": "8b47b97c",
   "metadata": {},
   "outputs": [
    {
     "name": "stdout",
     "output_type": "stream",
     "text": [
      "1 -> 2 -> 3 -> 4 -> 5 -> None\n"
     ]
    }
   ],
   "source": [
    "# creating a linked list using the alreadyy created ListNode class\n",
    "head= ListNode(1)\n",
    "head.next= ListNode(2)\n",
    "head.next.next= ListNode(3)\n",
    "head.next.next.next= ListNode(4)\n",
    "head.next.next.next.next= ListNode(5)\n",
    "\n",
    "current = head\n",
    "while current:     ##till current.next is not None\n",
    "    print(current.val, end=\" -> \")\n",
    "    current = current.next\n",
    "print(\"None\")"
   ]
  },
  {
   "cell_type": "code",
   "execution_count": 20,
   "id": "2b7afb20",
   "metadata": {},
   "outputs": [],
   "source": [
    "new_head= rearrangelinkdlist(head)"
   ]
  },
  {
   "cell_type": "code",
   "execution_count": 21,
   "id": "8332a7a0",
   "metadata": {},
   "outputs": [
    {
     "name": "stdout",
     "output_type": "stream",
     "text": [
      "1 -> 3 -> 5 -> 2 -> 4 -> None\n"
     ]
    }
   ],
   "source": [
    "current = new_head\n",
    "while current:     ##till current.next is not None\n",
    "    print(current.val, end=\" -> \")\n",
    "    current = current.next\n",
    "print(\"None\")"
   ]
  },
  {
   "cell_type": "markdown",
   "id": "88a6b3e3",
   "metadata": {},
   "source": [
    "<aside>\n",
    "💡 **Question 6**\n",
    "\n",
    "Given a singly linked list of size **N**. The task is to **left-shift** the linked list by **k** nodes, where **k** is a given positive integer smaller than or equal to length of the linked list.\n",
    "\n",
    "**Example 1:**\n",
    "  ```\n",
    "    Input:\n",
    "N = 5\n",
    "value[] = {2, 4, 7, 8, 9}\n",
    "k = 3\n",
    "Output:8 9 2 4 7\n",
    "Explanation:Rotate 1:4 -> 7 -> 8 -> 9 -> 2\n",
    "Rotate 2: 7 -> 8 -> 9 -> 2 -> 4\n",
    "Rotate 3: 8 -> 9 -> 2 -> 4 -> 7\n",
    "\n",
    "    ```\n",
    "\n",
    "</aside>"
   ]
  },
  {
   "cell_type": "code",
   "execution_count": 23,
   "id": "c1a88dac",
   "metadata": {},
   "outputs": [],
   "source": [
    "class ListNode:\n",
    "    def __init__(self, val=0, next=None):\n",
    "        self.val = val\n",
    "        self.next = next\n",
    "\n",
    "def leftShiftLinkedList(head, k):\n",
    "    if not head or not head.next:\n",
    "        return head\n",
    "    \n",
    "    # Step 1: Find the length of the linked list\n",
    "    length = 0\n",
    "    current = head\n",
    "    while current:\n",
    "        length += 1\n",
    "        current = current.next\n",
    "    \n",
    "    # Step 2: Calculate the actual shift count\n",
    "    shiftCount = k % length\n",
    "    \n",
    "    # Step 3: Traverse to the kth node\n",
    "    current = head\n",
    "    previous = None\n",
    "    for _ in range(shiftCount):\n",
    "        previous = current\n",
    "        current = current.next\n",
    "    \n",
    "    # Step 4: Rearrange the linked list\n",
    "    if previous:\n",
    "        previous.next = None\n",
    "        newHead = current\n",
    "        while current.next:\n",
    "            current = current.next\n",
    "        current.next = head\n",
    "    else:\n",
    "        newHead = head\n",
    "    \n",
    "    return newHead\n"
   ]
  },
  {
   "cell_type": "markdown",
   "id": "cefc964e",
   "metadata": {},
   "source": [
    "*****************"
   ]
  },
  {
   "cell_type": "markdown",
   "id": "c0633f62",
   "metadata": {},
   "source": [
    "**Q-8**\n",
    "Given the `head` of a linked list, we repeatedly delete consecutive sequences of nodes that sum to `0` until there are no such sequences.\n",
    "\n",
    "After doing so, return the head of the final linked list.  You may return any such answer.\n",
    "\n",
    "(Note that in the examples below, all sequences are serializations of `ListNode` objects.)\n",
    "\n",
    "**Example 1:**"
   ]
  },
  {
   "cell_type": "code",
   "execution_count": 22,
   "id": "a4199dc9",
   "metadata": {},
   "outputs": [],
   "source": [
    "class ListNode:\n",
    "    def __init__(self, val=0, next=None):\n",
    "        self.val = val\n",
    "        self.next = next\n",
    "\n",
    "def removeZeroSumSublists(head):\n",
    "    dummy = ListNode(0)\n",
    "    dummy.next = head\n",
    "    prefix_sum = 0\n",
    "    prefix_sums = {}\n",
    "    \n",
    "    # Calculate prefix sums\n",
    "    current = dummy\n",
    "    while current:\n",
    "        prefix_sum += current.val\n",
    "        prefix_sums[prefix_sum] = current\n",
    "        current = current.next\n",
    "    \n",
    "    # Traverse the list again and remove zero-sum sequences\n",
    "    current = dummy\n",
    "    prefix_sum = 0\n",
    "    while current:\n",
    "        prefix_sum += current.val\n",
    "        current.next = prefix_sums[prefix_sum].next\n",
    "        current = current.next\n",
    "    \n",
    "    return dummy.next"
   ]
  },
  {
   "cell_type": "code",
   "execution_count": null,
   "id": "a247f783",
   "metadata": {},
   "outputs": [],
   "source": []
  }
 ],
 "metadata": {
  "kernelspec": {
   "display_name": "Python 3 (ipykernel)",
   "language": "python",
   "name": "python3"
  },
  "language_info": {
   "codemirror_mode": {
    "name": "ipython",
    "version": 3
   },
   "file_extension": ".py",
   "mimetype": "text/x-python",
   "name": "python",
   "nbconvert_exporter": "python",
   "pygments_lexer": "ipython3",
   "version": "3.9.12"
  }
 },
 "nbformat": 4,
 "nbformat_minor": 5
}
