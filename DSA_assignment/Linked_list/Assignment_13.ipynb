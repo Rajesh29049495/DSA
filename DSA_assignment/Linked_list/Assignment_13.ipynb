{
 "cells": [
  {
   "cell_type": "markdown",
   "id": "1db590af",
   "metadata": {},
   "source": [
    "<aside>\n",
    "💡 **Question 1**\n",
    "\n",
    "Given two linked list of the same size, the task is to create a new linked list using those linked lists. The condition is that the greater node among both linked list will be added to the new linked list.\n",
    "\n",
    "**Examples:**\n",
    "\n",
    "</aside>"
   ]
  },
  {
   "cell_type": "code",
   "execution_count": 1,
   "id": "f1600e5c",
   "metadata": {},
   "outputs": [],
   "source": [
    "class ListNode:\n",
    "    def __init__(self, val =0, next = None):\n",
    "        self.val = val\n",
    "        self.next = next\n",
    "        \n",
    "\n",
    "def comparison(head1, head2):\n",
    "    if head1 is None:\n",
    "        return head2\n",
    "    elif head2 is None:\n",
    "        return head1\n",
    "\n",
    "    if head1.val > head2.val:\n",
    "        head1.next = comparison(head1.next, head2.next)\n",
    "        return head1\n",
    "    else:\n",
    "        head2.next = comparison(head1.next, head2.next)\n",
    "        return head2\n",
    "    \n",
    "    "
   ]
  },
  {
   "cell_type": "code",
   "execution_count": 12,
   "id": "12ca57fb",
   "metadata": {},
   "outputs": [],
   "source": [
    "# creating a linked list using the alreadyy created ListNode class\n",
    "head1= ListNode(2)\n",
    "head1.next= ListNode(8)\n",
    "head1.next.next= ListNode(9)\n",
    "head1.next.next.next = ListNode(3)\n",
    "\n",
    "# another linked list\n",
    "head2= ListNode(5)\n",
    "head2.next= ListNode(3)\n",
    "head2.next.next= ListNode(6)\n",
    "head2.next.next.next = ListNode(4)"
   ]
  },
  {
   "cell_type": "code",
   "execution_count": 13,
   "id": "e440820f",
   "metadata": {},
   "outputs": [],
   "source": [
    "head = comparison(head1, head2)"
   ]
  },
  {
   "cell_type": "code",
   "execution_count": 14,
   "id": "d995c1be",
   "metadata": {},
   "outputs": [
    {
     "name": "stdout",
     "output_type": "stream",
     "text": [
      "5 -> 8 -> 9 -> 4 -> None\n"
     ]
    }
   ],
   "source": [
    "current = head\n",
    "while current:     ##till current.next is not None\n",
    "    print(current.val, end=\" -> \")\n",
    "    current = current.next\n",
    "print(\"None\")"
   ]
  },
  {
   "cell_type": "markdown",
   "id": "9bdefb9e",
   "metadata": {},
   "source": [
    "TC =O(n)\n",
    "\n",
    "SC=O(1)"
   ]
  },
  {
   "cell_type": "markdown",
   "id": "79ebc09d",
   "metadata": {},
   "source": [
    "**************************"
   ]
  },
  {
   "cell_type": "markdown",
   "id": "0e33f7bf",
   "metadata": {},
   "source": [
    "<aside>\n",
    "💡 **Question 2**\n",
    "\n",
    "Write a function that takes a list sorted in non-decreasing order and deletes any duplicate nodes from the list. The list should only be traversed once.\n",
    "\n",
    "For example if the linked list is 11->11->11->21->43->43->60 then removeDuplicates() should convert the list to 11->21->43->60.\n",
    "\n",
    "**Example 1:**\n",
    "\n",
    "```\n",
    "Input:\n",
    "LinkedList: \n",
    "11->11->11->21->43->43->60\n",
    "Output:\n",
    "11->21->43->60\n",
    "```\n",
    "\n",
    "**Example 2:**\n",
    "    \n",
    "```\n",
    "Input:\n",
    "LinkedList: \n",
    "10->12->12->25->25->25->34\n",
    "Output:\n",
    "10->12->25->34\n",
    "```\n",
    "</aside>"
   ]
  },
  {
   "cell_type": "code",
   "execution_count": 22,
   "id": "5aace9b5",
   "metadata": {},
   "outputs": [],
   "source": [
    "def remove_duplicates(head):\n",
    "    \n",
    "    if not head:\n",
    "        return None\n",
    "    \n",
    "    current = head\n",
    "    \n",
    "    while current.next:\n",
    "        if current.val==current.next.val:\n",
    "            current.next = current.next.next\n",
    "        else:\n",
    "            current = current.next\n",
    "    \n",
    "    return head\n",
    "            "
   ]
  },
  {
   "cell_type": "code",
   "execution_count": 23,
   "id": "d58d26a3",
   "metadata": {},
   "outputs": [],
   "source": [
    "# creating a linked list using the alreadyy created ListNode class\n",
    "head1= ListNode(11)\n",
    "head1.next= ListNode(11)\n",
    "head1.next.next= ListNode(11)\n",
    "head1.next.next.next = ListNode(21)\n",
    "head1.next.next.next.next = ListNode(43)\n",
    "head1.next.next.next.next.next = ListNode(43)\n",
    "head1.next.next.next.next.next.next = ListNode(60)\n"
   ]
  },
  {
   "cell_type": "code",
   "execution_count": 24,
   "id": "08e09e5a",
   "metadata": {},
   "outputs": [],
   "source": [
    "new_head= remove_duplicates(head1)"
   ]
  },
  {
   "cell_type": "code",
   "execution_count": 25,
   "id": "a8b9449c",
   "metadata": {},
   "outputs": [
    {
     "name": "stdout",
     "output_type": "stream",
     "text": [
      "11 -> 21 -> 43 -> 60 -> None\n"
     ]
    }
   ],
   "source": [
    "current = new_head\n",
    "while current:     ##till current.next is not None\n",
    "    print(current.val, end=\" -> \")\n",
    "    current = current.next\n",
    "print(\"None\")"
   ]
  },
  {
   "cell_type": "markdown",
   "id": "12d18c08",
   "metadata": {},
   "source": [
    "TC =O(n)\n",
    "\n",
    "SC=O(1)"
   ]
  },
  {
   "cell_type": "markdown",
   "id": "45f274a1",
   "metadata": {},
   "source": [
    "********************"
   ]
  },
  {
   "cell_type": "markdown",
   "id": "57dba610",
   "metadata": {},
   "source": [
    "<aside>\n",
    "💡 **Question 3**\n",
    "\n",
    "Given a linked list of size **N**. The task is to reverse every **k** nodes (where k is an input to the function) in the linked list. If the number of nodes is not a multiple of *k* then left-out nodes, in the end, should be considered as a group and must be reversed (See Example 2 for clarification).\n",
    "\n",
    "**Example 1:**\n",
    "```\n",
    "Input:\n",
    "LinkedList: 1->2->2->4->5->6->7->8\n",
    "K = 4\n",
    "Output:4 2 2 1 8 7 6 5\n",
    "Explanation:\n",
    "The first 4 elements 1,2,2,4 are reversed first\n",
    "and then the next 4 elements 5,6,7,8. Hence, the\n",
    "resultant linked list is 4->2->2->1->8->7->6->5.\n",
    "    \n",
    "```\n",
    "Example 2:\n",
    "    \n",
    "```\n",
    "  Input:\n",
    "LinkedList: 1->2->3->4->5\n",
    "K = 3\n",
    "Output:3 2 1 5 4\n",
    "Explanation:\n",
    "The first 3 elements are 1,2,3 are reversed\n",
    "first and then elements 4,5 are reversed.Hence,\n",
    "the resultant linked list is 3->2->1->5->4.  \n",
    "    ```\n",
    "</aside>\n"
   ]
  },
  {
   "cell_type": "code",
   "execution_count": 14,
   "id": "59f43762",
   "metadata": {},
   "outputs": [],
   "source": [
    "def solution(head, k):\n",
    "    prev = None\n",
    "    curr = head\n",
    "    counter = 0\n",
    "\n",
    "    while curr and counter < k:\n",
    "        temp = curr.next\n",
    "        curr.next = prev\n",
    "        prev = curr\n",
    "        curr = temp\n",
    "        counter += 1\n",
    "\n",
    "    if curr:\n",
    "        head.next = solution(curr, k)\n",
    "\n",
    "    return prev\n"
   ]
  },
  {
   "cell_type": "code",
   "execution_count": 18,
   "id": "6acec353",
   "metadata": {},
   "outputs": [],
   "source": [
    "# creating a linked list using the alreadyy created ListNode class\n",
    "head1= ListNode(1)\n",
    "head1.next= ListNode(2)\n",
    "head1.next.next= ListNode(2)\n",
    "head1.next.next.next = ListNode(4)\n",
    "head1.next.next.next.next = ListNode(5)\n",
    "head1.next.next.next.next.next = ListNode(6)\n",
    "head1.next.next.next.next.next.next = ListNode(7)\n",
    "head1.next.next.next.next.next.next.next = ListNode(8)\n",
    "        "
   ]
  },
  {
   "cell_type": "code",
   "execution_count": 19,
   "id": "d99a928c",
   "metadata": {},
   "outputs": [],
   "source": [
    "new_head = solution(head1, 3)"
   ]
  },
  {
   "cell_type": "code",
   "execution_count": 20,
   "id": "7532fbfc",
   "metadata": {},
   "outputs": [
    {
     "name": "stdout",
     "output_type": "stream",
     "text": [
      "2 -> 2 -> 1 -> 6 -> 5 -> 4 -> 8 -> 7 -> None\n"
     ]
    }
   ],
   "source": [
    "current = new_head\n",
    "while current:     ##till current.next is not None\n",
    "    print(current.val, end=\" -> \")\n",
    "    current = current.next\n",
    "print(\"None\")"
   ]
  },
  {
   "cell_type": "markdown",
   "id": "2b0a2145",
   "metadata": {},
   "source": [
    "TC =O(n)\n",
    "\n",
    "SC =O(1)"
   ]
  },
  {
   "cell_type": "markdown",
   "id": "f7db3bec",
   "metadata": {},
   "source": [
    "******************************************"
   ]
  },
  {
   "cell_type": "markdown",
   "id": "9576549d",
   "metadata": {},
   "source": [
    "<aside>\n",
    "💡 **Question 4**\n",
    "\n",
    "Given a linked list, write a function to reverse every alternate k nodes (where k is an input to the function) in an efficient way. Give the complexity of your algorithm.\n",
    "\n",
    "**Example:**\n",
    "\n",
    "</aside>"
   ]
  },
  {
   "cell_type": "code",
   "execution_count": 28,
   "id": "ed6fe6f9",
   "metadata": {},
   "outputs": [],
   "source": [
    "def solution(head, k):\n",
    "    prev = None\n",
    "    curr = head\n",
    "    counter = 0\n",
    "\n",
    "    while curr and counter < k:\n",
    "        temp = curr.next\n",
    "        curr.next = prev\n",
    "        prev = curr\n",
    "        curr = temp\n",
    "        counter += 1\n",
    "\n",
    "    if curr:\n",
    "        head.next = curr\n",
    "\n",
    "    counter = 0\n",
    "    while curr and counter < (k - 1):\n",
    "        curr = curr.next\n",
    "        counter += 1\n",
    "\n",
    "    if curr:\n",
    "        curr.next = solution(curr.next, k)\n",
    "\n",
    "    return prev"
   ]
  },
  {
   "cell_type": "code",
   "execution_count": 29,
   "id": "1794bef8",
   "metadata": {},
   "outputs": [],
   "source": [
    "# creating a linked list using the alreadyy created ListNode class\n",
    "head1= ListNode(1)\n",
    "head1.next= ListNode(2)\n",
    "head1.next.next= ListNode(3)\n",
    "head1.next.next.next = ListNode(4)\n",
    "head1.next.next.next.next = ListNode(5)\n",
    "head1.next.next.next.next.next = ListNode(6)\n",
    "head1.next.next.next.next.next.next = ListNode(7)\n",
    "head1.next.next.next.next.next.next.next = ListNode(8)\n",
    "head1.next.next.next.next.next.next.next.next = ListNode(9)"
   ]
  },
  {
   "cell_type": "code",
   "execution_count": 30,
   "id": "8f1d8c8c",
   "metadata": {},
   "outputs": [],
   "source": [
    "new_head = solution(head1, 3)"
   ]
  },
  {
   "cell_type": "code",
   "execution_count": 31,
   "id": "79d94d2a",
   "metadata": {},
   "outputs": [
    {
     "name": "stdout",
     "output_type": "stream",
     "text": [
      "3 -> 2 -> 1 -> 4 -> 5 -> 6 -> 9 -> 8 -> 7 -> None\n"
     ]
    }
   ],
   "source": [
    "current = new_head\n",
    "while current:     ##till current.next is not None\n",
    "    print(current.val, end=\" -> \")\n",
    "    current = current.next\n",
    "print(\"None\")"
   ]
  },
  {
   "cell_type": "markdown",
   "id": "fc8debc8",
   "metadata": {},
   "source": [
    "TC =O(n)\n",
    "\n",
    "SC=O(1)"
   ]
  },
  {
   "cell_type": "markdown",
   "id": "dee8a5b0",
   "metadata": {},
   "source": [
    "**************************"
   ]
  },
  {
   "cell_type": "markdown",
   "id": "0235b4db",
   "metadata": {},
   "source": [
    "<aside>\n",
    "💡 **Question 5**\n",
    "\n",
    "Given a linked list and a key to be deleted. Delete last occurrence of key from linked. The list may have duplicates.\n",
    "\n",
    "**Examples**:\n",
    "```\n",
    "    Input:   1->2->3->5->2->10, key = 2\n",
    "Output:  1->2->3->5->10\n",
    "    \n",
    "    ```\n",
    "</aside>"
   ]
  },
  {
   "cell_type": "code",
   "execution_count": 60,
   "id": "dfedaa6b",
   "metadata": {},
   "outputs": [],
   "source": [
    "class ListNode:\n",
    "    def __init__(self, val=0, next=None):\n",
    "        self.val = val\n",
    "        self.next = next\n",
    "\n",
    "def reverseLinkedList(head):\n",
    "    prev = None\n",
    "    curr = head\n",
    "\n",
    "    while curr:\n",
    "        next_node = curr.next\n",
    "        curr.next = prev\n",
    "        prev = curr\n",
    "        curr = next_node\n",
    "\n",
    "    return prev\n",
    "\n",
    "def deleteLastOccurrence(head, key):\n",
    "    if not head:\n",
    "        return head\n",
    "\n",
    "    dummy = ListNode(None, head)\n",
    "    curr = dummy\n",
    "    last_occurrence = None\n",
    "\n",
    "    while curr.next:\n",
    "        if curr.next.val == key and last_occurrence==None:    ##last_occurence value i sto keep a track of the number\n",
    "            last_occurrence = curr\n",
    "        curr = curr.next\n",
    "\n",
    "    if last_occurrence:\n",
    "        last_occurrence.next = last_occurrence.next.next\n",
    "\n",
    "    return dummy.next\n",
    "\n",
    "def restoreLinkedList(head):\n",
    "    return reverseLinkedList(head)\n",
    "\n",
    "def deleteLastOccurrenceOfKey(head, key):\n",
    "    reversed_head = reverseLinkedList(head)\n",
    "    updated_head = deleteLastOccurrence(reversed_head, key)\n",
    "    restored_head = restoreLinkedList(updated_head)\n",
    "\n",
    "    return restored_head\n"
   ]
  },
  {
   "cell_type": "code",
   "execution_count": 61,
   "id": "03d911a2",
   "metadata": {},
   "outputs": [],
   "source": [
    "# creating a linked list using the alreadyy created ListNode class\n",
    "head1= ListNode(1)\n",
    "head1.next= ListNode(2)\n",
    "head1.next.next= ListNode(3)\n",
    "head1.next.next.next = ListNode(5)\n",
    "head1.next.next.next.next = ListNode(2)\n",
    "head1.next.next.next.next.next = ListNode(10)"
   ]
  },
  {
   "cell_type": "code",
   "execution_count": 62,
   "id": "591c4a72",
   "metadata": {},
   "outputs": [],
   "source": [
    "new_head = deleteLastOccurrenceOfKey(head1, 2)"
   ]
  },
  {
   "cell_type": "code",
   "execution_count": 63,
   "id": "6423c0cc",
   "metadata": {},
   "outputs": [
    {
     "name": "stdout",
     "output_type": "stream",
     "text": [
      "1 -> 2 -> 3 -> 5 -> 10 -> None\n"
     ]
    }
   ],
   "source": [
    "current = new_head\n",
    "while current:     ##till current.next is not None\n",
    "    print(current.val, end=\" -> \")\n",
    "    current = current.next\n",
    "print(\"None\")"
   ]
  },
  {
   "cell_type": "markdown",
   "id": "09728d23",
   "metadata": {},
   "source": [
    "TC = O(n), where n is the number of nodes in the linked list. This is because we traverse the linked list once in the reverseLinkedList, deleteLastOccurrence, and restoreLinkedList functions\n",
    "\n",
    "SC = O(1), as we are not using any additional data structures that scale with the size of the input. We are only using a constant amount of extra space for variables and temporary pointers."
   ]
  },
  {
   "cell_type": "markdown",
   "id": "3d340c1a",
   "metadata": {},
   "source": [
    "*************************************"
   ]
  },
  {
   "cell_type": "markdown",
   "id": "aa2d2fbb",
   "metadata": {},
   "source": [
    "<aside>\n",
    "💡 **Question 6**\n",
    "\n",
    "Given two sorted linked lists consisting of **N** and **M** nodes respectively. The task is to merge both of the lists (in place) and return the head of the merged list.\n",
    "\n",
    "**Examples:**\n",
    "\n",
    "Input: a: 5->10->15, b: 2->3->20\n",
    "\n",
    "Output: 2->3->5->10->15->20\n",
    "\n",
    "Input: a: 1->1, b: 2->4\n",
    "\n",
    "Output: 1->1->2->4\n",
    "\n",
    "</aside>"
   ]
  },
  {
   "cell_type": "code",
   "execution_count": 43,
   "id": "5f84fc5a",
   "metadata": {},
   "outputs": [],
   "source": [
    "def merge_lists(head1, head2):\n",
    "    if head1 is None:\n",
    "        return head2\n",
    "    elif head2 is None:\n",
    "        return head1\n",
    "\n",
    "    if head1.val <= head2.val:\n",
    "        head1.next = merge_lists(head1.next, head2)\n",
    "        return head1\n",
    "    else:\n",
    "        head2.next = merge_lists(head1, head2.next)\n",
    "        return head2"
   ]
  },
  {
   "cell_type": "code",
   "execution_count": 44,
   "id": "6d7af6cb",
   "metadata": {},
   "outputs": [],
   "source": [
    "# creating a linked list using the alreadyy created ListNode class\n",
    "head1= ListNode(5)\n",
    "head1.next= ListNode(10)\n",
    "head1.next.next= ListNode(15)\n",
    "\n",
    "# another linked list\n",
    "head2= ListNode(2)\n",
    "head2.next= ListNode(3)\n",
    "head2.next.next= ListNode(20)"
   ]
  },
  {
   "cell_type": "code",
   "execution_count": 45,
   "id": "590ed11c",
   "metadata": {},
   "outputs": [],
   "source": [
    "new_head = merge_lists(head1, head2)"
   ]
  },
  {
   "cell_type": "code",
   "execution_count": 46,
   "id": "a52d5c94",
   "metadata": {},
   "outputs": [
    {
     "name": "stdout",
     "output_type": "stream",
     "text": [
      "2 -> 3 -> 5 -> 10 -> 15 -> 20 -> None\n"
     ]
    }
   ],
   "source": [
    "current = new_head\n",
    "while current:     ##till current.next is not None\n",
    "    print(current.val, end=\" -> \")\n",
    "    current = current.next\n",
    "print(\"None\")"
   ]
  },
  {
   "cell_type": "markdown",
   "id": "909dfd49",
   "metadata": {},
   "source": [
    "TC = O(n)\n",
    "\n",
    "SC = O(1)"
   ]
  },
  {
   "cell_type": "markdown",
   "id": "cbb89bc9",
   "metadata": {},
   "source": [
    "***************************************"
   ]
  },
  {
   "cell_type": "markdown",
   "id": "65be0e69",
   "metadata": {},
   "source": [
    "<aside>\n",
    "💡 **Question 7**\n",
    "\n",
    "Given a **Doubly Linked List**, the task is to reverse the given Doubly Linked List.\n",
    "\n",
    "**Example:**\n",
    "\n",
    "</aside>"
   ]
  },
  {
   "cell_type": "code",
   "execution_count": 50,
   "id": "8f708973",
   "metadata": {},
   "outputs": [],
   "source": [
    "class DoublyListNode:\n",
    "    def __init__(self, val=0, prev=None, next=None):\n",
    "        self.val = val\n",
    "        self.prev = prev\n",
    "        self.next = next\n",
    "\n",
    "def reverse_doubly_linked_list(head):\n",
    "    curr = head\n",
    "    prev = None\n",
    "    \n",
    "    while curr:\n",
    "        # Swap the prev and next pointers\n",
    "        temp = curr.next\n",
    "        curr.next = prev\n",
    "        curr.prev = temp\n",
    "        \n",
    "        # Move to the next node\n",
    "        prev = curr\n",
    "        curr = temp\n",
    "    \n",
    "    # Update the head\n",
    "    head = prev\n",
    "    \n",
    "    return head"
   ]
  },
  {
   "cell_type": "code",
   "execution_count": 51,
   "id": "a681118d",
   "metadata": {},
   "outputs": [],
   "source": [
    "# forming a doubly linked list \n",
    "# Create the nodes\n",
    "node1 = DoublyListNode(10)\n",
    "node2 = DoublyListNode(8)\n",
    "node3 = DoublyListNode(4)\n",
    "node4 = DoublyListNode(2)\n",
    "\n",
    "# Connect the nodes\n",
    "node1.next = node2\n",
    "node2.prev = node1\n",
    "node2.next = node3\n",
    "node3.prev = node2\n",
    "node3.next = node4\n",
    "node4.prev = node3"
   ]
  },
  {
   "cell_type": "code",
   "execution_count": 52,
   "id": "fcf57975",
   "metadata": {},
   "outputs": [],
   "source": [
    "new_head= reverse_doubly_linked_list(node1)"
   ]
  },
  {
   "cell_type": "code",
   "execution_count": 58,
   "id": "1f276a3e",
   "metadata": {},
   "outputs": [
    {
     "name": "stdout",
     "output_type": "stream",
     "text": [
      "2 <-> 4 <-> 8 <-> 10 <-> "
     ]
    }
   ],
   "source": [
    "current = new_head\n",
    "while current:\n",
    "    print(current.val, end=\" <-> \")\n",
    "    current = current.next"
   ]
  },
  {
   "cell_type": "markdown",
   "id": "323c124e",
   "metadata": {},
   "source": [
    "TC =O(n)\n",
    "\n",
    "SC =O(1)"
   ]
  },
  {
   "cell_type": "markdown",
   "id": "d46bb71e",
   "metadata": {},
   "source": [
    "*******************************"
   ]
  },
  {
   "cell_type": "markdown",
   "id": "d7ee7b63",
   "metadata": {},
   "source": [
    "<aside>\n",
    "💡 **Question 8**\n",
    "\n",
    "Given a doubly linked list and a position. The task is to delete a node from given position in a doubly linked list.\n",
    "\n",
    "**Example 1:**\n",
    "\n",
    "```\n",
    "Input:\n",
    "LinkedList = 1 <--> 3 <--> 4\n",
    "x = 3\n",
    "Output:1 3\n",
    "Explanation:After deleting the node at\n",
    "position 3 (position starts from 1),\n",
    "the linked list will be now as 1->3.\n",
    "\n",
    "```\n",
    "\n",
    "**Example 2:**\n",
    "\n",
    "```\n",
    "Input:\n",
    "LinkedList = 1 <--> 5 <--> 2 <--> 9\n",
    "x = 1\n",
    "Output:5 2 9\n",
    "    ```\n",
    "</aside>"
   ]
  },
  {
   "cell_type": "code",
   "execution_count": 62,
   "id": "62ed7355",
   "metadata": {},
   "outputs": [],
   "source": [
    "def delete_node(head, position):\n",
    "    if position == 0:\n",
    "        if head is None:\n",
    "            return None\n",
    "        new_head = head.next\n",
    "        if new_head:\n",
    "            new_head.prev = None\n",
    "        return new_head\n",
    "\n",
    "    current = head\n",
    "    prev_node = None\n",
    "    count = 0\n",
    "\n",
    "    #start iterating through the doubly linked list until we reach the desired position.\n",
    "    while current and count < position:\n",
    "        prev_node = current\n",
    "        current = current.next\n",
    "        count += 1\n",
    "\n",
    "    #if at the position there is none then just return the head, as nothing can be done afterwards\n",
    "    if current is None:\n",
    "        return head\n",
    "\n",
    "    # if the node to be deleted ie., at the position , if it is not the end node,,{it means its next exist then we will point its previous to teh node previous to teh currentt node and we will point next of the previous node to the cuurent node's next}\n",
    "    if current.next:\n",
    "        current.next.prev = prev_node\n",
    "    prev_node.next = current.next\n",
    "\n",
    "    # disconnect the current node from the doubly linked list by setting its prev and next pointers to None.\n",
    "    current.prev = None\n",
    "    current.next = None\n",
    "\n",
    "    return head"
   ]
  },
  {
   "cell_type": "code",
   "execution_count": 63,
   "id": "3a152547",
   "metadata": {},
   "outputs": [],
   "source": [
    "# forming a doubly linked list \n",
    "# Create the nodes\n",
    "node1 = DoublyListNode(10)\n",
    "node2 = DoublyListNode(8)\n",
    "node3 = DoublyListNode(4)\n",
    "node4 = DoublyListNode(2)\n",
    "\n",
    "# Connect the nodes\n",
    "node1.next = node2\n",
    "node2.prev = node1\n",
    "node2.next = node3\n",
    "node3.prev = node2\n",
    "node3.next = node4\n",
    "node4.prev = node3"
   ]
  },
  {
   "cell_type": "code",
   "execution_count": 64,
   "id": "ad96f08d",
   "metadata": {},
   "outputs": [],
   "source": [
    "new_head = delete_node(node1, 3)"
   ]
  },
  {
   "cell_type": "code",
   "execution_count": 65,
   "id": "b9dafdec",
   "metadata": {},
   "outputs": [
    {
     "name": "stdout",
     "output_type": "stream",
     "text": [
      "10 <-> 8 <-> 4 <-> "
     ]
    }
   ],
   "source": [
    "current = new_head\n",
    "while current:\n",
    "    print(current.val, end=\" <-> \")\n",
    "    current = current.next"
   ]
  },
  {
   "cell_type": "markdown",
   "id": "5da2b69a",
   "metadata": {},
   "source": [
    "TC=O(n)\n",
    "\n",
    "SC = O(1)"
   ]
  },
  {
   "cell_type": "code",
   "execution_count": null,
   "id": "130c2e26",
   "metadata": {},
   "outputs": [],
   "source": []
  }
 ],
 "metadata": {
  "kernelspec": {
   "display_name": "Python 3 (ipykernel)",
   "language": "python",
   "name": "python3"
  },
  "language_info": {
   "codemirror_mode": {
    "name": "ipython",
    "version": 3
   },
   "file_extension": ".py",
   "mimetype": "text/x-python",
   "name": "python",
   "nbconvert_exporter": "python",
   "pygments_lexer": "ipython3",
   "version": "3.9.12"
  }
 },
 "nbformat": 4,
 "nbformat_minor": 5
}
