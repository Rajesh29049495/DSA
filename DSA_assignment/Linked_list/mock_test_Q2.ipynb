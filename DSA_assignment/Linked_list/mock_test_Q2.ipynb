{
 "cells": [
  {
   "cell_type": "markdown",
   "id": "73d7bc90",
   "metadata": {},
   "source": [
    "**Q** You are given two non-empty linked lists representing two non-negative integers. The digits are stored in reverse order, and each of their nodes contains a single digit. Add the two numbers and return the sum as a linked list.\n",
    "\n",
    "You may assume the two numbers do not contain any leading zero, except the number 0 itself.\n",
    "\n",
    "\n",
    "Example 1:\n",
    "\n",
    "Input: l1 = [2,4,3], l2 = [5,6,4] Output: [7,0,8] Explanation: 342 + 465 = 807.\n",
    "\n",
    "Example 2:\n",
    "\n",
    "Input: l1 = [0], l2 = [0] Output: [0]\n",
    "\n",
    "Example 3:\n",
    "\n",
    "Input: l1 = [9,9,9,9,9,9,9], l2 = [9,9,9,9] Output: [8,9,9,9,0,0,0,1]"
   ]
  },
  {
   "cell_type": "code",
   "execution_count": 6,
   "id": "2e5cebc1",
   "metadata": {},
   "outputs": [],
   "source": [
    "class ListNode:\n",
    "    def __init__(self, val = 0, next = None):\n",
    "        self.val = val\n",
    "        self.next = next\n",
    "            \n",
    "    \n",
    "def sum_node(head1, head2):\n",
    "    carry = 0\n",
    "    dummy = ListNode()\n",
    "    current = dummy\n",
    "    \n",
    "    while head1 or head2 or carry:\n",
    "        # Get the values of the current nodes, or 0 if node is None\n",
    "        val1 = head1.val if head1 else 0\n",
    "        val2 = head2.val if head2 else 0\n",
    "        \n",
    "        # Calculate the sum of the current digits and carry\n",
    "        total = val1 + val2 + carry\n",
    "        digit = total % 10  # digit to be stored in the new node\n",
    "        carry = total // 10  # carry to be added to the next step\n",
    "        \n",
    "        # Create a new node with the sum digit and update the current node\n",
    "        current.next = ListNode(digit)\n",
    "        current = current.next\n",
    "        \n",
    "        # Move to the next nodes in both lists\n",
    "        if head1:\n",
    "            head1 = head1.next\n",
    "        if head2:\n",
    "            head2 = head2.next\n",
    "        \n",
    "    return dummy.next\n"
   ]
  },
  {
   "cell_type": "code",
   "execution_count": 7,
   "id": "30569f89",
   "metadata": {},
   "outputs": [],
   "source": [
    "# creating a linked list using the alreadyy created ListNode class\n",
    "head1= ListNode(2)\n",
    "head1.next= ListNode(4)\n",
    "head1.next.next= ListNode(3)\n",
    "\n",
    "head2= ListNode(5)\n",
    "head2.next= ListNode(6)\n",
    "head2.next.next= ListNode(4)\n"
   ]
  },
  {
   "cell_type": "code",
   "execution_count": 8,
   "id": "02cbd2a3",
   "metadata": {},
   "outputs": [],
   "source": [
    "new_head = sum_node(head1, head2)"
   ]
  },
  {
   "cell_type": "code",
   "execution_count": 10,
   "id": "69fc4f94",
   "metadata": {},
   "outputs": [
    {
     "name": "stdout",
     "output_type": "stream",
     "text": [
      "7 -> 0 -> 8 -> None\n"
     ]
    }
   ],
   "source": [
    "current = new_head\n",
    "while current:     ##till current.next is not None\n",
    "    print(current.val, end=\" -> \")\n",
    "    current = current.next\n",
    "print(\"None\")"
   ]
  },
  {
   "cell_type": "code",
   "execution_count": null,
   "id": "5bebf39f",
   "metadata": {},
   "outputs": [],
   "source": []
  }
 ],
 "metadata": {
  "kernelspec": {
   "display_name": "Python 3 (ipykernel)",
   "language": "python",
   "name": "python3"
  },
  "language_info": {
   "codemirror_mode": {
    "name": "ipython",
    "version": 3
   },
   "file_extension": ".py",
   "mimetype": "text/x-python",
   "name": "python",
   "nbconvert_exporter": "python",
   "pygments_lexer": "ipython3",
   "version": "3.9.12"
  }
 },
 "nbformat": 4,
 "nbformat_minor": 5
}
