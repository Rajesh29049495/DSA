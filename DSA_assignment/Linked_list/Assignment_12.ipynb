{
 "cells": [
  {
   "cell_type": "markdown",
   "id": "378a3387",
   "metadata": {},
   "source": [
    "<aside>\n",
    "💡 **Question 1**\n",
    "\n",
    "Given a singly linked list, delete **middle** of the linked list. For example, if given linked list is 1->2->**3**->4->5 then linked list should be modified to 1->2->4->5.If there are **even** nodes, then there would be **two middle** nodes, we need to delete the second middle element. For example, if given linked list is 1->2->3->4->5->6 then it should be modified to 1->2->3->5->6.If the input linked list is NULL or has 1 node, then it should return NULL\n",
    "\n",
    "**Example 1:**\n",
    "\n",
    "```\n",
    "Input:\n",
    "LinkedList: 1->2->3->4->5\n",
    "Output:1 2 4 5\n",
    "\n",
    "```\n",
    "\n",
    "**Example 2:**\n",
    "\n",
    "</aside>"
   ]
  },
  {
   "cell_type": "markdown",
   "id": "8f6ba022",
   "metadata": {},
   "source": [
    "NOTE: the line `dummy = ListNode(-1)` creates a dummy node as the head of the linked list. This dummy node serves as a placeholder or a \"dummy\" for the actual head node of the linked list.\n",
    "\n",
    "The purpose of using a dummy node is to handle the case when the first node of the linked list needs to be deleted. By using a dummy node, you can simplify the deletion process without having to handle a special case for the first node separately.\n",
    "\n",
    "The value of -1 is commonly used in programming as a placeholder or sentinel value when an actual value is not important or when there is no meaningful default value available. In this case, since the dummy node is just a placeholder and its value is not used in any meaningful way, the specific value of -1 is chosen for simplicity.\n",
    "\n",
    "The main purpose of the dummy node is to serve as a reference point for the head of the linked list and facilitate the deletion process\n",
    "\n",
    "By using a dummy node, you can handle all the deletion cases uniformly, whether it is the first node, middle node, or any other node in the linked list."
   ]
  },
  {
   "cell_type": "code",
   "execution_count": 1,
   "id": "f7441344",
   "metadata": {},
   "outputs": [],
   "source": [
    "class ListNode:\n",
    "    def __init__(self, val =0, next = None):\n",
    "        self.val = val\n",
    "        self.next = next\n",
    "        \n",
    "\n",
    "\n",
    "def delete_middle_node(head):\n",
    "    #check if the list is empty or has only one value\n",
    "    if not head or not head.next:\n",
    "        return None\n",
    "    \n",
    "    dummy = ListNode(-1)       # Dummy node to handle the case of deleting the first node\n",
    "    dummy.next = head\n",
    "    slow = dummy\n",
    "    fast = dummy\n",
    "    \n",
    "    while fast and fast.next:\n",
    "        slow = slow.next\n",
    "        fast = fast.next.next\n",
    "        \n",
    "    # Delete the middle node,{{basically delink}}\n",
    "    slow.next = slow.next.next\n",
    "    \n",
    "    return dummy.next\n",
    "        \n",
    "    "
   ]
  },
  {
   "cell_type": "code",
   "execution_count": 3,
   "id": "10f07b62",
   "metadata": {},
   "outputs": [
    {
     "name": "stdout",
     "output_type": "stream",
     "text": [
      "1 -> 2 -> 3 -> 4 -> 5 -> None\n"
     ]
    }
   ],
   "source": [
    "## we can use this function by creating a linked list and passing its head to the deleteMiddleNode function. It will return the modified linked list with the middle node deleted\n",
    "        \n",
    "# creating a linked list using the alreadyy created ListNode class\n",
    "head= ListNode(1)\n",
    "head.next= ListNode(2)\n",
    "head.next.next= ListNode(3)\n",
    "head.next.next.next = ListNode(4)\n",
    "head.next.next.next.next = ListNode(5) \n",
    "\n",
    "current = head\n",
    "while current:     ##till current.next is not None\n",
    "    print(current.val, end=\" -> \")\n",
    "    current = current.next\n",
    "print(\"None\")"
   ]
  },
  {
   "cell_type": "code",
   "execution_count": 4,
   "id": "c5f4c0c1",
   "metadata": {},
   "outputs": [
    {
     "data": {
      "text/plain": [
       "<__main__.ListNode at 0x2d5217e7100>"
      ]
     },
     "execution_count": 4,
     "metadata": {},
     "output_type": "execute_result"
    }
   ],
   "source": [
    "#now will remove the middle node using teh delete_middle_node function\n",
    "delete_middle_node(head)"
   ]
  },
  {
   "cell_type": "code",
   "execution_count": 6,
   "id": "369ea1e7",
   "metadata": {},
   "outputs": [
    {
     "name": "stdout",
     "output_type": "stream",
     "text": [
      "1 -> 2 -> 3 -> 5 -> None\n"
     ]
    }
   ],
   "source": [
    "#now gaina lets see teh how teh ll will look\n",
    "current = head\n",
    "while current:\n",
    "    print(current.val, end = \" -> \")\n",
    "    current = current.next\n",
    "print(\"None\")"
   ]
  },
  {
   "cell_type": "markdown",
   "id": "3c03e29c",
   "metadata": {},
   "source": [
    "TC = O(n)\n",
    "\n",
    "SC=O(1)"
   ]
  },
  {
   "cell_type": "markdown",
   "id": "a22c2f9f",
   "metadata": {},
   "source": [
    "<aside>\n",
    "💡 **Question 2**\n",
    "\n",
    "Given a linked list of **N** nodes. The task is to check if the linked list has a loop. Linked list can contain self loop.\n",
    "\n",
    "**Example 1:**\n",
    "\n",
    "```\n",
    "Input:\n",
    "N = 3\n",
    "value[] = {1,3,4}\n",
    "x(position at which tail is connected) = 2\n",
    "Output:True\n",
    "Explanation:In above test case N = 3.\n",
    "The linked list with nodes N = 3 is\n",
    "given. Then value of x=2 is given which\n",
    "means last node is connected with xth\n",
    "node of linked list. Therefore, there\n",
    "exists a loop.\n",
    "```\n",
    "\n",
    "**Example 2:**\n",
    "Input:\n",
    "N = 4\n",
    "value[] = {1,8,3,4}\n",
    "x = 0\n",
    "Output:False\n",
    "Explanation:For N = 4 ,x = 0 means\n",
    "then lastNode->next = NULL, then\n",
    "the Linked list does not contains\n",
    "any loop.\n",
    "\n",
    "</aside>"
   ]
  },
  {
   "cell_type": "code",
   "execution_count": 7,
   "id": "e771a54c",
   "metadata": {},
   "outputs": [],
   "source": [
    "def hasCycle(head):\n",
    "    # initialize two nodes slow and fast point to the head node\n",
    "    slow= head\n",
    "    fast= head\n",
    "    while fast and fast.next:         #while fast is not None and fast.next is not None\n",
    "        #move slow pointer by one node and fast pointer by 2 at each step\n",
    "        slow = slow.next\n",
    "        fast = fast.next.next\n",
    "        # If both the pointers meet at any point, then the cycle is present and return true\n",
    "        if slow == fast:\n",
    "            return True\n",
    "    return False"
   ]
  },
  {
   "cell_type": "markdown",
   "id": "783716a5",
   "metadata": {},
   "source": [
    "TC =O(n)\n",
    "\n",
    "SC =O(1)"
   ]
  },
  {
   "cell_type": "markdown",
   "id": "adf0c5ed",
   "metadata": {},
   "source": [
    "<aside>\n",
    "💡 **Question 3**\n",
    "\n",
    "Given a linked list consisting of **L** nodes and given a number **N**. The task is to find the **N**th node from the end of the linked list.\n",
    "\n",
    "**Example 1:**\n",
    "\n",
    "```\n",
    "Input:\n",
    "N = 2\n",
    "LinkedList: 1->2->3->4->5->6->7->8->9\n",
    "Output:8\n",
    "Explanation:In the first example, there\n",
    "are 9 nodes in linked list and we need\n",
    "to find 2nd node from end. 2nd node\n",
    "from end is 8.\n",
    "\n",
    "```\n",
    "\n",
    "**Example 2:**\n",
    "\n",
    "</aside>"
   ]
  },
  {
   "cell_type": "code",
   "execution_count": 18,
   "id": "4be94d53",
   "metadata": {},
   "outputs": [],
   "source": [
    "class ListNode:\n",
    "    def __init__(self, val =0, next = None):\n",
    "        self.val = val\n",
    "        self.next = next\n",
    "        \n",
    "\n",
    "def findnthNode(head, n):\n",
    "    \n",
    "    if head is None:\n",
    "        return head\n",
    "    \n",
    "    prev = None\n",
    "    curr= head\n",
    "    \n",
    "    while curr:\n",
    "        temp = curr.next\n",
    "        curr.next = prev\n",
    "        prev = curr\n",
    "        curr = temp\n",
    "        \n",
    "    #uptil here we got our head at prev\n",
    "    \n",
    "    # now to find nth node from the end, which is now actuallt the head of tge Listnode, and the head i sat prev\n",
    "    node = prev\n",
    "    for _ in range(n-1):\n",
    "        node= node.next\n",
    "    \n",
    "    return node.val    "
   ]
  },
  {
   "cell_type": "code",
   "execution_count": 19,
   "id": "4cd716e1",
   "metadata": {},
   "outputs": [
    {
     "name": "stdout",
     "output_type": "stream",
     "text": [
      "1 -> 2 -> 3 -> 4 -> 5 -> None\n"
     ]
    }
   ],
   "source": [
    "# creating a linked list using the alreadyy created ListNode class\n",
    "head= ListNode(1)\n",
    "head.next= ListNode(2)\n",
    "head.next.next= ListNode(3)\n",
    "head.next.next.next = ListNode(4)\n",
    "head.next.next.next.next = ListNode(5) \n",
    "\n",
    "current = head\n",
    "while current:     ##till current.next is not None\n",
    "    print(current.val, end=\" -> \")\n",
    "    current = current.next\n",
    "print(\"None\")"
   ]
  },
  {
   "cell_type": "code",
   "execution_count": 20,
   "id": "654ed271",
   "metadata": {},
   "outputs": [
    {
     "data": {
      "text/plain": [
       "4"
      ]
     },
     "execution_count": 20,
     "metadata": {},
     "output_type": "execute_result"
    }
   ],
   "source": [
    "findnthNode(head, 2)"
   ]
  },
  {
   "cell_type": "markdown",
   "id": "384b7ba1",
   "metadata": {},
   "source": [
    "<aside>\n",
    "💡 **Question 4**\n",
    "\n",
    "Given a singly linked list of characters, write a function that returns true if the given list is a palindrome, else false.\n",
    "\n",
    "!https://media.geeksforgeeks.org/wp-content/uploads/20220816144425/LLdrawio.png\n",
    "\n",
    "**Examples:**\n",
    "\n",
    "> Input: R->A->D->A->R->NULL\n",
    "> \n",
    "> \n",
    "> **Output:** Yes\n",
    "> \n",
    "> **Input:** C->O->D->E->NULL\n",
    "> \n",
    "> **Output:** No\n",
    "> \n",
    "</aside>"
   ]
  },
  {
   "cell_type": "code",
   "execution_count": 22,
   "id": "de328650",
   "metadata": {},
   "outputs": [],
   "source": [
    "class ListNode:\n",
    "    def __init__(self, val =0, next = None):\n",
    "        self.val = val\n",
    "        self.next = next\n",
    "        \n",
    "def palindrome(head):\n",
    "    slow = head\n",
    "    fast = head\n",
    "    \n",
    "    while fast and fast.next:\n",
    "        slow = slow.next\n",
    "        fast = fast.next.next\n",
    "        \n",
    "    #uptil here mid value found , now reversing the second half\n",
    "    prev =None\n",
    "    curr= slow\n",
    "    \n",
    "    while curr:\n",
    "        temp = curr.next\n",
    "        curr.next = prev\n",
    "        prev = curr\n",
    "        curr = temp\n",
    "        \n",
    "    #now will traverse to check\n",
    "    fast= head\n",
    "    slow = prev  ##because by the end of the reversal prev reached the last node\n",
    "    while slow:\n",
    "        if fast.val != slow.val:\n",
    "            return False\n",
    "        fast = fast.next\n",
    "        slow = slow.next\n",
    "    return True\n",
    "        \n",
    "    "
   ]
  },
  {
   "cell_type": "code",
   "execution_count": 28,
   "id": "463b6cc6",
   "metadata": {},
   "outputs": [
    {
     "name": "stdout",
     "output_type": "stream",
     "text": [
      "R -> A -> D -> A -> R -> None\n"
     ]
    }
   ],
   "source": [
    "# creating a linked list using the alreadyy created ListNode class\n",
    "head= ListNode('R')\n",
    "head.next= ListNode('A')\n",
    "head.next.next= ListNode('D')\n",
    "head.next.next.next = ListNode('A')\n",
    "head.next.next.next.next = ListNode('R') \n",
    "\n",
    "current = head\n",
    "while current:     ##till current.next is not None\n",
    "    print(current.val, end=\" -> \")\n",
    "    current = current.next\n",
    "print(\"None\")"
   ]
  },
  {
   "cell_type": "code",
   "execution_count": 29,
   "id": "f8be9991",
   "metadata": {},
   "outputs": [
    {
     "data": {
      "text/plain": [
       "True"
      ]
     },
     "execution_count": 29,
     "metadata": {},
     "output_type": "execute_result"
    }
   ],
   "source": [
    "palindrome(head)"
   ]
  },
  {
   "cell_type": "markdown",
   "id": "be740adc",
   "metadata": {},
   "source": [
    "TC = O(n)\n",
    "\n",
    "SC =O(1)"
   ]
  },
  {
   "cell_type": "markdown",
   "id": "a2978849",
   "metadata": {},
   "source": [
    "<aside>\n",
    "💡 **Question 5**\n",
    "\n",
    "Given a linked list of **N** nodes such that it may contain a loop.\n",
    "\n",
    "A loop here means that the last node of the link list is connected to the node at position X(1-based index). If the link list does not have any loop, X=0.\n",
    "\n",
    "Remove the loop from the linked list, if it is present, i.e. unlink the last node which is forming the loop.\n",
    "\n",
    "**Example 1:**\n",
    "\n",
    "```\n",
    "Input:\n",
    "N = 3\n",
    "value[] = {1,3,4}\n",
    "X = 2\n",
    "Output:1\n",
    "Explanation:The link list looks like\n",
    "1 -> 3 -> 4\n",
    "     ^    |\n",
    "     |____|\n",
    "A loop is present. If you remove it\n",
    "successfully, the answer will be 1.\n",
    "\n",
    "```\n",
    "\n",
    "**Example 2:**\n",
    "\n",
    "```\n",
    "Input:\n",
    "N = 4\n",
    "value[] = {1,8,3,4}\n",
    "X = 0\n",
    "Output:1\n",
    "Explanation:The Linked list does not\n",
    "contains any loop.\n",
    "```\n",
    "\n",
    "**Example 3:**\n",
    "\n",
    "</aside>"
   ]
  },
  {
   "cell_type": "code",
   "execution_count": 31,
   "id": "5dd4b6fd",
   "metadata": {},
   "outputs": [],
   "source": [
    "class ListNode:\n",
    "    def __init__(self, val =0, next = None):\n",
    "        self.val = val\n",
    "        self.next = next\n",
    "        \n",
    "def remove_cycle(head):\n",
    "    slow = head\n",
    "    fast = head\n",
    "    count =0\n",
    "    \n",
    "    while fast and fast.next:\n",
    "        slow = slow.next\n",
    "        fast = fast.next.next\n",
    "        if slow==fast:\n",
    "            break\n",
    "    else:\n",
    "        return None\n",
    "    \n",
    "    \n",
    "    temp = head\n",
    "    while temp!= slow:\n",
    "        temp = temp.next\n",
    "        slow = slow.next\n",
    "        count = count+1\n",
    "\n",
    "        \n",
    "    #now note the cycle starts from the place these point head and slow are equal\n",
    "    for _ in range(count):\n",
    "        head= head.next\n",
    "    head.next = None\n",
    "    \n",
    "    return head\n"
   ]
  },
  {
   "cell_type": "markdown",
   "id": "443e0d19",
   "metadata": {},
   "source": [
    "TC =O(n)\n",
    "\n",
    "SC O(1)"
   ]
  },
  {
   "cell_type": "markdown",
   "id": "40ee0060",
   "metadata": {},
   "source": [
    "<aside>\n",
    "💡 **Question 6**\n",
    "\n",
    "Given a linked list and two integers M and N. Traverse the linked list such that you retain M nodes then delete next N nodes, continue the same till end of the linked list.\n",
    "\n",
    "Difficulty Level: Rookie\n",
    "\n",
    "**Examples**:\n",
    "\n",
    "</aside>"
   ]
  },
  {
   "cell_type": "code",
   "execution_count": 32,
   "id": "116a57de",
   "metadata": {},
   "outputs": [],
   "source": [
    "class ListNode:\n",
    "    def __init__(self, val =0, next = None):\n",
    "        self.val = val\n",
    "        self.next = next\n",
    "\n",
    "def deleteNodes(head, M, N):\n",
    "    dummy = ListNode(0)\n",
    "    dummy.next = head\n",
    "\n",
    "    current = dummy\n",
    "\n",
    "    while current:\n",
    "        # Move current pointer M nodes forward\n",
    "        for _ in range(M):\n",
    "            if current:\n",
    "                current = current.next\n",
    "            else:\n",
    "                return dummy.next\n",
    "\n",
    "        # Skip the next N nodes\n",
    "        for _ in range(N):\n",
    "            if current.next:\n",
    "                current.next = current.next.next\n",
    "            else:\n",
    "                return dummy.next\n",
    "\n",
    "    return dummy.next\n",
    "\n",
    "    "
   ]
  },
  {
   "cell_type": "markdown",
   "id": "f7f6ded1",
   "metadata": {},
   "source": [
    "TC =O(n)\n",
    "\n",
    "SC O(1)"
   ]
  },
  {
   "cell_type": "markdown",
   "id": "65a80cdf",
   "metadata": {},
   "source": [
    "<aside>\n",
    "💡 **Question 7**\n",
    "\n",
    "Given two linked lists, insert nodes of second list into first list at alternate positions of first list.\n",
    "For example, if first list is 5->7->17->13->11 and second is 12->10->2->4->6, the first list should become 5->12->7->10->17->2->13->4->11->6 and second list should become empty. The nodes of second list should only be inserted when there are positions available. For example, if the first list is 1->2->3 and second list is 4->5->6->7->8, then first list should become 1->4->2->5->3->6 and second list to 7->8.\n",
    "\n",
    "Use of extra space is not allowed (Not allowed to create additional nodes), i.e., insertion must be done in-place. Expected time complexity is O(n) where n is number of nodes in first list.\n",
    "\n",
    "</aside>"
   ]
  },
  {
   "cell_type": "code",
   "execution_count": 35,
   "id": "520ee67a",
   "metadata": {},
   "outputs": [],
   "source": [
    "class ListNode:\n",
    "    def __init__(self, val=0, next=None):\n",
    "        self.val = val\n",
    "        self.next = next\n",
    "\n",
    "\n",
    "def mergeLists(first, second):\n",
    "    if not second:  # If the second list is empty, no merging is needed\n",
    "        return first\n",
    "\n",
    "    # Keep track of the next nodes to be inserted from both lists\n",
    "    next_first = first.next\n",
    "    next_second = second.next\n",
    "\n",
    "    # Insert nodes from second list into the first list at alternate positions\n",
    "    first.next = second\n",
    "    second.next = next_first\n",
    "\n",
    "    # Recursively merge the remaining nodes\n",
    "    mergeLists(next_first, next_second)\n",
    "\n",
    "    return first"
   ]
  },
  {
   "cell_type": "markdown",
   "id": "abcbbbc6",
   "metadata": {},
   "source": [
    "TC =O(n)\n",
    "\n",
    "SC =O(1)"
   ]
  },
  {
   "cell_type": "markdown",
   "id": "558a6ec3",
   "metadata": {},
   "source": [
    "<aside>\n",
    "💡 **Question 8**\n",
    "\n",
    "Given a singly linked list, find if the linked list is [circular](https://www.geeksforgeeks.org/circular-linked-list/amp/) or not.\n",
    "\n",
    "> A linked list is called circular if it is not NULL-terminated and all nodes are connected in the form of a cycle. Below is an example of a circular linked list.\n",
    "> \n",
    "</aside>"
   ]
  },
  {
   "cell_type": "code",
   "execution_count": 34,
   "id": "b293324b",
   "metadata": {},
   "outputs": [],
   "source": [
    "def solution(array):\n",
    "    slow = head\n",
    "    fast = head\n",
    "    \n",
    "    while head and head.next:\n",
    "        slow = slow.next\n",
    "        fast = fast.next.next\n",
    "        if slow ==fast:\n",
    "            return True\n",
    "        \n",
    "    return False\n"
   ]
  },
  {
   "cell_type": "markdown",
   "id": "eef9287f",
   "metadata": {},
   "source": [
    "TC = O(n)\n",
    "\n",
    "SC = O(1\n"
   ]
  },
  {
   "cell_type": "code",
   "execution_count": null,
   "id": "8baba242",
   "metadata": {},
   "outputs": [],
   "source": []
  }
 ],
 "metadata": {
  "kernelspec": {
   "display_name": "Python 3 (ipykernel)",
   "language": "python",
   "name": "python3"
  },
  "language_info": {
   "codemirror_mode": {
    "name": "ipython",
    "version": 3
   },
   "file_extension": ".py",
   "mimetype": "text/x-python",
   "name": "python",
   "nbconvert_exporter": "python",
   "pygments_lexer": "ipython3",
   "version": "3.9.12"
  }
 },
 "nbformat": 4,
 "nbformat_minor": 5
}
