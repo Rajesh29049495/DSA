{
 "cells": [
  {
   "cell_type": "markdown",
   "id": "9725bb65",
   "metadata": {},
   "source": [
    "<aside>\n",
    "💡 Question-1\n",
    "\n",
    "Given a binary tree, your task is to find subtree with maximum sum in tree.\n",
    "\n",
    "Examples:\n",
    "\n",
    "Input1 :       \n",
    "\n",
    "       1\n",
    "\n",
    "     /   \\\n",
    "\n",
    "   2      3\n",
    "\n",
    "  / \\    / \\\n",
    "\n",
    "4   5  6   7\n",
    "\n",
    "Output1 : 28\n",
    "\n",
    "As all the tree elements are positive, the largest subtree sum is equal to sum of all tree elements.\n",
    "\n",
    "Input2 :\n",
    "\n",
    "       1\n",
    "\n",
    "     /    \\\n",
    "\n",
    "  -2      3\n",
    "\n",
    "  / \\    /  \\\n",
    "\n",
    "4   5  -6   2\n",
    "\n",
    "Output2 : 7\n",
    "\n",
    "Subtree with largest sum is :\n",
    "\n",
    " -2\n",
    "\n",
    " / \\\n",
    "\n",
    "4   5\n",
    "\n",
    "Also, entire tree sum is also 7.\n",
    "\n",
    "</aside>"
   ]
  },
  {
   "cell_type": "markdown",
   "id": "fb0b66c1",
   "metadata": {},
   "source": [
    " "
   ]
  },
  {
   "cell_type": "markdown",
   "id": "2c31576b",
   "metadata": {},
   "source": [
    "**Approach**\n",
    "* performing a post-order traversal of the binary tree and calculating the sum of each subtree recursively. \n",
    "* At each node, you calculate the sum of the left subtree and the sum of the right subtree. Then, you calculate the sum of the current subtree by adding the values of the current node, the sum of the left subtree, and the sum of the right subtree.\n",
    "* During this process, compare the sum of each subtree with the overall maximum subtree sum encountered so far and update it if a subtree with a higher sum is found."
   ]
  },
  {
   "cell_type": "code",
   "execution_count": 6,
   "id": "ba04eb90",
   "metadata": {},
   "outputs": [
    {
     "name": "stdout",
     "output_type": "stream",
     "text": [
      "Maximum subtree sum: 7\n"
     ]
    }
   ],
   "source": [
    "# Binary tree node definition\n",
    "class Node:\n",
    "    def __init__(self, data):\n",
    "        self.data = data\n",
    "        self.left = None\n",
    "        self.right = None\n",
    "        \n",
    "# Helper function to find the subtree with the maximum sum\n",
    "def maxSubtreeSum(root):\n",
    "    if root is None:\n",
    "        return 0\n",
    "    \n",
    "    subtree_sum = root.data + (maxSubtreeSum(root.left)) + (maxSubtreeSum(root.right))\n",
    "    \n",
    "    global max_sum\n",
    "    max_sum = max(max_sum, subtree_sum)\n",
    "    \n",
    "    return subtree_sum\n",
    "\n",
    "# Function to find the subtree with the maxmum sum in a binary tree\n",
    "def findMaxSubtreeSum(root):\n",
    "    global max_sum\n",
    "    max_sum = float('-inf')\n",
    "    \n",
    "    maxSubtreeSum(root)\n",
    "    \n",
    "    return max_sum\n",
    "\n",
    "\n",
    "# Example usage:\n",
    "root = Node(1)\n",
    "root.left = Node(-2)\n",
    "root.right = Node(3)\n",
    "root.left.left = Node(4)\n",
    "root.left.right = Node(5)\n",
    "root.right.left = Node(-6)\n",
    "root.right.right = Node(2)\n",
    "\n",
    "max_subtree_sum = findMaxSubtreeSum(root)\n",
    "print(\"Maximum subtree sum:\", max_subtree_sum)"
   ]
  },
  {
   "cell_type": "markdown",
   "id": "3ada49df",
   "metadata": {},
   "source": [
    "TC = O(n) , where n is the number of nodes in the binary tree. This is because the code performs a post-order traversal of the binary tree, visiting each node once.\n",
    "\n",
    "SC =O(log(n)),  space complexity of the code is O(h), where h is the height of the binary tree. This is because the code uses recursive calls to traverse the tree, and the maximum depth of the recursion is equal to the height of the tree. In the worst case, where the tree is skewed and has a height of n (all nodes in a single branch), the space complexity becomes O(n). However, in a balanced binary tree, the height is approximately log(n), resulting in a space complexity of O(log(n))."
   ]
  },
  {
   "cell_type": "markdown",
   "id": "0a754bc1",
   "metadata": {},
   "source": [
    "*************************************************"
   ]
  },
  {
   "cell_type": "markdown",
   "id": "850e0990",
   "metadata": {},
   "source": [
    "<aside>\n",
    "💡 Question-2\n",
    "\n",
    "Construct the BST (Binary Search Tree) from its given level order traversal.\n",
    "\n",
    "Example:\n",
    "\n",
    "Input: arr[] = {7, 4, 12, 3, 6, 8, 1, 5, 10}\n",
    "\n",
    "Output: BST:\n",
    "```\n",
    "\n",
    "            7\n",
    "\n",
    "         /    \\\n",
    "\n",
    "       4     12\n",
    "\n",
    "     /  \\     /\n",
    "\n",
    "    3   6  8\n",
    "\n",
    "   /    /     \\\n",
    "\n",
    " 1    5      10\n",
    "```\n",
    "</aside>"
   ]
  },
  {
   "cell_type": "markdown",
   "id": "226e8c1c",
   "metadata": {},
   "source": [
    " "
   ]
  },
  {
   "cell_type": "markdown",
   "id": "72aa2c69",
   "metadata": {},
   "source": [
    "* Basically i have to insert the array values first in BST format i.e., form a BST,\n",
    "\n",
    "* then do the level order traversal "
   ]
  },
  {
   "cell_type": "code",
   "execution_count": 9,
   "id": "3fa5f8d0",
   "metadata": {},
   "outputs": [
    {
     "name": "stdout",
     "output_type": "stream",
     "text": [
      "Breadth-first search traversal/ level order traversal:\n",
      "7 \n",
      "4 12 \n",
      "3 6 8 \n",
      "1 5 10 \n"
     ]
    }
   ],
   "source": [
    "## First create a BST uing the array values\n",
    "class Node:\n",
    "    def __init__(self, value):\n",
    "        self.value = value\n",
    "        self.left = None\n",
    "        self.right = None\n",
    "\n",
    "def insert(root, value):\n",
    "    if root is None:\n",
    "        return Node(value)\n",
    "    \n",
    "    if value<root.value:\n",
    "        root.left= insert(root.left, value)\n",
    "    else:\n",
    "        root.right = insert(root.right, value)\n",
    "    return root\n",
    "\n",
    "def constructBST(arr):\n",
    "    if not arr:\n",
    "        return None\n",
    "    root = None\n",
    "    for val in arr:\n",
    "        root = insert(root, val)\n",
    "    return root\n",
    "\n",
    "\n",
    "\n",
    "## Then code to do the level order tranversal of the BST\n",
    "\n",
    "# to count levels of a tree, as it will be called when we will run the loop to print breadth fisrt search traversal\n",
    "def levels(root):\n",
    "    if root is None:\n",
    "        return 0\n",
    "    \n",
    "    return 1 + max(levels(root.left), levels(root.right))\n",
    "        \n",
    "#  function to print nth level, which we will run in loop to print breadth first search traversal      \n",
    "def nthLevel(root, currLevel, level):           #where currLevel is the current level and level is the destination level\n",
    "    if root is None or currLevel > level:       ##so that it does not unecessary keep going even after th elevel have been found\n",
    "        return\n",
    "    if currLevel == level: \n",
    "        print(root.value, end = \" \")\n",
    "    nthLevel(root.left, currLevel + 1, level)\n",
    "    nthLevel(root.right, currLevel + 1, level)\n",
    "\n",
    "# given array\n",
    "arr = [7,4,12,3,6,8,1,5,10]\n",
    "\n",
    "# construct a BST from the array\n",
    "bst_root = constructBST(arr)\n",
    "\n",
    "# doing levek order traversal of the BST\n",
    "print(\"Breadth-first search traversal/ level order traversal:\")\n",
    "for i in range(1, levels(bst_root) + 1):     #\"+1\" to include the maximum levl in the range\n",
    "    nthLevel(bst_root, 1, i)\n",
    "    print()    \n",
    "    "
   ]
  },
  {
   "cell_type": "markdown",
   "id": "84df090a",
   "metadata": {},
   "source": [
    "**Overall, the time complexity of the code is dominated by the construction of the BST, resulting in O(n log n) time complexity. The space complexity is O(n) in both cases.**"
   ]
  },
  {
   "cell_type": "markdown",
   "id": "9ae8d281",
   "metadata": {},
   "source": [
    "***************************************************"
   ]
  },
  {
   "cell_type": "markdown",
   "id": "b44f7eb8",
   "metadata": {},
   "source": [
    "<aside>\n",
    "💡 Question-3\n",
    "\n",
    "Given an array of size n. The problem is to check whether the given array can represent the level order traversal of a Binary Search Tree or not.\n",
    "\n",
    "Examples:\n",
    "\n",
    "Input1 : arr[] = {7, 4, 12, 3, 6, 8, 1, 5, 10}\n",
    "\n",
    "Output1 : Yes\n",
    "\n",
    "For the given arr[], the Binary Search Tree is:\n",
    "\n",
    "            7\n",
    "\n",
    "         /    \\\n",
    "\n",
    "       4     12\n",
    "\n",
    "     /  \\     /\n",
    "\n",
    "    3   6  8\n",
    "\n",
    "   /    /     \\\n",
    "\n",
    " 1    5      10\n",
    "\n",
    "Input2 : arr[] = {11, 6, 13, 5, 12, 10}\n",
    "\n",
    "Output2 : No\n",
    "\n",
    "The given arr[] does not represent the level order traversal of a BST.\n",
    "\n",
    "</aside>"
   ]
  },
  {
   "cell_type": "code",
   "execution_count": 12,
   "id": "73d87978",
   "metadata": {},
   "outputs": [
    {
     "data": {
      "text/plain": [
       "True"
      ]
     },
     "execution_count": 12,
     "metadata": {},
     "output_type": "execute_result"
    }
   ],
   "source": [
    "## First create a BST uing the array values\n",
    "class Node:\n",
    "    def __init__(self, value):\n",
    "        self.value = value\n",
    "        self.left = None\n",
    "        self.right = None\n",
    "\n",
    "def insert(root, value):\n",
    "    if root is None:\n",
    "        return Node(value)\n",
    "    \n",
    "    if value<root.value:\n",
    "        root.left= insert(root.left, value)\n",
    "    else:\n",
    "        root.right = insert(root.right, value)\n",
    "    return root\n",
    "\n",
    "def constructBST(arr):\n",
    "    if not arr:\n",
    "        return None\n",
    "    root = None\n",
    "    for val in arr:\n",
    "        root = insert(root, val)\n",
    "    return root\n",
    "\n",
    "\n",
    "\n",
    "\n",
    "\n",
    "## now will do the inorder traversal and if we get an array formed out of it sorted then can say its BST\n",
    "def inorder(root, arr):\n",
    "    if root is None:\n",
    "        return\n",
    "    inorder(root.left, arr)\n",
    "    arr.append(root.value)\n",
    "    inorder(root.right, arr)\n",
    "    \n",
    "def isValidBST(root):\n",
    "    arr=[]\n",
    "    inorder(root, arr)\n",
    "    #check if array is sorted or not\n",
    "    for i in range(1, len(arr)):\n",
    "        if arr[i]<=arr[i-1]:\n",
    "            return False\n",
    "    return True\n",
    "\n",
    "\n",
    "# given array\n",
    "arr = [7,4,12,3,6,8,1,5,10]\n",
    "\n",
    "# construct a BST from the array\n",
    "bst_root = constructBST(arr)\n",
    "\n",
    "# now check if its a valid a BST\n",
    "isValidBST(bst_root)"
   ]
  },
  {
   "cell_type": "code",
   "execution_count": null,
   "id": "f432b910",
   "metadata": {},
   "outputs": [],
   "source": []
  }
 ],
 "metadata": {
  "kernelspec": {
   "display_name": "Python 3 (ipykernel)",
   "language": "python",
   "name": "python3"
  },
  "language_info": {
   "codemirror_mode": {
    "name": "ipython",
    "version": 3
   },
   "file_extension": ".py",
   "mimetype": "text/x-python",
   "name": "python",
   "nbconvert_exporter": "python",
   "pygments_lexer": "ipython3",
   "version": "3.9.12"
  }
 },
 "nbformat": 4,
 "nbformat_minor": 5
}
