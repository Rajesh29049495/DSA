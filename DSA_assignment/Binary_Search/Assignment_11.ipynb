{
 "cells": [
  {
   "cell_type": "markdown",
   "id": "24b5261b",
   "metadata": {},
   "source": [
    "<aside>\n",
    "💡 **Question 1**\n",
    "\n",
    "Given a non-negative integer `x`, return *the square root of* `x` *rounded down to the nearest integer*. The returned integer should be **non-negative** as well.\n",
    "\n",
    "You **must not use** any built-in exponent function or operator.\n",
    "\n",
    "- For example, do not use `pow(x, 0.5)` in c++ or `x ** 0.5` in python.\n",
    "\n",
    "**Example 1:**\n",
    "\n",
    "```\n",
    "Input: x = 4\n",
    "Output: 2\n",
    "Explanation: The square root of 4 is 2, so we return 2.\n",
    "\n",
    "```\n",
    "\n",
    "**Example 2:**\n",
    "\n",
    "</aside>"
   ]
  },
  {
   "cell_type": "code",
   "execution_count": 3,
   "id": "9299347c",
   "metadata": {},
   "outputs": [
    {
     "data": {
      "text/plain": [
       "4"
      ]
     },
     "execution_count": 3,
     "metadata": {},
     "output_type": "execute_result"
    }
   ],
   "source": [
    "def Sqrt(num):\n",
    "    if num ==0:\n",
    "        return 0\n",
    "    \n",
    "    left, right = 1, num\n",
    "    while left<=right:\n",
    "        mid = (left+right)//2\n",
    "        if mid*mid>num:\n",
    "            right = mid-1\n",
    "        else:\n",
    "            left = mid+1\n",
    "    return right\n",
    "\n",
    "num = 18\n",
    "Sqrt(num)"
   ]
  },
  {
   "cell_type": "markdown",
   "id": "23e64947",
   "metadata": {},
   "source": [
    "TC = O(log n)\n",
    "\n",
    "SC = O(1)"
   ]
  },
  {
   "cell_type": "markdown",
   "id": "190dd334",
   "metadata": {},
   "source": [
    "<aside>\n",
    "💡 **Question 2**\n",
    "\n",
    "A peak element is an element that is strictly greater than its neighbors.\n",
    "\n",
    "Given a **0-indexed** integer array `nums`, find a peak element, and return its index. If the array contains multiple peaks, return the index to **any of the peaks**.\n",
    "\n",
    "You may imagine that `nums[-1] = nums[n] = -∞`. In other words, an element is always considered to be strictly greater than a neighbor that is outside the array.\n",
    "\n",
    "You must write an algorithm that runs in `O(log n)` time.\n",
    "\n",
    "**Example 1:**\n",
    "\n",
    "```\n",
    "Input: nums = [1,2,3,1]\n",
    "Output: 2\n",
    "Explanation: 3 is a peak element and your function should return the index number 2.\n",
    "```\n",
    "\n",
    "**Example 2:**\n",
    "\n",
    "</aside>"
   ]
  },
  {
   "cell_type": "code",
   "execution_count": 8,
   "id": "b04bb606",
   "metadata": {},
   "outputs": [
    {
     "data": {
      "text/plain": [
       "2"
      ]
     },
     "execution_count": 8,
     "metadata": {},
     "output_type": "execute_result"
    }
   ],
   "source": [
    "def find_peak(nums):\n",
    "    left, right = 0, len(nums)-1\n",
    "    \n",
    "    while left <right:\n",
    "        mid = (left+right)//2\n",
    "        \n",
    "        #check if the iddle element i smaller than its rght neighbor\n",
    "        #if true, the peak element must be on the right side, because a peak element is defined as being strictly greater than its neighbors\n",
    "        if nums[mid]<nums[mid+1]:\n",
    "            left = mid+1\n",
    "        \n",
    "        #if the middle element is greater than or equal to its right neighbor\n",
    "        #if true, the peak elementmust be on the left side\n",
    "        else:\n",
    "            right = mid\n",
    "            \n",
    "    return left\n",
    "\n",
    "nums=[1,2,6,5,1]\n",
    "find_peak(nums)"
   ]
  },
  {
   "cell_type": "markdown",
   "id": "ce90da6c",
   "metadata": {},
   "source": [
    "TC = O(log n)\n",
    "\n",
    "SC= O(1)"
   ]
  },
  {
   "cell_type": "markdown",
   "id": "725a4ec3",
   "metadata": {},
   "source": [
    "<aside>\n",
    "💡 **Question 3**\n",
    "\n",
    "****\n",
    "\n",
    "Given an array `nums` containing `n` distinct numbers in the range `[0, n]`, return *the only number in the range that is missing from the array.*\n",
    "\n",
    "**Example 1:**\n",
    "\n",
    "```\n",
    "Input: nums = [3,0,1]\n",
    "Output: 2\n",
    "Explanation: n = 3 since there are 3 numbers, so all numbers are in the range [0,3]. 2 is the missing number in the range since it does not appear in nums.\n",
    "\n",
    "```\n",
    "\n",
    "**Example 2:**\n",
    "\n",
    "```\n",
    "Input: nums = [0,1]\n",
    "Output: 2\n",
    "Explanation: n = 2 since there are 2 numbers, so all numbers are in the range [0,2]. 2 is the missing number in the range since it does not appear in nums.\n",
    "\n",
    "```"
   ]
  },
  {
   "cell_type": "code",
   "execution_count": 18,
   "id": "5022a7ff",
   "metadata": {},
   "outputs": [
    {
     "data": {
      "text/plain": [
       "2"
      ]
     },
     "execution_count": 18,
     "metadata": {},
     "output_type": "execute_result"
    }
   ],
   "source": [
    "def missing(nums):\n",
    "    nums.sort()\n",
    "    n = len(nums)\n",
    "    left =0\n",
    "    right = n-1\n",
    "    \n",
    "    while left<=right:\n",
    "        mid =(left+right)//2\n",
    "        if nums[mid]>mid:\n",
    "            right = mid-1\n",
    "        else:\n",
    "            left= mid+1\n",
    "    return left\n",
    "\n",
    "nums=[3,0,1]\n",
    "missing(nums)"
   ]
  },
  {
   "cell_type": "markdown",
   "id": "37c7d82b",
   "metadata": {},
   "source": [
    "TC =O(log n), time complexity for using the sorting operation is n(log n). After sorting, the binary search algorithm is applied to find the missing number. The binary search has a time complexity of O(log n). As sorting operation has higher TC , so overall TC is determeined by O(n log n).\n",
    "\n",
    "SC = O(1)"
   ]
  },
  {
   "cell_type": "markdown",
   "id": "187bc542",
   "metadata": {},
   "source": [
    "<aside>\n",
    "💡 **Question 4**\n",
    "\n",
    "Given an array of integers `nums` containing `n + 1` integers where each integer is in the range `[1, n]` inclusive.\n",
    "\n",
    "There is only **one repeated number** in `nums`, return *this repeated number*.\n",
    "\n",
    "You must solve the problem **without** modifying the array `nums` and uses only constant extra space.\n",
    "\n",
    "**Example 1:**\n",
    "\n",
    "```\n",
    "Input: nums = [1,3,4,2,2]\n",
    "Output: 2\n",
    "\n",
    "```\n",
    "\n",
    "**Example 2:**\n",
    "\n",
    "</aside>"
   ]
  },
  {
   "cell_type": "code",
   "execution_count": 29,
   "id": "f34e3616",
   "metadata": {},
   "outputs": [
    {
     "data": {
      "text/plain": [
       "3"
      ]
     },
     "execution_count": 29,
     "metadata": {},
     "output_type": "execute_result"
    }
   ],
   "source": [
    "def repeated(nums):\n",
    "    nums.sort()\n",
    "    left =0\n",
    "    right = len(nums)-1\n",
    "    \n",
    "    while left<= right:\n",
    "        mid = (left+right)//2\n",
    "        if nums[mid]<mid+1:         ##mid+1, because here i am doing comparison on teh basis of indedx values, note that the values in teh array does not start from 0\n",
    "            right=mid-1\n",
    "        else:\n",
    "            left = mid+1\n",
    "            \n",
    "    return nums[left]\n",
    "\n",
    "nums=[3,1,3,4,2]\n",
    "repeated(nums)"
   ]
  },
  {
   "cell_type": "markdown",
   "id": "316e114f",
   "metadata": {},
   "source": [
    "TC = n(log n)\n",
    "\n",
    "SC =O(1)"
   ]
  },
  {
   "cell_type": "markdown",
   "id": "63f09ecc",
   "metadata": {},
   "source": [
    "<aside>\n",
    "💡 **Question 5**\n",
    "\n",
    "Given two integer arrays `nums1` and `nums2`, return *an array of their intersection*. Each element in the result must be **unique** and you may return the result in **any order**.\n",
    "\n",
    "**Example 1:**\n",
    "\n",
    "```\n",
    "Input: nums1 = [1,2,2,1], nums2 = [2,2]\n",
    "Output: [2]\n",
    "\n",
    "```\n",
    "\n",
    "**Example 2:**\n",
    "\n",
    "</aside>"
   ]
  },
  {
   "cell_type": "code",
   "execution_count": 35,
   "id": "7a78fb87",
   "metadata": {},
   "outputs": [
    {
     "data": {
      "text/plain": [
       "{2}"
      ]
     },
     "execution_count": 35,
     "metadata": {},
     "output_type": "execute_result"
    }
   ],
   "source": [
    "def intersection(nums1, nums2):\n",
    "    nums1.sort()\n",
    "    nums2.sort()\n",
    "    result = set()\n",
    "    \n",
    "    for num in nums2:\n",
    "        if binary_search(nums1, num):\n",
    "            result.add(num)\n",
    "    return result\n",
    "    \n",
    "    \n",
    "def binary_search(nums, target):\n",
    "    left =0\n",
    "    right = len(nums)-1\n",
    "        \n",
    "    while left<= right:\n",
    "        mid = (left+right)//2\n",
    "        if nums[mid]==target:\n",
    "            return True\n",
    "        elif nums[mid]>target:\n",
    "            right = mid-1\n",
    "        else:\n",
    "            left = mid+1\n",
    "    return False\n",
    "\n",
    "\n",
    "nums1=[1,2,2,1]\n",
    "nums2= [2,2]\n",
    "\n",
    "intersection(nums1, nums2)"
   ]
  },
  {
   "cell_type": "markdown",
   "id": "d92281f1",
   "metadata": {},
   "source": [
    "TC = O(n log n)\n",
    "\n",
    "SC =O(min(m, n))"
   ]
  },
  {
   "cell_type": "markdown",
   "id": "13e2c157",
   "metadata": {},
   "source": [
    "<aside>\n",
    "💡 **Question 6**\n",
    "\n",
    "Suppose an array of length `n` sorted in ascending order is **rotated** between `1` and `n` times. For example, the array `nums = [0,1,2,4,5,6,7]` might become:\n",
    "\n",
    "- `[4,5,6,7,0,1,2]` if it was rotated `4` times.\n",
    "- `[0,1,2,4,5,6,7]` if it was rotated `7` times.\n",
    "\n",
    "Notice that **rotating** an array `[a[0], a[1], a[2], ..., a[n-1]]` 1 time results in the array `[a[n-1], a[0], a[1], a[2], ..., a[n-2]]`.\n",
    "\n",
    "Given the sorted rotated array `nums` of **unique** elements, return *the minimum element of this array*.\n",
    "\n",
    "You must write an algorithm that runs in `O(log n) time.`\n",
    "\n",
    "**Example 1:**\n",
    "\n",
    "```\n",
    "Input: nums = [3,4,5,1,2]\n",
    "Output: 1\n",
    "Explanation: The original array was [1,2,3,4,5] rotated 3 times.\n",
    "\n",
    "```\n",
    "\n",
    "**Example 2:**\n",
    "\n",
    "```\n",
    "Input: nums = [4,5,6,7,0,1,2]\n",
    "Output: 0\n",
    "Explanation: The original array was [0,1,2,4,5,6,7] and it was rotated 4 times.\n",
    "\n",
    "```\n",
    "\n",
    "**Example 3:**\n",
    "\n",
    "</aside>"
   ]
  },
  {
   "cell_type": "code",
   "execution_count": 33,
   "id": "f80883d5",
   "metadata": {},
   "outputs": [
    {
     "data": {
      "text/plain": [
       "0"
      ]
     },
     "execution_count": 33,
     "metadata": {},
     "output_type": "execute_result"
    }
   ],
   "source": [
    "def solution(nums):\n",
    "    left = 0\n",
    "    right = len(nums)-1\n",
    "    \n",
    "    while left<= right:\n",
    "        mid = (left+right)//2\n",
    "        if nums[mid]>right:\n",
    "            left = mid+1\n",
    "        else:\n",
    "            right = mid-1\n",
    "    return nums[left]\n",
    "\n",
    "nums=[4,5,6,7,0,1,2]\n",
    "solution(nums)"
   ]
  },
  {
   "cell_type": "markdown",
   "id": "d09a55ba",
   "metadata": {},
   "source": [
    "TC=O(log n)\n",
    "\n",
    "SC =O(1)"
   ]
  },
  {
   "cell_type": "markdown",
   "id": "d2256dba",
   "metadata": {},
   "source": [
    "<aside>\n",
    "💡 **Question 7**\n",
    "\n",
    "Given an array of integers `nums` sorted in non-decreasing order, find the starting and ending position of a given `target` value.\n",
    "\n",
    "If `target` is not found in the array, return `[-1, -1]`.\n",
    "\n",
    "You must write an algorithm with `O(log n)` runtime complexity.\n",
    "\n",
    "**Example 1:**\n",
    "\n",
    "```\n",
    "Input: nums = [5,7,7,8,8,10], target = 8\n",
    "Output: [3,4]\n",
    "\n",
    "```\n",
    "\n",
    "**Example 2:**\n",
    "\n",
    "```\n",
    "Input: nums = [5,7,7,8,8,10], target = 6\n",
    "Output: [-1,-1]\n",
    "\n",
    "```\n",
    "\n",
    "**Example 3:**\n",
    "\n",
    "</aside>"
   ]
  },
  {
   "cell_type": "code",
   "execution_count": 39,
   "id": "447ab04a",
   "metadata": {},
   "outputs": [
    {
     "data": {
      "text/plain": [
       "[1, 2]"
      ]
     },
     "execution_count": 39,
     "metadata": {},
     "output_type": "execute_result"
    }
   ],
   "source": [
    "def solution(nums, target):\n",
    "    left = 0\n",
    "    right = len(nums)-1\n",
    "    \n",
    "    while left<=right:\n",
    "        mid = (left+right)//2\n",
    "        result =[]\n",
    "        if nums[mid]==target:\n",
    "            if nums[mid-1]==target:\n",
    "                result.append(mid-1)\n",
    "                result.append(mid)\n",
    "                return result\n",
    "            elif nums[mid+1]==target:\n",
    "                result.append(mid)\n",
    "                result.append(mid+1)\n",
    "                return result\n",
    "        elif nums[mid]<target:\n",
    "            left = mid+1\n",
    "        else:\n",
    "            right=mid-1\n",
    "    \n",
    "    return [-1, -1]\n",
    "\n",
    "nums= [5,7,7,8,8,10]\n",
    "target=7\n",
    "solution(nums, target)"
   ]
  },
  {
   "cell_type": "markdown",
   "id": "1fa0588f",
   "metadata": {},
   "source": [
    "TC =O(log n)\n",
    "\n",
    "SC =O(1)"
   ]
  },
  {
   "cell_type": "markdown",
   "id": "882d4fc2",
   "metadata": {},
   "source": [
    "<aside>\n",
    "💡 **Question 8**\n",
    "\n",
    "Given two integer arrays `nums1` and `nums2`, return *an array of their intersection*. Each element in the result must appear as many times as it shows in both arrays and you may return the result in **any order**.\n",
    "\n",
    "**Example 1:**\n",
    "\n",
    "```\n",
    "Input: nums1 = [1,2,2,1], nums2 = [2,2]\n",
    "Output: [2,2]\n",
    "\n",
    "```\n",
    "\n",
    "**Example 2:**\n",
    "\n",
    "</aside>"
   ]
  },
  {
   "cell_type": "code",
   "execution_count": 34,
   "id": "0d983158",
   "metadata": {},
   "outputs": [
    {
     "data": {
      "text/plain": [
       "[2, 2]"
      ]
     },
     "execution_count": 34,
     "metadata": {},
     "output_type": "execute_result"
    }
   ],
   "source": [
    "def intersection(nums1, nums2):\n",
    "    nums1.sort()\n",
    "    nums2.sort()\n",
    "    result = []\n",
    "    \n",
    "    for num in nums2:\n",
    "        if binary_search(nums1, num):\n",
    "            result.append(num)\n",
    "    return result\n",
    "    \n",
    "    \n",
    "def binary_search(nums, target):\n",
    "    left =0\n",
    "    right = len(nums)-1\n",
    "        \n",
    "    while left<= right:\n",
    "        mid = (left+right)//2\n",
    "        if nums[mid]==target:\n",
    "            return True\n",
    "        elif nums[mid]>target:\n",
    "            right = mid-1\n",
    "        else:\n",
    "            left = mid+1\n",
    "    return False\n",
    "\n",
    "\n",
    "nums1=[1,2,2,1]\n",
    "nums2= [2,2]\n",
    "\n",
    "intersection(nums1, nums2)"
   ]
  },
  {
   "cell_type": "markdown",
   "id": "07e3fcbc",
   "metadata": {},
   "source": [
    "TC = O(n log n)\n",
    "\n",
    "SC =O(min(m, n))"
   ]
  },
  {
   "cell_type": "code",
   "execution_count": null,
   "id": "98c44be7",
   "metadata": {},
   "outputs": [],
   "source": []
  }
 ],
 "metadata": {
  "kernelspec": {
   "display_name": "Python 3 (ipykernel)",
   "language": "python",
   "name": "python3"
  },
  "language_info": {
   "codemirror_mode": {
    "name": "ipython",
    "version": 3
   },
   "file_extension": ".py",
   "mimetype": "text/x-python",
   "name": "python",
   "nbconvert_exporter": "python",
   "pygments_lexer": "ipython3",
   "version": "3.9.12"
  }
 },
 "nbformat": 4,
 "nbformat_minor": 5
}
